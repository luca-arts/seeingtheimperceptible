{
 "cells": [
  {
   "cell_type": "markdown",
   "metadata": {},
   "source": [
    "# library 1 in test\n",
    "\n",
    "we'll first evaluate a library before appending it to the topic_template.ipynb file.\n",
    "\n",
    "This way we want to keep a clean overview of already tested notebooks. If a notebook is still in <tests> then it's not working yet or we think we can iterate/improve on it."
   ]
  },
  {
   "cell_type": "code",
   "execution_count": null,
   "metadata": {},
   "outputs": [],
   "source": []
  }
 ],
 "metadata": {
  "language_info": {
   "name": "python"
  },
  "orig_nbformat": 4
 },
 "nbformat": 4,
 "nbformat_minor": 2
}
