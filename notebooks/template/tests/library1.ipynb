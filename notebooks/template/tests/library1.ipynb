{
 "cells": [
  {
   "cell_type": "markdown",
   "metadata": {},
   "source": [
    "# library 1 in test\n",
    "\n",
    "we'll first evaluate a library before appending it to the topic_template.ipynb file.\n",
    "\n",
    "This way we want to keep a clean overview of already tested notebooks. If a notebook is still in <tests> then it's not working yet or we think we can iterate/improve on it.",
    "\n",
    "<a href="https://colab.research.google.com/github/luca-arts/seeingtheimperceptible/blob/main/notebooks/template/test/library1.ipynb" target="_parent"><img src="https://colab.research.google.com/assets/colab-badge.svg" alt="Open In Colab"/></a>"
   ]
  },
  {
   "cell_type": "code",
   "execution_count": null,
   "metadata": {},
   "outputs": [],
   "source": []
  }
 ],
 "metadata": {
  "language_info": {
   "name": "python"
  },
  "orig_nbformat": 4
 },
 "nbformat": 4,
 "nbformat_minor": 2
}
