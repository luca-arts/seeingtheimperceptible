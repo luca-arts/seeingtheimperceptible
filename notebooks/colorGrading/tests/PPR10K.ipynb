{
  "nbformat": 4,
  "nbformat_minor": 0,
  "metadata": {
    "colab": {
      "name": "Untitled8.ipynb",
      "provenance": [],
      "collapsed_sections": [],
      "authorship_tag": "ABX9TyOCsAlJ9I/qPwyEa7jiDZ9s",
      "include_colab_link": true
    },
    "kernelspec": {
      "name": "python3",
      "display_name": "Python 3"
    },
    "language_info": {
      "name": "python"
    }
  },
  "cells": [
    {
      "cell_type": "markdown",
      "metadata": {
        "id": "view-in-github",
        "colab_type": "text"
      },
      "source": [
        "<a href=\"https://colab.research.google.com/github/luca-arts/seeingtheimperceptible/blob/main/notebooks/colorGrading/tests/PPR10K.ipynb\" target=\"_parent\"><img src=\"https://colab.research.google.com/assets/colab-badge.svg\" alt=\"Open In Colab\"/></a>"
      ]
    },
    {
      "cell_type": "markdown",
      "source": [
        "# Portrait Photo Retouching with PPR10K\n",
        "\n",
        "based on [PPR10K](https://github.com/csjliang/PPR10K)"
      ],
      "metadata": {
        "id": "p-kzVnWVEF9c"
      }
    },
    {
      "cell_type": "code",
      "source": [
        "# we'll link the dataset from next-cloud\n",
        "!curl https://raw.githubusercontent.com/luca-arts/seeingtheimperceptible/main/notebooks/database_mod.py -o /content/database_mod.py\n",
        "\n",
        "from database_mod import *\n",
        "\n",
        "link_nextcloud()\n",
        "\n",
        "nextcloud = '/content/database/'\n",
        "\n",
        "input_folder, output_folder = create_io(database=nextcloud,topic='colorGrading',library='LPTN')"
      ],
      "metadata": {
        "colab": {
          "base_uri": "https://localhost:8080/"
        },
        "id": "cIMu1hbVLHsU",
        "outputId": "8090d2bc-1dcb-4532-b611-ccf9f7b808e5"
      },
      "execution_count": 17,
      "outputs": [
        {
          "output_type": "stream",
          "name": "stdout",
          "text": [
            "  % Total    % Received % Xferd  Average Speed   Time    Time     Time  Current\n",
            "                                 Dload  Upload   Total   Spent    Left  Speed\n",
            "\r  0     0    0     0    0     0      0      0 --:--:-- --:--:-- --:--:--     0\r100  2235  100  2235    0     0  11175      0 --:--:-- --:--:-- --:--:-- 11119\r100  2235  100  2235    0     0  11175      0 --:--:-- --:--:-- --:--:-- 11119\n",
            "what's the username for nextcloud? colab\n",
            "what's the password for user colab? ··········\n",
            "0\n",
            "Please enter the username to authenticate with server\n",
            "https://cloud.bxlab.net/remote.php/dav/files/colab/colabfiles/ or hit enter for none.\n",
            "  Username: Please enter the password to authenticate user colab with server\n",
            "https://cloud.bxlab.net/remote.php/dav/files/colab/colabfiles/ or hit enter for none.\n",
            "  Password:  \n",
            "content of /etc/fstab: https://cloud.bxlab.net/remote.php/dav/files/colab/colabfiles/ /content/database davfs user,rw,auto 0 0\n"
          ]
        }
      ]
    },
    {
      "cell_type": "code",
      "execution_count": 9,
      "metadata": {
        "colab": {
          "base_uri": "https://localhost:8080/"
        },
        "id": "Oi0DsoYuD39n",
        "outputId": "82117805-3eea-4fab-a07f-05a38b93171c"
      },
      "outputs": [
        {
          "output_type": "stream",
          "name": "stdout",
          "text": [
            "fatal: destination path '/content/PPR10K' already exists and is not an empty directory.\n",
            "/content/PPR10K/code_3DLUT\n"
          ]
        }
      ],
      "source": [
        "import os\n",
        "!git clone https://github.com/csjliang/PPR10K /content/PPR10K\n",
        "root_path = '/content/PPR10K/code_3DLUT/'\n",
        "%cd {root_path}"
      ]
    },
    {
      "cell_type": "code",
      "source": [
        "!pip install -qr requirements"
      ],
      "metadata": {
        "colab": {
          "base_uri": "https://localhost:8080/"
        },
        "id": "2iKWLfkXEalv",
        "outputId": "b07eedea-6a0e-4842-c054-18e19209a472"
      },
      "execution_count": 4,
      "outputs": [
        {
          "output_type": "stream",
          "name": "stdout",
          "text": [
            "\u001b[K     |████████████████████████████████| 17.3 MB 7.6 MB/s \n",
            "\u001b[31mERROR: Could not find a version that satisfies the requirement PIL==5.4.1 (from versions: none)\u001b[0m\n",
            "\u001b[31mERROR: No matching distribution found for PIL==5.4.1\u001b[0m\n",
            "\u001b[?25h"
          ]
        }
      ]
    },
    {
      "cell_type": "code",
      "source": [
        "%cd trilinear_cpp/\n",
        "!sh setup.sh\n",
        "%cd {root_path}"
      ],
      "metadata": {
        "colab": {
          "base_uri": "https://localhost:8080/"
        },
        "id": "SIiMT977Fg5-",
        "outputId": "163209da-ecff-47b6-aaa5-97e20e166cdd"
      },
      "execution_count": 20,
      "outputs": [
        {
          "output_type": "stream",
          "name": "stdout",
          "text": [
            "/content/PPR10K/code_3DLUT/trilinear_cpp\n",
            "No CUDA runtime is found, using CUDA_HOME='/usr/local/cuda-10.2'\n",
            "NO CUDA is found. Fall back to CPU.\n",
            "running install\n",
            "running bdist_egg\n",
            "running egg_info\n",
            "writing trilinear.egg-info/PKG-INFO\n",
            "writing dependency_links to trilinear.egg-info/dependency_links.txt\n",
            "writing top-level names to trilinear.egg-info/top_level.txt\n",
            "/usr/local/lib/python3.7/dist-packages/torch/utils/cpp_extension.py:381: UserWarning: Attempted to use ninja as the BuildExtension backend but we could not find ninja.. Falling back to using the slow distutils backend.\n",
            "  warnings.warn(msg.format('we could not find ninja.'))\n",
            "writing manifest file 'trilinear.egg-info/SOURCES.txt'\n",
            "installing library code to build/bdist.linux-x86_64/egg\n",
            "running install_lib\n",
            "running build_ext\n",
            "creating build/bdist.linux-x86_64/egg\n",
            "copying build/lib.linux-x86_64-3.7/trilinear.cpython-37m-x86_64-linux-gnu.so -> build/bdist.linux-x86_64/egg\n",
            "creating stub loader for trilinear.cpython-37m-x86_64-linux-gnu.so\n",
            "byte-compiling build/bdist.linux-x86_64/egg/trilinear.py to trilinear.cpython-37.pyc\n",
            "creating build/bdist.linux-x86_64/egg/EGG-INFO\n",
            "copying trilinear.egg-info/PKG-INFO -> build/bdist.linux-x86_64/egg/EGG-INFO\n",
            "copying trilinear.egg-info/SOURCES.txt -> build/bdist.linux-x86_64/egg/EGG-INFO\n",
            "copying trilinear.egg-info/dependency_links.txt -> build/bdist.linux-x86_64/egg/EGG-INFO\n",
            "copying trilinear.egg-info/top_level.txt -> build/bdist.linux-x86_64/egg/EGG-INFO\n",
            "writing build/bdist.linux-x86_64/egg/EGG-INFO/native_libs.txt\n",
            "zip_safe flag not set; analyzing archive contents...\n",
            "__pycache__.trilinear.cpython-37: module references __file__\n",
            "creating 'dist/trilinear-0.0.0-py3.7-linux-x86_64.egg' and adding 'build/bdist.linux-x86_64/egg' to it\n",
            "removing 'build/bdist.linux-x86_64/egg' (and everything under it)\n",
            "Processing trilinear-0.0.0-py3.7-linux-x86_64.egg\n",
            "removing '/usr/local/lib/python3.7/dist-packages/trilinear-0.0.0-py3.7-linux-x86_64.egg' (and everything under it)\n",
            "creating /usr/local/lib/python3.7/dist-packages/trilinear-0.0.0-py3.7-linux-x86_64.egg\n",
            "Extracting trilinear-0.0.0-py3.7-linux-x86_64.egg to /usr/local/lib/python3.7/dist-packages\n",
            "trilinear 0.0.0 is already the active version in easy-install.pth\n",
            "\n",
            "Installed /usr/local/lib/python3.7/dist-packages/trilinear-0.0.0-py3.7-linux-x86_64.egg\n",
            "Processing dependencies for trilinear==0.0.0\n",
            "Finished processing dependencies for trilinear==0.0.0\n",
            "/content/PPR10K/code_3DLUT\n"
          ]
        }
      ]
    },
    {
      "cell_type": "markdown",
      "source": [
        "## download pretrained model"
      ],
      "metadata": {
        "id": "Ox1qfYqqFWzw"
      }
    },
    {
      "cell_type": "code",
      "source": [
        "!pip install --upgrade --no-cache-dir gdown"
      ],
      "metadata": {
        "colab": {
          "base_uri": "https://localhost:8080/"
        },
        "id": "uTZE14wLHiQU",
        "outputId": "2ab395a5-0652-4240-b9af-c49938e8f0b8"
      },
      "execution_count": 13,
      "outputs": [
        {
          "output_type": "stream",
          "name": "stdout",
          "text": [
            "Requirement already satisfied: gdown in /usr/local/lib/python3.7/dist-packages (4.2.2)\n",
            "Collecting gdown\n",
            "  Downloading gdown-4.4.0.tar.gz (14 kB)\n",
            "  Installing build dependencies ... \u001b[?25l\u001b[?25hdone\n",
            "  Getting requirements to build wheel ... \u001b[?25l\u001b[?25hdone\n",
            "    Preparing wheel metadata ... \u001b[?25l\u001b[?25hdone\n",
            "Requirement already satisfied: beautifulsoup4 in /usr/local/lib/python3.7/dist-packages (from gdown) (4.6.3)\n",
            "Requirement already satisfied: filelock in /usr/local/lib/python3.7/dist-packages (from gdown) (3.6.0)\n",
            "Requirement already satisfied: tqdm in /usr/local/lib/python3.7/dist-packages (from gdown) (4.63.0)\n",
            "Requirement already satisfied: six in /usr/local/lib/python3.7/dist-packages (from gdown) (1.15.0)\n",
            "Requirement already satisfied: requests[socks] in /usr/local/lib/python3.7/dist-packages (from gdown) (2.23.0)\n",
            "Requirement already satisfied: idna<3,>=2.5 in /usr/local/lib/python3.7/dist-packages (from requests[socks]->gdown) (2.10)\n",
            "Requirement already satisfied: chardet<4,>=3.0.2 in /usr/local/lib/python3.7/dist-packages (from requests[socks]->gdown) (3.0.4)\n",
            "Requirement already satisfied: certifi>=2017.4.17 in /usr/local/lib/python3.7/dist-packages (from requests[socks]->gdown) (2021.10.8)\n",
            "Requirement already satisfied: urllib3!=1.25.0,!=1.25.1,<1.26,>=1.21.1 in /usr/local/lib/python3.7/dist-packages (from requests[socks]->gdown) (1.24.3)\n",
            "Requirement already satisfied: PySocks!=1.5.7,>=1.5.6 in /usr/local/lib/python3.7/dist-packages (from requests[socks]->gdown) (1.7.1)\n",
            "Building wheels for collected packages: gdown\n",
            "  Building wheel for gdown (PEP 517) ... \u001b[?25l\u001b[?25hdone\n",
            "  Created wheel for gdown: filename=gdown-4.4.0-py3-none-any.whl size=14774 sha256=b62450db3a819159b178d110f04e14c2da22b395bc9bc345f4e9b00e8e0baa38\n",
            "  Stored in directory: /tmp/pip-ephem-wheel-cache-9_hs5j5y/wheels/fb/c3/0e/c4d8ff8bfcb0461afff199471449f642179b74968c15b7a69c\n",
            "Successfully built gdown\n",
            "Installing collected packages: gdown\n",
            "  Attempting uninstall: gdown\n",
            "    Found existing installation: gdown 4.2.2\n",
            "    Uninstalling gdown-4.2.2:\n",
            "      Successfully uninstalled gdown-4.2.2\n",
            "Successfully installed gdown-4.4.0\n"
          ]
        }
      ]
    },
    {
      "cell_type": "markdown",
      "source": [
        "we download the pretrained models (stored on nextcloud) and place them in the right folder"
      ],
      "metadata": {
        "id": "Tb2MPOPsPgyl"
      }
    },
    {
      "cell_type": "code",
      "source": [
        "import shutil\n",
        "# check first if exist, otherwise create path\n",
        "pretrained_pth = os.path.join(root_path,'saved_models')\n",
        "\n",
        "pretrained_zips = '/content/database/colorGrading/PPR10K_pretrained_models.zip'\n",
        "\n",
        "if not os.path.exists(pretrained_pth):\n",
        "  !unzip -q {pretrained_zips} -d {pretrained_pth}\n",
        "for i in os.listdir(os.path.join(pretrained_pth,'pretrained_models')):  \n",
        "  shutil.move(os.path.join(pretrained_pth,'pretrained_models',i),pretrained_pth, copy_function = shutil.copytree)"
      ],
      "metadata": {
        "id": "t_8gp4CnEftc"
      },
      "execution_count": 35,
      "outputs": []
    },
    {
      "cell_type": "code",
      "source": [
        "%cd {root_path}\n",
        "!python validation.py --data_path {input_folder} --gpu_id 0 --model_dir mask_noglc_a --epoch -1"
      ],
      "metadata": {
        "colab": {
          "base_uri": "https://localhost:8080/"
        },
        "id": "XwVlarY8GdWb",
        "outputId": "fb47ca5c-8368-4312-8058-0eaa65c04f32"
      },
      "execution_count": 31,
      "outputs": [
        {
          "output_type": "stream",
          "name": "stdout",
          "text": [
            "/content/PPR10K/code_3DLUT\n",
            "Traceback (most recent call last):\n",
            "  File \"validation.py\", line 44, in <module>\n",
            "    LUTs = torch.load(\"saved_models/%s/LUTs_%d.pth\" % (opt.model_dir, opt.epoch))\n",
            "  File \"/usr/local/lib/python3.7/dist-packages/torch/serialization.py\", line 608, in load\n",
            "    return _legacy_load(opened_file, map_location, pickle_module, **pickle_load_args)\n",
            "  File \"/usr/local/lib/python3.7/dist-packages/torch/serialization.py\", line 787, in _legacy_load\n",
            "    result = unpickler.load()\n",
            "  File \"/usr/local/lib/python3.7/dist-packages/torch/serialization.py\", line 743, in persistent_load\n",
            "    deserialized_objects[root_key] = restore_location(obj, location)\n",
            "  File \"/usr/local/lib/python3.7/dist-packages/torch/serialization.py\", line 175, in default_restore_location\n",
            "    result = fn(storage, location)\n",
            "  File \"/usr/local/lib/python3.7/dist-packages/torch/serialization.py\", line 151, in _cuda_deserialize\n",
            "    device = validate_cuda_device(location)\n",
            "  File \"/usr/local/lib/python3.7/dist-packages/torch/serialization.py\", line 135, in validate_cuda_device\n",
            "    raise RuntimeError('Attempting to deserialize object on a CUDA '\n",
            "RuntimeError: Attempting to deserialize object on a CUDA device but torch.cuda.is_available() is False. If you are running on a CPU-only machine, please use torch.load with map_location=torch.device('cpu') to map your storages to the CPU.\n"
          ]
        }
      ]
    },
    {
      "cell_type": "code",
      "source": [
        ""
      ],
      "metadata": {
        "id": "UykElUntMmSq"
      },
      "execution_count": null,
      "outputs": []
    }
  ]
}