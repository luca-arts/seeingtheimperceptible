{
  "nbformat": 4,
  "nbformat_minor": 0,
  "metadata": {
    "colab": {
      "name": "Untitled4.ipynb",
      "provenance": [],
      "include_colab_link": true
    },
    "kernelspec": {
      "name": "python3",
      "display_name": "Python 3"
    },
    "language_info": {
      "name": "python"
    }
  },
  "cells": [
    {
      "cell_type": "markdown",
      "metadata": {
        "id": "view-in-github",
        "colab_type": "text"
      },
      "source": [
        "<a href=\"https://colab.research.google.com/github/luca-arts/seeingtheimperceptible/blob/main/notebooks/colorGrading/tests/LPTN.ipynb\" target=\"_parent\"><img src=\"https://colab.research.google.com/assets/colab-badge.svg\" alt=\"Open In Colab\"/></a>"
      ]
    },
    {
      "cell_type": "markdown",
      "source": [
        "## 1. Color grading via LPTN\n",
        "\n",
        "[https://github.com/csjliang/LPTN](https://github.com/csjliang/LPTN)\n"
      ],
      "metadata": {
        "id": "Oka582cduBH-"
      }
    },
    {
      "cell_type": "code",
      "execution_count": 1,
      "metadata": {
        "colab": {
          "base_uri": "https://localhost:8080/"
        },
        "id": "1FCPYo3Wt6IL",
        "outputId": "1ec280c1-9bc1-4b73-d276-9124503c4f1a"
      },
      "outputs": [
        {
          "output_type": "stream",
          "name": "stdout",
          "text": [
            "\n",
            "WARNING: apt does not have a stable CLI interface. Use with caution in scripts.\n",
            "\n",
            "Please enter the username to authenticate with server\n",
            "https://cloud.bxlab.net/remote.php/dav/files/colab/colabfiles/ or hit enter for none.\n",
            "  Username: colab\n",
            "Please enter the password to authenticate user colab with server\n",
            "https://cloud.bxlab.net/remote.php/dav/files/colab/colabfiles/ or hit enter for none.\n",
            "  Password:  \n",
            "/sbin/mount.davfs: warning: the server does not support locks\n",
            "txtContent: https://cloud.bxlab.net/remote.php/dav/files/colab/colabfiles/ /content/nextcloud davfs user,rw,auto 0 0\n"
          ]
        }
      ],
      "source": [
        "# we'll link the dataset from next-cloud\n",
        "import os\n",
        "!apt install -y davfs2  > /dev/null\n",
        "\n",
        "nextcloud = \"/content/nextcloud\"\n",
        "Nextcloud_URL = \"https://cloud.bxlab.net/remote.php/dav/files/colab/colabfiles/\" #@param {type:\"string\"}\n",
        "\n",
        "os.makedirs(nextcloud, exist_ok=True)\n",
        "\n",
        "\n",
        "if os.path.isfile(\"/etc/fstab\"):\n",
        "  os.remove(\"/etc/fstab\")\n",
        "with open(\"/etc/fstab\" , \"a\") as f:\n",
        "  f.write(Nextcloud_URL + \" \" + nextcloud + \" davfs user,rw,auto 0 0\")\n",
        "!mount {nextcloud}\n",
        "\n",
        "# open existing text file\n",
        "txt = \"/etc/fstab\"\n",
        "viewTxt = open(txt, \"r\")\n",
        "txtContent = viewTxt.read()\n",
        "print(\"txtContent: {}\".format(txtContent))"
      ]
    },
    {
      "cell_type": "markdown",
      "source": [
        "## 2. create I/O folders"
      ],
      "metadata": {
        "id": "Y5M08204u_2L"
      }
    },
    {
      "cell_type": "code",
      "source": [
        "import shutil\n",
        "from google.colab import files\n",
        "\n",
        "def create_io(database, topic, library):\n",
        "  # clean and rebuild the image folders\n",
        "  input_folder = database+'/'+topic\n",
        "  # '/content/nextcloud/colorGrading'\n",
        "  # if os.path.exists(input_folder):\n",
        "  #   shutil.rmtree(input_folder)\n",
        "  # os.makedirs(input_folder)\n",
        "\n",
        "  output_folder = database+'/'+topic+'/'+library# '/content/nextcloud/colorGrading/output'\n",
        "  if os.path.exists(output_folder):\n",
        "    shutil.rmtree(output_folder)\n",
        "  os.makedirs(output_folder)\n",
        "  return input_folder, output_folder\n",
        "\n",
        "input_folder, output_folder = create_io('/content/nextcloud','colorGrading','LPTN')"
      ],
      "metadata": {
        "id": "LVtLduuauJLm"
      },
      "execution_count": 2,
      "outputs": []
    },
    {
      "cell_type": "code",
      "source": [
        "os.listdir(input_folder)"
      ],
      "metadata": {
        "colab": {
          "base_uri": "https://localhost:8080/"
        },
        "id": "63ciVxqFwHAq",
        "outputId": "134fe5d7-cb18-480b-b76e-bb4c2f2e55a5"
      },
      "execution_count": 3,
      "outputs": [
        {
          "output_type": "execute_result",
          "data": {
            "text/plain": [
              "['LPTN',\n",
              " '.ipynb_checkpoints',\n",
              " 'LB_0001.jpg',\n",
              " 'LB_0002.jpg',\n",
              " 'LB_0003.jpg',\n",
              " 'LB_0004.jpg',\n",
              " 'LB_0005.jpg',\n",
              " 'LB_0006.jpg',\n",
              " 'LB_0007.jpg',\n",
              " 'LB_0008.jpg',\n",
              " 'LB_0009.jpg',\n",
              " 'LB_0010.jpg',\n",
              " 'LB_0011.jpg',\n",
              " 'LB_0012.jpg',\n",
              " 'LB_0013.jpg',\n",
              " 'LB_0014.jpg',\n",
              " 'LB_0015.jpg',\n",
              " 'LB_0016.jpg',\n",
              " 'LB_0017.jpg',\n",
              " 'LB_0018.jpg',\n",
              " 'LB_0019.jpg',\n",
              " 'LB_0020.jpg',\n",
              " 'LB_0021.jpg',\n",
              " 'LB_0022.jpg',\n",
              " 'LB_0023.jpg',\n",
              " 'LB_0024.jpg',\n",
              " 'LB_0025.jpg',\n",
              " 'LB_0026.jpg',\n",
              " 'LB_0027.jpg',\n",
              " 'LB_0028.jpg',\n",
              " 'LB_0029.jpg',\n",
              " 'LB_0030.jpg',\n",
              " 'LB_0031.jpg',\n",
              " 'LB_0032.jpg',\n",
              " 'LB_0033.jpg',\n",
              " 'LB_0034.jpg',\n",
              " 'LB_0035.jpg',\n",
              " 'LB_0036.jpg',\n",
              " 'LB_0037.jpg',\n",
              " 'LB_0038.jpg',\n",
              " 'LB_0039.jpg',\n",
              " 'LB_0040.jpg',\n",
              " 'LB_0041.jpg',\n",
              " 'LB_0042.jpg',\n",
              " 'LB_0043.jpg',\n",
              " 'LB_0044.jpg',\n",
              " 'LB_0045.jpg',\n",
              " 'LB_0046.jpg',\n",
              " 'LB_0047.jpg',\n",
              " 'LB_0048.jpg',\n",
              " 'LB_0049.jpg',\n",
              " 'LB_0050.jpg']"
            ]
          },
          "metadata": {},
          "execution_count": 3
        }
      ]
    },
    {
      "cell_type": "code",
      "source": [
        "print(output_folder)"
      ],
      "metadata": {
        "colab": {
          "base_uri": "https://localhost:8080/"
        },
        "id": "qA8o3EA0wh_T",
        "outputId": "d7a5172e-7694-4b99-92e7-76f4e43b5376"
      },
      "execution_count": 4,
      "outputs": [
        {
          "output_type": "stream",
          "name": "stdout",
          "text": [
            "/content/nextcloud/colorGrading/LPTN\n"
          ]
        }
      ]
    },
    {
      "cell_type": "code",
      "source": [
        "%ls"
      ],
      "metadata": {
        "id": "OKmb5wbLwj59",
        "outputId": "5a141c32-c26c-440e-c48f-0389305ec381",
        "colab": {
          "base_uri": "https://localhost:8080/"
        }
      },
      "execution_count": 5,
      "outputs": [
        {
          "output_type": "stream",
          "name": "stdout",
          "text": [
            "\u001b[0m\u001b[01;34mnextcloud\u001b[0m/  \u001b[01;34msample_data\u001b[0m/\n"
          ]
        }
      ]
    },
    {
      "cell_type": "markdown",
      "source": [
        "## 3. Clone the Git repository"
      ],
      "metadata": {
        "id": "HiiAOBc-vTPL"
      }
    },
    {
      "cell_type": "code",
      "source": [
        "# clone the repository\n",
        "%cd /content\n",
        "if not os.path.exists('LPTN'):\n",
        "  !git clone https://github.com/csjliang/LPTN\n",
        "%cd LPTN/"
      ],
      "metadata": {
        "id": "bbAS06muwjiD",
        "outputId": "a7b47baf-631d-4df0-8468-890faacc3c0e",
        "colab": {
          "base_uri": "https://localhost:8080/"
        }
      },
      "execution_count": 6,
      "outputs": [
        {
          "output_type": "stream",
          "name": "stdout",
          "text": [
            "/content\n",
            "Cloning into 'LPTN'...\n",
            "remote: Enumerating objects: 107, done.\u001b[K\n",
            "remote: Counting objects: 100% (107/107), done.\u001b[K\n",
            "remote: Compressing objects: 100% (89/89), done.\u001b[K\n",
            "remote: Total 107 (delta 26), reused 67 (delta 6), pack-reused 0\u001b[K\n",
            "Receiving objects: 100% (107/107), 263.69 KiB | 6.13 MiB/s, done.\n",
            "Resolving deltas: 100% (26/26), done.\n",
            "/content/LPTN\n"
          ]
        }
      ]
    },
    {
      "cell_type": "markdown",
      "source": [
        "## 4. install dependencies"
      ],
      "metadata": {
        "id": "zJsUSddIw42B"
      }
    },
    {
      "cell_type": "code",
      "source": [
        "!pip install -r requirement.txt"
      ],
      "metadata": {
        "id": "Qn5AaWfHw5af",
        "outputId": "ff4bb0e6-8fc5-478c-86b1-b30c106990e7",
        "colab": {
          "base_uri": "https://localhost:8080/"
        }
      },
      "execution_count": 7,
      "outputs": [
        {
          "output_type": "stream",
          "name": "stdout",
          "text": [
            "Collecting addict\n",
            "  Downloading addict-2.4.0-py3-none-any.whl (3.8 kB)\n",
            "Requirement already satisfied: future in /usr/local/lib/python3.7/dist-packages (from -r requirement.txt (line 2)) (0.16.0)\n",
            "Requirement already satisfied: lmdb in /usr/local/lib/python3.7/dist-packages (from -r requirement.txt (line 3)) (0.99)\n",
            "Requirement already satisfied: numpy in /usr/local/lib/python3.7/dist-packages (from -r requirement.txt (line 4)) (1.21.5)\n",
            "Requirement already satisfied: opencv-python in /usr/local/lib/python3.7/dist-packages (from -r requirement.txt (line 5)) (4.1.2.30)\n",
            "Requirement already satisfied: Pillow in /usr/local/lib/python3.7/dist-packages (from -r requirement.txt (line 6)) (7.1.2)\n",
            "Requirement already satisfied: pyyaml in /usr/local/lib/python3.7/dist-packages (from -r requirement.txt (line 7)) (3.13)\n",
            "Requirement already satisfied: requests in /usr/local/lib/python3.7/dist-packages (from -r requirement.txt (line 8)) (2.23.0)\n",
            "Requirement already satisfied: scikit-image in /usr/local/lib/python3.7/dist-packages (from -r requirement.txt (line 9)) (0.18.3)\n",
            "Requirement already satisfied: scipy in /usr/local/lib/python3.7/dist-packages (from -r requirement.txt (line 10)) (1.4.1)\n",
            "Collecting tb-nightly\n",
            "  Downloading tb_nightly-2.9.0a20220307-py3-none-any.whl (5.8 MB)\n",
            "\u001b[K     |████████████████████████████████| 5.8 MB 3.1 MB/s \n",
            "\u001b[?25hRequirement already satisfied: torch>=1.3 in /usr/local/lib/python3.7/dist-packages (from -r requirement.txt (line 12)) (1.10.0+cu111)\n",
            "Requirement already satisfied: torchvision in /usr/local/lib/python3.7/dist-packages (from -r requirement.txt (line 13)) (0.11.1+cu111)\n",
            "Requirement already satisfied: tqdm in /usr/local/lib/python3.7/dist-packages (from -r requirement.txt (line 14)) (4.63.0)\n",
            "Collecting yapf\n",
            "  Downloading yapf-0.32.0-py2.py3-none-any.whl (190 kB)\n",
            "\u001b[K     |████████████████████████████████| 190 kB 50.2 MB/s \n",
            "\u001b[?25hRequirement already satisfied: typing-extensions in /usr/local/lib/python3.7/dist-packages (from torch>=1.3->-r requirement.txt (line 12)) (3.10.0.2)\n",
            "Requirement already satisfied: urllib3!=1.25.0,!=1.25.1,<1.26,>=1.21.1 in /usr/local/lib/python3.7/dist-packages (from requests->-r requirement.txt (line 8)) (1.24.3)\n",
            "Requirement already satisfied: chardet<4,>=3.0.2 in /usr/local/lib/python3.7/dist-packages (from requests->-r requirement.txt (line 8)) (3.0.4)\n",
            "Requirement already satisfied: certifi>=2017.4.17 in /usr/local/lib/python3.7/dist-packages (from requests->-r requirement.txt (line 8)) (2021.10.8)\n",
            "Requirement already satisfied: idna<3,>=2.5 in /usr/local/lib/python3.7/dist-packages (from requests->-r requirement.txt (line 8)) (2.10)\n",
            "Requirement already satisfied: matplotlib!=3.0.0,>=2.0.0 in /usr/local/lib/python3.7/dist-packages (from scikit-image->-r requirement.txt (line 9)) (3.2.2)\n",
            "Requirement already satisfied: networkx>=2.0 in /usr/local/lib/python3.7/dist-packages (from scikit-image->-r requirement.txt (line 9)) (2.6.3)\n",
            "Requirement already satisfied: imageio>=2.3.0 in /usr/local/lib/python3.7/dist-packages (from scikit-image->-r requirement.txt (line 9)) (2.4.1)\n",
            "Requirement already satisfied: PyWavelets>=1.1.1 in /usr/local/lib/python3.7/dist-packages (from scikit-image->-r requirement.txt (line 9)) (1.2.0)\n",
            "Requirement already satisfied: tifffile>=2019.7.26 in /usr/local/lib/python3.7/dist-packages (from scikit-image->-r requirement.txt (line 9)) (2021.11.2)\n",
            "Requirement already satisfied: python-dateutil>=2.1 in /usr/local/lib/python3.7/dist-packages (from matplotlib!=3.0.0,>=2.0.0->scikit-image->-r requirement.txt (line 9)) (2.8.2)\n",
            "Requirement already satisfied: cycler>=0.10 in /usr/local/lib/python3.7/dist-packages (from matplotlib!=3.0.0,>=2.0.0->scikit-image->-r requirement.txt (line 9)) (0.11.0)\n",
            "Requirement already satisfied: kiwisolver>=1.0.1 in /usr/local/lib/python3.7/dist-packages (from matplotlib!=3.0.0,>=2.0.0->scikit-image->-r requirement.txt (line 9)) (1.3.2)\n",
            "Requirement already satisfied: pyparsing!=2.0.4,!=2.1.2,!=2.1.6,>=2.0.1 in /usr/local/lib/python3.7/dist-packages (from matplotlib!=3.0.0,>=2.0.0->scikit-image->-r requirement.txt (line 9)) (3.0.7)\n",
            "Requirement already satisfied: six>=1.5 in /usr/local/lib/python3.7/dist-packages (from python-dateutil>=2.1->matplotlib!=3.0.0,>=2.0.0->scikit-image->-r requirement.txt (line 9)) (1.15.0)\n",
            "Requirement already satisfied: wheel>=0.26 in /usr/local/lib/python3.7/dist-packages (from tb-nightly->-r requirement.txt (line 11)) (0.37.1)\n",
            "Requirement already satisfied: tensorboard-data-server<0.7.0,>=0.6.0 in /usr/local/lib/python3.7/dist-packages (from tb-nightly->-r requirement.txt (line 11)) (0.6.1)\n",
            "Requirement already satisfied: grpcio>=1.24.3 in /usr/local/lib/python3.7/dist-packages (from tb-nightly->-r requirement.txt (line 11)) (1.44.0)\n",
            "Requirement already satisfied: protobuf>=3.9.2 in /usr/local/lib/python3.7/dist-packages (from tb-nightly->-r requirement.txt (line 11)) (3.17.3)\n",
            "Requirement already satisfied: setuptools>=41.0.0 in /usr/local/lib/python3.7/dist-packages (from tb-nightly->-r requirement.txt (line 11)) (57.4.0)\n",
            "Requirement already satisfied: tensorboard-plugin-wit>=1.6.0 in /usr/local/lib/python3.7/dist-packages (from tb-nightly->-r requirement.txt (line 11)) (1.8.1)\n",
            "Requirement already satisfied: google-auth-oauthlib<0.5,>=0.4.1 in /usr/local/lib/python3.7/dist-packages (from tb-nightly->-r requirement.txt (line 11)) (0.4.6)\n",
            "Requirement already satisfied: werkzeug>=0.11.15 in /usr/local/lib/python3.7/dist-packages (from tb-nightly->-r requirement.txt (line 11)) (1.0.1)\n",
            "Requirement already satisfied: google-auth<3,>=1.6.3 in /usr/local/lib/python3.7/dist-packages (from tb-nightly->-r requirement.txt (line 11)) (1.35.0)\n",
            "Requirement already satisfied: markdown>=2.6.8 in /usr/local/lib/python3.7/dist-packages (from tb-nightly->-r requirement.txt (line 11)) (3.3.6)\n",
            "Requirement already satisfied: absl-py>=0.4 in /usr/local/lib/python3.7/dist-packages (from tb-nightly->-r requirement.txt (line 11)) (1.0.0)\n",
            "Requirement already satisfied: cachetools<5.0,>=2.0.0 in /usr/local/lib/python3.7/dist-packages (from google-auth<3,>=1.6.3->tb-nightly->-r requirement.txt (line 11)) (4.2.4)\n",
            "Requirement already satisfied: rsa<5,>=3.1.4 in /usr/local/lib/python3.7/dist-packages (from google-auth<3,>=1.6.3->tb-nightly->-r requirement.txt (line 11)) (4.8)\n",
            "Requirement already satisfied: pyasn1-modules>=0.2.1 in /usr/local/lib/python3.7/dist-packages (from google-auth<3,>=1.6.3->tb-nightly->-r requirement.txt (line 11)) (0.2.8)\n",
            "Requirement already satisfied: requests-oauthlib>=0.7.0 in /usr/local/lib/python3.7/dist-packages (from google-auth-oauthlib<0.5,>=0.4.1->tb-nightly->-r requirement.txt (line 11)) (1.3.1)\n",
            "Requirement already satisfied: importlib-metadata>=4.4 in /usr/local/lib/python3.7/dist-packages (from markdown>=2.6.8->tb-nightly->-r requirement.txt (line 11)) (4.11.2)\n",
            "Requirement already satisfied: zipp>=0.5 in /usr/local/lib/python3.7/dist-packages (from importlib-metadata>=4.4->markdown>=2.6.8->tb-nightly->-r requirement.txt (line 11)) (3.7.0)\n",
            "Requirement already satisfied: pyasn1<0.5.0,>=0.4.6 in /usr/local/lib/python3.7/dist-packages (from pyasn1-modules>=0.2.1->google-auth<3,>=1.6.3->tb-nightly->-r requirement.txt (line 11)) (0.4.8)\n",
            "Requirement already satisfied: oauthlib>=3.0.0 in /usr/local/lib/python3.7/dist-packages (from requests-oauthlib>=0.7.0->google-auth-oauthlib<0.5,>=0.4.1->tb-nightly->-r requirement.txt (line 11)) (3.2.0)\n",
            "Installing collected packages: yapf, tb-nightly, addict\n",
            "Successfully installed addict-2.4.0 tb-nightly-2.9.0a20220307 yapf-0.32.0\n"
          ]
        }
      ]
    },
    {
      "cell_type": "markdown",
      "source": [
        "## 5. Pretrained dataSet download"
      ],
      "metadata": {
        "id": "WIu3lf_uyVXi"
      }
    },
    {
      "cell_type": "code",
      "source": [
        "# dowload the pre-trained model for colorgrading\n",
        "%cd /content/LPTN/experiments/\n",
        "\n",
        "# check first if exist, otherwise create path\n",
        "pretrained_pth = 'pretrained_models/net_g_FiveK_numhigh3.pth'\n",
        "\n",
        "if not os.path.exists(pretrained_pth):\n",
        "  !gdown --id 11yuFgHqZe9e4OheJ9YHp9lS-4kQC1Fml \\\n",
        "          -O pretrained_models/net_g_FiveK_numhigh3.pth"
      ],
      "metadata": {
        "id": "S1VOs015yVoT",
        "outputId": "88483a2d-ac5a-4c69-b3b5-b395c05540fd",
        "colab": {
          "base_uri": "https://localhost:8080/"
        }
      },
      "execution_count": 13,
      "outputs": [
        {
          "output_type": "stream",
          "name": "stdout",
          "text": [
            "/content/LPTN/experiments\n",
            "Downloading...\n",
            "From: https://drive.google.com/uc?id=11yuFgHqZe9e4OheJ9YHp9lS-4kQC1Fml\n",
            "To: /content/LPTN/experiments/pretrained_models/net_g_FiveK_numhigh3.pth\n",
            "100% 2.48M/2.48M [00:00<00:00, 53.7MB/s]\n"
          ]
        }
      ]
    },
    {
      "cell_type": "markdown",
      "source": [
        "## 6. install pyYAML and update the YAML file with correct path for pretrained_models"
      ],
      "metadata": {
        "id": "MSFTceQ89GUv"
      }
    },
    {
      "cell_type": "code",
      "source": [
        "!pip install pyYAML\n",
        "\n",
        "import yaml\n",
        "\n",
        "# dowload the pre-trained model for colorgrading\n",
        "%cd /content/LPTN/options/test/LPTN/\n",
        " \n",
        "def read_yaml():\n",
        "    \"\"\" A function to read YAML file\"\"\"\n",
        "    with open('test_FiveK.yml') as f:\n",
        "        config = yaml.safe_load(f)\n",
        " \n",
        "    return config\n",
        "\n",
        "read_yaml()"
      ],
      "metadata": {
        "id": "_EtdxUxI9axB"
      },
      "execution_count": null,
      "outputs": []
    },
    {
      "cell_type": "markdown",
      "source": [
        "## 7. Evaluation"
      ],
      "metadata": {
        "id": "hYOqeKOqEcep"
      }
    },
    {
      "cell_type": "code",
      "source": [
        "! /content/LPTN/codes/test.py -opt options/test/LPTN/test_FiveK.yml\n"
      ],
      "metadata": {
        "id": "duiptbuiEgCL",
        "outputId": "f0877188-9fe1-47f8-96a7-86aab6b51f14",
        "colab": {
          "base_uri": "https://localhost:8080/"
        }
      },
      "execution_count": 36,
      "outputs": [
        {
          "output_type": "stream",
          "name": "stdout",
          "text": [
            "/bin/bash: /content/LPTN/codes/test.py: Permission denied\n"
          ]
        }
      ]
    },
    {
      "cell_type": "code",
      "source": [
        "\n",
        "! /content/LPTN/codes/test_speed.py -opt options/test/LPTN/test_speed_FiveK.yml"
      ],
      "metadata": {
        "id": "CVQjwHgWGK9m",
        "outputId": "f9f40923-02ed-4252-cb3c-ece02d51fc1d",
        "colab": {
          "base_uri": "https://localhost:8080/"
        }
      },
      "execution_count": 37,
      "outputs": [
        {
          "output_type": "stream",
          "name": "stdout",
          "text": [
            "/bin/bash: /content/LPTN/codes/test_speed.py: Permission denied\n"
          ]
        }
      ]
    }
  ]
}