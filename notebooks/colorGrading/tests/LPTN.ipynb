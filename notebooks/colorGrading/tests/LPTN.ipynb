{
  "nbformat": 4,
  "nbformat_minor": 0,
  "metadata": {
    "colab": {
      "name": "Untitled4.ipynb",
      "provenance": [],
      "history_visible": true,
      "include_colab_link": true
    },
    "kernelspec": {
      "name": "python3",
      "display_name": "Python 3"
    },
    "language_info": {
      "name": "python"
    }
  },
  "cells": [
    {
      "cell_type": "markdown",
      "metadata": {
        "id": "view-in-github",
        "colab_type": "text"
      },
      "source": [
        "<a href=\"https://colab.research.google.com/github/luca-arts/seeingtheimperceptible/blob/main/notebooks/colorGrading/tests/LPTN.ipynb\" target=\"_parent\"><img src=\"https://colab.research.google.com/assets/colab-badge.svg\" alt=\"Open In Colab\"/></a>"
      ]
    },
    {
      "cell_type": "markdown",
      "source": [
        "## 1. Color grading via LPTN\n",
        "\n",
        "[https://github.com/csjliang/LPTN](https://github.com/csjliang/LPTN)\n"
      ],
      "metadata": {
        "id": "Oka582cduBH-"
      }
    },
    {
      "cell_type": "code",
      "execution_count": 39,
      "metadata": {
        "id": "1FCPYo3Wt6IL",
        "outputId": "517c2705-f48c-46a1-bd93-0e585bef7ade",
        "colab": {
          "base_uri": "https://localhost:8080/"
        }
      },
      "outputs": [
        {
          "output_type": "stream",
          "name": "stdout",
          "text": [
            "\n",
            "WARNING: apt does not have a stable CLI interface. Use with caution in scripts.\n",
            "\n",
            "Please enter the username to authenticate with server\n",
            "https://cloud.bxlab.net/remote.php/dav/files/colab/colabfiles/ or hit enter for none.\n",
            "  Username: colab\n",
            "Please enter the password to authenticate user colab with server\n",
            "https://cloud.bxlab.net/remote.php/dav/files/colab/colabfiles/ or hit enter for none.\n",
            "  Password:  \n",
            "/sbin/mount.davfs: https://cloud.bxlab.net/remote.php/dav/files/colab/colabfiles/ is already mounted on /content/nextcloud\n",
            "txtContent: https://cloud.bxlab.net/remote.php/dav/files/colab/colabfiles/ /content/nextcloud davfs user,rw,auto 0 0\n"
          ]
        }
      ],
      "source": [
        "# we'll link the dataset from next-cloud\n",
        "import os\n",
        "!apt install -y davfs2  > /dev/null\n",
        "\n",
        "nextcloud = \"/content/nextcloud\"\n",
        "Nextcloud_URL = \"https://cloud.bxlab.net/remote.php/dav/files/colab/colabfiles/\" #@param {type:\"string\"}\n",
        "\n",
        "os.makedirs(nextcloud, exist_ok=True)\n",
        "\n",
        "\n",
        "if os.path.isfile(\"/etc/fstab\"):\n",
        "  os.remove(\"/etc/fstab\")\n",
        "with open(\"/etc/fstab\" , \"a\") as f:\n",
        "  f.write(Nextcloud_URL + \" \" + nextcloud + \" davfs user,rw,auto 0 0\")\n",
        "!mount {nextcloud}\n",
        "\n",
        "# open existing text file\n",
        "txt = \"/etc/fstab\"\n",
        "viewTxt = open(txt, \"r\")\n",
        "txtContent = viewTxt.read()\n",
        "print(\"txtContent: {}\".format(txtContent))"
      ]
    },
    {
      "cell_type": "markdown",
      "source": [
        "## 2. create I/O folders"
      ],
      "metadata": {
        "id": "Y5M08204u_2L"
      }
    },
    {
      "cell_type": "code",
      "source": [
        "import shutil\n",
        "from google.colab import files\n",
        "\n",
        "def create_io(database, topic, library):\n",
        "  # clean and rebuild the image folders\n",
        "  input_folder = database+'/'+topic\n",
        "  # '/content/nextcloud/colorGrading'\n",
        "  # if os.path.exists(input_folder):\n",
        "  #   shutil.rmtree(input_folder)\n",
        "  # os.makedirs(input_folder)\n",
        "\n",
        "  output_folder = database+'/'+topic+'/'+library# '/content/nextcloud/colorGrading/output'\n",
        "  if os.path.exists(output_folder):\n",
        "    shutil.rmtree(output_folder)\n",
        "  os.makedirs(output_folder)\n",
        "  return input_folder, output_folder\n",
        "\n",
        "input_folder, output_folder = create_io('/content/nextcloud','colorGrading','LPTN')"
      ],
      "metadata": {
        "id": "LVtLduuauJLm"
      },
      "execution_count": 40,
      "outputs": []
    },
    {
      "cell_type": "code",
      "source": [
        "os.listdir(input_folder)"
      ],
      "metadata": {
        "id": "63ciVxqFwHAq"
      },
      "execution_count": null,
      "outputs": []
    },
    {
      "cell_type": "code",
      "source": [
        "print(output_folder)"
      ],
      "metadata": {
        "id": "qA8o3EA0wh_T"
      },
      "execution_count": null,
      "outputs": []
    },
    {
      "cell_type": "code",
      "source": [
        "%ls"
      ],
      "metadata": {
        "id": "OKmb5wbLwj59"
      },
      "execution_count": null,
      "outputs": []
    },
    {
      "cell_type": "markdown",
      "source": [
        "## 3. Clone the Git repository"
      ],
      "metadata": {
        "id": "HiiAOBc-vTPL"
      }
    },
    {
      "cell_type": "code",
      "source": [
        "# clone the repository\n",
        "root_path = '/content/LPTN'\n",
        "\n",
        "if not os.path.exists(root_path):\n",
        "  !git clone https://github.com/csjliang/LPTN"
      ],
      "metadata": {
        "id": "bbAS06muwjiD"
      },
      "execution_count": 46,
      "outputs": []
    },
    {
      "cell_type": "markdown",
      "source": [
        "## 4. install dependencies"
      ],
      "metadata": {
        "id": "zJsUSddIw42B"
      }
    },
    {
      "cell_type": "code",
      "source": [
        "!pip install -r requirement.txt"
      ],
      "metadata": {
        "id": "Qn5AaWfHw5af"
      },
      "execution_count": null,
      "outputs": []
    },
    {
      "cell_type": "markdown",
      "source": [
        "## 5. Pretrained model download"
      ],
      "metadata": {
        "id": "WIu3lf_uyVXi"
      }
    },
    {
      "cell_type": "code",
      "source": [
        "# check first if exist, otherwise create path\n",
        "pretrained_pth = root_path + '/experiments/pretrained_models/net_g_FiveK_numhigh3.pth'\n",
        "\n",
        "if not os.path.exists(pretrained_pth):\n",
        "  !gdown --id 11yuFgHqZe9e4OheJ9YHp9lS-4kQC1Fml \\\n",
        "          -O pretrained_models/net_g_FiveK_numhigh3.pth"
      ],
      "metadata": {
        "id": "S1VOs015yVoT"
      },
      "execution_count": 48,
      "outputs": []
    },
    {
      "cell_type": "markdown",
      "source": [
        "## 6. install pyYAML and update the YAML file with correct path for pretrained_models\n",
        "\n",
        "geen idee of we dit nodig hebben, maar heb zelf deze code erin gezet om te checken of het path effectief naar de goeie folder wijst.\n"
      ],
      "metadata": {
        "id": "MSFTceQ89GUv"
      }
    },
    {
      "cell_type": "code",
      "source": [
        "!pip install pyYAML\n",
        "\n",
        "import yaml\n",
        " \n",
        "def read_yaml():\n",
        "    \"\"\" A function to read YAML file\"\"\"\n",
        "    with open( root_path + '/options/test/LPTN/test_FiveK.yml') as f:\n",
        "        config = yaml.safe_load(f)\n",
        " \n",
        "    return config\n",
        "\n",
        "read_yaml()"
      ],
      "metadata": {
        "id": "_EtdxUxI9axB"
      },
      "execution_count": null,
      "outputs": []
    },
    {
      "cell_type": "markdown",
      "source": [
        "## 7. dataset downloaden"
      ],
      "metadata": {
        "id": "XayoV4kjO6Nd"
      }
    },
    {
      "cell_type": "markdown",
      "source": [
        "download dataset"
      ],
      "metadata": {
        "id": "dvehf5N0RVdJ"
      }
    },
    {
      "cell_type": "code",
      "source": [
        "import os\n",
        "import zipfile\n",
        "\n",
        "# define folders\n",
        "output_path_dataset = root_path +'/datasets'\n",
        "output_path_FiveK = output_path_dataset +'/FiveK'\n",
        "input_path = nextcloud + '/colorGrading/datasets/FiveK_480p.zip'\n",
        "\n",
        "# make folders\n",
        "os.makedirs(output_path_dataset, exist_ok=True)\n",
        "os.makedirs(output_path_FiveK, exist_ok=True)\n",
        "\n",
        "#!unzip \"/content/drive/path/input_file_name.zip\" -d \"/content/drive/path/output_folder/\"\n",
        "!unzip {input_path} -d {output_path_FiveK}\n",
        "\n",
        "%ls"
      ],
      "metadata": {
        "id": "VUSVuplwO7FN"
      },
      "execution_count": null,
      "outputs": []
    },
    {
      "cell_type": "markdown",
      "source": [
        "create lmdb"
      ],
      "metadata": {
        "id": "_aDE673VRSR_"
      }
    },
    {
      "cell_type": "code",
      "source": [
        "#PYTHONPATH=\"./:${PYTHONPATH}\" python scripts/data_preparation/create_lmdb.py\n",
        "!python3 {root_path} + '/scripts/data_preparation/create_lmdb.py'"
      ],
      "metadata": {
        "id": "3dc2IO5yRREO",
        "colab": {
          "base_uri": "https://localhost:8080/"
        },
        "outputId": "667dc294-c4cc-4fde-ed77-717b2799e03b"
      },
      "execution_count": 56,
      "outputs": [
        {
          "output_type": "stream",
          "name": "stdout",
          "text": [
            "/usr/bin/python3: can't find '__main__' module in '/content/LPTN'\n"
          ]
        }
      ]
    },
    {
      "cell_type": "markdown",
      "source": [
        "## 8. Evaluation"
      ],
      "metadata": {
        "id": "hYOqeKOqEcep"
      }
    },
    {
      "cell_type": "markdown",
      "source": [
        "yml file test"
      ],
      "metadata": {
        "id": "41lvseFFTiMQ"
      }
    },
    {
      "cell_type": "code",
      "source": [
        "# PYTHONPATH=\"./:${PYTHONPATH}\" CUDA_VISIBLE_DEVICES=0 python codes/test.py -opt options/test/LPTN/test_FiveK.yml\n",
        "!python3 /content/LPTN/codes/test.py -opt options/test/LPTN/test_FiveK.yml"
      ],
      "metadata": {
        "id": "duiptbuiEgCL"
      },
      "execution_count": null,
      "outputs": []
    },
    {
      "cell_type": "markdown",
      "source": [
        "speed testing"
      ],
      "metadata": {
        "id": "s_5Ld8TRTeZ1"
      }
    },
    {
      "cell_type": "code",
      "source": [
        "# PYTHONPATH=\"./:${PYTHONPATH}\" CUDA_VISIBLE_DEVICES=0 python codes/test_speed.py -opt options/test/LPTN/test_speed_FiveK.yml\n",
        "!python3 /content/LPTN/codes/test_speed.py -opt options/test/LPTN/test_speed_FiveK.yml"
      ],
      "metadata": {
        "id": "0zzLtvOiTdgQ"
      },
      "execution_count": null,
      "outputs": []
    }
  ]
}