{
  "nbformat": 4,
  "nbformat_minor": 0,
  "metadata": {
    "colab": {
      "name": "Untitled4.ipynb",
      "provenance": [],
      "authorship_tag": "ABX9TyOZGd+jPZPwm7NGwp4atYKp",
      "include_colab_link": true
    },
    "kernelspec": {
      "name": "python3",
      "display_name": "Python 3"
    },
    "language_info": {
      "name": "python"
    }
  },
  "cells": [
    {
      "cell_type": "markdown",
      "metadata": {
        "id": "view-in-github",
        "colab_type": "text"
      },
      "source": [
        "<a href=\"https://colab.research.google.com/github/luca-arts/seeingtheimperceptible/blob/main/notebooks/colorGrading/tests/LPTN.ipynb\" target=\"_parent\"><img src=\"https://colab.research.google.com/assets/colab-badge.svg\" alt=\"Open In Colab\"/></a>"
      ]
    },
    {
      "cell_type": "markdown",
      "source": [
        "# color grading via LPTN\n",
        "\n",
        "[https://github.com/csjliang/LPTN](https://github.com/csjliang/LPTN)\n"
      ],
      "metadata": {
        "id": "Oka582cduBH-"
      }
    },
    {
      "cell_type": "code",
      "execution_count": 1,
      "metadata": {
        "colab": {
          "base_uri": "https://localhost:8080/"
        },
        "id": "1FCPYo3Wt6IL",
        "outputId": "2c3d284a-ae26-4552-f221-76670c9910ac"
      },
      "outputs": [
        {
          "output_type": "stream",
          "name": "stdout",
          "text": [
            "\n",
            "WARNING: apt does not have a stable CLI interface. Use with caution in scripts.\n",
            "\n",
            "Please enter the username to authenticate with server\n",
            "https://cloud.bxlab.net/remote.php/dav/files/colab/colabfiles/ or hit enter for none.\n",
            "  Username: colab\n",
            "Please enter the password to authenticate user colab with server\n",
            "https://cloud.bxlab.net/remote.php/dav/files/colab/colabfiles/ or hit enter for none.\n",
            "  Password:  \n",
            "/sbin/mount.davfs: warning: the server does not support locks\n",
            "txtContent: https://cloud.bxlab.net/remote.php/dav/files/colab/colabfiles/ /content/nextcloud davfs user,rw,auto 0 0\n"
          ]
        }
      ],
      "source": [
        "# we'll link the dataset from next-cloud\n",
        "import os\n",
        "!apt install -y davfs2  > /dev/null\n",
        "\n",
        "nextcloud = \"/content/nextcloud\"\n",
        "Nextcloud_URL = \"https://cloud.bxlab.net/remote.php/dav/files/colab/colabfiles/\" #@param {type:\"string\"}\n",
        "\n",
        "os.makedirs(nextcloud, exist_ok=True)\n",
        "\n",
        "\n",
        "if os.path.isfile(\"/etc/fstab\"):\n",
        "  os.remove(\"/etc/fstab\")\n",
        "with open(\"/etc/fstab\" , \"a\") as f:\n",
        "  f.write(Nextcloud_URL + \" \" + nextcloud + \" davfs user,rw,auto 0 0\")\n",
        "!mount {nextcloud}\n",
        "\n",
        "# open existing text file\n",
        "txt = \"/etc/fstab\"\n",
        "viewTxt = open(txt, \"r\")\n",
        "txtContent = viewTxt.read()\n",
        "print(\"txtContent: {}\".format(txtContent))"
      ]
    },
    {
      "cell_type": "markdown",
      "source": [
        "## create I/O folders"
      ],
      "metadata": {
        "id": "Y5M08204u_2L"
      }
    },
    {
      "cell_type": "code",
      "source": [
        "import shutil\n",
        "from google.colab import files\n",
        "\n",
        "def create_io(database, topic, library):\n",
        "  # clean and rebuild the image folders\n",
        "  input_folder = database+'/'+topic\n",
        "  # '/content/nextcloud/colorGrading'\n",
        "  # if os.path.exists(input_folder):\n",
        "  #   shutil.rmtree(input_folder)\n",
        "  # os.makedirs(input_folder)\n",
        "\n",
        "  output_folder = database+'/'+topic+'/'+library# '/content/nextcloud/colorGrading/output'\n",
        "  if os.path.exists(output_folder):\n",
        "    shutil.rmtree(output_folder)\n",
        "  os.makedirs(output_folder)\n",
        "  return input_folder, output_folder\n",
        "\n",
        "input_folder, output_folder = create_io('/content/nextcloud','colorGrading','LPTN')"
      ],
      "metadata": {
        "id": "LVtLduuauJLm"
      },
      "execution_count": 2,
      "outputs": []
    },
    {
      "cell_type": "code",
      "source": [
        "os.listdir(input_folder)"
      ],
      "metadata": {
        "colab": {
          "base_uri": "https://localhost:8080/"
        },
        "id": "63ciVxqFwHAq",
        "outputId": "6cb520fe-fb0b-4d50-dbf3-8971458f6672"
      },
      "execution_count": 5,
      "outputs": [
        {
          "output_type": "execute_result",
          "data": {
            "text/plain": [
              "['LPTN',\n",
              " 'LB_0001.jpg',\n",
              " 'LB_0002.jpg',\n",
              " 'LB_0003.jpg',\n",
              " 'LB_0004.jpg',\n",
              " 'LB_0005.jpg',\n",
              " 'LB_0006.jpg',\n",
              " 'LB_0007.jpg',\n",
              " 'LB_0008.jpg',\n",
              " 'LB_0009.jpg',\n",
              " 'LB_0010.jpg',\n",
              " 'LB_0011.jpg',\n",
              " 'LB_0012.jpg',\n",
              " 'LB_0013.jpg',\n",
              " 'LB_0014.jpg',\n",
              " 'LB_0015.jpg',\n",
              " 'LB_0016.jpg',\n",
              " 'LB_0017.jpg',\n",
              " 'LB_0018.jpg',\n",
              " 'LB_0019.jpg',\n",
              " 'LB_0020.jpeg',\n",
              " 'LB_0021.jpg',\n",
              " 'LB_0022.jpg',\n",
              " 'LB_0023.jpg',\n",
              " 'LB_0024.jpg',\n",
              " 'LB_0025.jpeg',\n",
              " 'LB_0026.jpeg',\n",
              " 'LB_0027.jpg',\n",
              " 'LB_0028.jpg',\n",
              " 'LB_0029.jpg',\n",
              " 'LB_0030.jpg',\n",
              " 'LB_0031.jpg',\n",
              " 'LB_0032.jpg',\n",
              " 'LB_0033.jpg',\n",
              " 'LB_0034.jpg',\n",
              " 'LB_0035.jpg',\n",
              " 'LB_0036.jpg',\n",
              " 'LB_0037.jpg',\n",
              " 'LB_0038.jpg',\n",
              " 'LB_0039.jpg',\n",
              " 'LB_0040.jpg',\n",
              " 'LB_0041.jpg',\n",
              " 'LB_0042.jpg',\n",
              " 'LB_0043.jpg',\n",
              " 'LB_0044.jpg',\n",
              " 'LB_0045.jpg',\n",
              " 'LB_0046.jpg',\n",
              " 'LB_0047.jpg',\n",
              " 'LB_0048.jpg',\n",
              " 'LB_0049.jpg',\n",
              " 'LB_0050.jpg']"
            ]
          },
          "metadata": {},
          "execution_count": 5
        }
      ]
    },
    {
      "cell_type": "code",
      "source": [
        "print(output_folder)"
      ],
      "metadata": {
        "colab": {
          "base_uri": "https://localhost:8080/"
        },
        "id": "qA8o3EA0wh_T",
        "outputId": "9ad4f525-76cb-4b9f-a7ea-746442d62325"
      },
      "execution_count": 4,
      "outputs": [
        {
          "output_type": "stream",
          "name": "stdout",
          "text": [
            "/content/nextcloud/colorGrading/LPTN/output\n"
          ]
        }
      ]
    },
    {
      "cell_type": "code",
      "source": [
        ""
      ],
      "metadata": {
        "id": "bbAS06muwjiD"
      },
      "execution_count": null,
      "outputs": []
    }
  ]
}