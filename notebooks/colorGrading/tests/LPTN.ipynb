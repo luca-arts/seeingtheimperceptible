{
  "nbformat": 4,
  "nbformat_minor": 0,
  "metadata": {
    "colab": {
      "name": "Untitled4.ipynb",
      "provenance": [],
      "include_colab_link": true
    },
    "kernelspec": {
      "name": "python3",
      "display_name": "Python 3"
    },
    "language_info": {
      "name": "python"
    }
  },
  "cells": [
    {
      "cell_type": "markdown",
      "metadata": {
        "id": "view-in-github",
        "colab_type": "text"
      },
      "source": [
        "<a href=\"https://colab.research.google.com/github/luca-arts/seeingtheimperceptible/blob/main/notebooks/colorGrading/tests/LPTN.ipynb\" target=\"_parent\"><img src=\"https://colab.research.google.com/assets/colab-badge.svg\" alt=\"Open In Colab\"/></a>"
      ]
    },
    {
      "cell_type": "markdown",
      "source": [
        "## 1. Color grading via LPTN\n",
        "\n",
        "[https://github.com/csjliang/LPTN](https://github.com/csjliang/LPTN)\n"
      ],
      "metadata": {
        "id": "Oka582cduBH-"
      }
    },
    {
      "cell_type": "code",
      "execution_count": null,
      "metadata": {
        "id": "1FCPYo3Wt6IL"
      },
      "outputs": [],
      "source": [
        "# we'll link the dataset from next-cloud\n",
        "import os\n",
        "!apt install -y davfs2  > /dev/null\n",
        "\n",
        "nextcloud = \"/content/nextcloud\"\n",
        "Nextcloud_URL = \"https://cloud.bxlab.net/remote.php/dav/files/colab/colabfiles/\" #@param {type:\"string\"}\n",
        "\n",
        "os.makedirs(nextcloud, exist_ok=True)\n",
        "\n",
        "\n",
        "if os.path.isfile(\"/etc/fstab\"):\n",
        "  os.remove(\"/etc/fstab\")\n",
        "with open(\"/etc/fstab\" , \"a\") as f:\n",
        "  f.write(Nextcloud_URL + \" \" + nextcloud + \" davfs user,rw,auto 0 0\")\n",
        "!mount {nextcloud}\n",
        "\n",
        "# open existing text file\n",
        "txt = \"/etc/fstab\"\n",
        "viewTxt = open(txt, \"r\")\n",
        "txtContent = viewTxt.read()\n",
        "print(\"txtContent: {}\".format(txtContent))"
      ]
    },
    {
      "cell_type": "markdown",
      "source": [
        "## 2. create I/O folders"
      ],
      "metadata": {
        "id": "Y5M08204u_2L"
      }
    },
    {
      "cell_type": "code",
      "source": [
        "import shutil\n",
        "from google.colab import files\n",
        "\n",
        "def create_io(database, topic, library):\n",
        "  # clean and rebuild the image folders\n",
        "  input_folder = database+'/'+topic\n",
        "  # '/content/nextcloud/colorGrading'\n",
        "  # if os.path.exists(input_folder):\n",
        "  #   shutil.rmtree(input_folder)\n",
        "  # os.makedirs(input_folder)\n",
        "\n",
        "  output_folder = database+'/'+topic+'/'+library# '/content/nextcloud/colorGrading/output'\n",
        "  if os.path.exists(output_folder):\n",
        "    shutil.rmtree(output_folder)\n",
        "  os.makedirs(output_folder)\n",
        "  return input_folder, output_folder\n",
        "\n",
        "input_folder, output_folder = create_io('/content/nextcloud','colorGrading','LPTN')"
      ],
      "metadata": {
        "id": "LVtLduuauJLm"
      },
      "execution_count": 2,
      "outputs": []
    },
    {
      "cell_type": "code",
      "source": [
        "os.listdir(input_folder)"
      ],
      "metadata": {
        "id": "63ciVxqFwHAq"
      },
      "execution_count": null,
      "outputs": []
    },
    {
      "cell_type": "code",
      "source": [
        "print(output_folder)"
      ],
      "metadata": {
        "colab": {
          "base_uri": "https://localhost:8080/"
        },
        "id": "qA8o3EA0wh_T",
        "outputId": "d7a5172e-7694-4b99-92e7-76f4e43b5376"
      },
      "execution_count": 4,
      "outputs": [
        {
          "output_type": "stream",
          "name": "stdout",
          "text": [
            "/content/nextcloud/colorGrading/LPTN\n"
          ]
        }
      ]
    },
    {
      "cell_type": "code",
      "source": [
        "%ls"
      ],
      "metadata": {
        "colab": {
          "base_uri": "https://localhost:8080/"
        },
        "id": "OKmb5wbLwj59",
        "outputId": "5a141c32-c26c-440e-c48f-0389305ec381"
      },
      "execution_count": 5,
      "outputs": [
        {
          "output_type": "stream",
          "name": "stdout",
          "text": [
            "\u001b[0m\u001b[01;34mnextcloud\u001b[0m/  \u001b[01;34msample_data\u001b[0m/\n"
          ]
        }
      ]
    },
    {
      "cell_type": "markdown",
      "source": [
        "## 3. Clone the Git repository"
      ],
      "metadata": {
        "id": "HiiAOBc-vTPL"
      }
    },
    {
      "cell_type": "code",
      "source": [
        "# clone the repository\n",
        "%cd /content\n",
        "if not os.path.exists('LPTN'):\n",
        "  !git clone https://github.com/csjliang/LPTN\n",
        "%cd LPTN/"
      ],
      "metadata": {
        "id": "bbAS06muwjiD"
      },
      "execution_count": null,
      "outputs": []
    },
    {
      "cell_type": "markdown",
      "source": [
        "## 4. install dependencies"
      ],
      "metadata": {
        "id": "zJsUSddIw42B"
      }
    },
    {
      "cell_type": "code",
      "source": [
        "!pip install -r requirement.txt"
      ],
      "metadata": {
        "id": "Qn5AaWfHw5af"
      },
      "execution_count": null,
      "outputs": []
    },
    {
      "cell_type": "markdown",
      "source": [
        "## 5. Pretrained model download"
      ],
      "metadata": {
        "id": "WIu3lf_uyVXi"
      }
    },
    {
      "cell_type": "code",
      "source": [
        "# dowload the pre-trained model for colorgrading\n",
        "%cd /content/LPTN/experiments/\n",
        "\n",
        "# check first if exist, otherwise create path\n",
        "pretrained_pth = 'pretrained_models/net_g_FiveK_numhigh3.pth'\n",
        "\n",
        "if not os.path.exists(pretrained_pth):\n",
        "  !gdown --id 11yuFgHqZe9e4OheJ9YHp9lS-4kQC1Fml \\\n",
        "          -O pretrained_models/net_g_FiveK_numhigh3.pth"
      ],
      "metadata": {
        "id": "S1VOs015yVoT"
      },
      "execution_count": null,
      "outputs": []
    },
    {
      "cell_type": "markdown",
      "source": [
        "## 6. install pyYAML and update the YAML file with correct path for pretrained_models"
      ],
      "metadata": {
        "id": "MSFTceQ89GUv"
      }
    },
    {
      "cell_type": "code",
      "source": [
        "!pip install pyYAML\n",
        "\n",
        "import yaml\n",
        "\n",
        "# dowload the pre-trained model for colorgrading\n",
        "%cd /content/LPTN/options/test/LPTN/\n",
        " \n",
        "def read_yaml():\n",
        "    \"\"\" A function to read YAML file\"\"\"\n",
        "    with open('test_FiveK.yml') as f:\n",
        "        config = yaml.safe_load(f)\n",
        " \n",
        "    return config\n",
        "\n",
        "read_yaml()"
      ],
      "metadata": {
        "id": "_EtdxUxI9axB"
      },
      "execution_count": null,
      "outputs": []
    },
    {
      "cell_type": "markdown",
      "source": [
        "## 7. dataset downloaden"
      ],
      "metadata": {
        "id": "XayoV4kjO6Nd"
      }
    },
    {
      "cell_type": "code",
      "source": [
        "#PYTHONPATH=\"./:${PYTHONPATH}\" python scripts/data_preparation/download_datasets.py\n",
        "/content/LPTN/scripts/data_preparation/download_datasets.py\n",
        "#PYTHONPATH=\"./:${PYTHONPATH}\" python scripts/data_preparation/create_lmdb.py\n",
        "/content/LPTN/scripts/data_preparation/create_lmdb.py"
      ],
      "metadata": {
        "id": "VUSVuplwO7FN"
      },
      "execution_count": null,
      "outputs": []
    },
    {
      "cell_type": "markdown",
      "source": [
        "## 8. Evaluation"
      ],
      "metadata": {
        "id": "hYOqeKOqEcep"
      }
    },
    {
      "cell_type": "code",
      "source": [
        "# PYTHONPATH=\"./:${PYTHONPATH}\" CUDA_VISIBLE_DEVICES=0 python codes/test.py -opt options/test/LPTN/test_FiveK.yml\n",
        "! /content/LPTN/codes/test.py -opt options/test/LPTN/test_FiveK.yml\n",
        "\n",
        "# PYTHONPATH=\"./:${PYTHONPATH}\" CUDA_VISIBLE_DEVICES=0 python codes/test_speed.py -opt options/test/LPTN/test_speed_FiveK.yml\n",
        "! /content/LPTN/codes/test_speed.py -opt options/test/LPTN/test_speed_FiveK.yml"
      ],
      "metadata": {
        "id": "duiptbuiEgCL"
      },
      "execution_count": null,
      "outputs": []
    }
  ]
}