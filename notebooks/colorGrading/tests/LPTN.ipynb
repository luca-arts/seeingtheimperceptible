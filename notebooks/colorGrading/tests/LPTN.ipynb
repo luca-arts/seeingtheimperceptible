{
  "nbformat": 4,
  "nbformat_minor": 0,
  "metadata": {
    "colab": {
      "name": "Untitled4.ipynb",
      "provenance": [],
      "include_colab_link": true
    },
    "kernelspec": {
      "name": "python3",
      "display_name": "Python 3"
    },
    "language_info": {
      "name": "python"
    },
    "accelerator": "GPU"
  },
  "cells": [
    {
      "cell_type": "markdown",
      "metadata": {
        "id": "view-in-github",
        "colab_type": "text"
      },
      "source": [
        "<a href=\"https://colab.research.google.com/github/luca-arts/seeingtheimperceptible/blob/main/notebooks/colorGrading/tests/LPTN.ipynb\" target=\"_parent\"><img src=\"https://colab.research.google.com/assets/colab-badge.svg\" alt=\"Open In Colab\"/></a>"
      ]
    },
    {
      "cell_type": "markdown",
      "source": [
        "## 1. Color grading via LPTN\n",
        "\n",
        "[https://github.com/csjliang/LPTN](https://github.com/csjliang/LPTN)\n"
      ],
      "metadata": {
        "id": "Oka582cduBH-"
      }
    },
    {
      "cell_type": "code",
      "execution_count": 1,
      "metadata": {
        "id": "1FCPYo3Wt6IL",
        "outputId": "101fe468-c65d-4d74-c844-c58288af3a1d",
        "colab": {
          "base_uri": "https://localhost:8080/"
        }
      },
      "outputs": [
        {
          "output_type": "stream",
          "name": "stdout",
          "text": [
            "  % Total    % Received % Xferd  Average Speed   Time    Time     Time  Current\n",
            "                                 Dload  Upload   Total   Spent    Left  Speed\n",
            "100  1793  100  1793    0     0   8150      0 --:--:-- --:--:-- --:--:--  8150\n",
            "what's the username for nextcloud? colab\n",
            "what's the password for user colab? ··········\n",
            "0\n",
            "Please enter the username to authenticate with server\n",
            "https://cloud.bxlab.net/remote.php/dav/files/colab/colabfiles/ or hit enter for none.\n",
            "  Username: Please enter the password to authenticate user colab with server\n",
            "https://cloud.bxlab.net/remote.php/dav/files/colab/colabfiles/ or hit enter for none.\n",
            "  Password:  \n",
            "content of /etc/fstab: https://cloud.bxlab.net/remote.php/dav/files/colab/colabfiles/ /content/database davfs user,rw,auto 0 0\n"
          ]
        }
      ],
      "source": [
        "# we'll link the dataset from next-cloud\n",
        "!curl https://raw.githubusercontent.com/luca-arts/seeingtheimperceptible/main/notebooks/database_mod.py -o /content/database_mod.py\n",
        "\n",
        "from database_mod import *\n",
        "\n",
        "link_nextcloud()\n",
        "\n",
        "input_folder, output_folder = create_io(database='/content/database/',topic='colorGrading',library='LPTN')"
      ]
    },
    {
      "cell_type": "markdown",
      "source": [
        "## 3. Clone the Git repository"
      ],
      "metadata": {
        "id": "HiiAOBc-vTPL"
      }
    },
    {
      "cell_type": "code",
      "source": [
        "import os\n",
        "# clone the repository\n",
        "%cd /content\n",
        "if not os.path.exists('LPTN'):\n",
        "  !git clone https://github.com/csjliang/LPTN\n",
        "%cd LPTN/"
      ],
      "metadata": {
        "id": "bbAS06muwjiD",
        "outputId": "52f375af-4579-4a16-bffa-c614140a99e5",
        "colab": {
          "base_uri": "https://localhost:8080/"
        }
      },
      "execution_count": 2,
      "outputs": [
        {
          "output_type": "stream",
          "name": "stdout",
          "text": [
            "/content\n",
            "Cloning into 'LPTN'...\n",
            "remote: Enumerating objects: 107, done.\u001b[K\n",
            "remote: Counting objects: 100% (107/107), done.\u001b[K\n",
            "remote: Compressing objects: 100% (89/89), done.\u001b[K\n",
            "remote: Total 107 (delta 26), reused 67 (delta 6), pack-reused 0\n",
            "Receiving objects: 100% (107/107), 263.69 KiB | 653.00 KiB/s, done.\n",
            "Resolving deltas: 100% (26/26), done.\n",
            "/content/LPTN\n"
          ]
        }
      ]
    },
    {
      "cell_type": "markdown",
      "source": [
        "## 4. install dependencies"
      ],
      "metadata": {
        "id": "zJsUSddIw42B"
      }
    },
    {
      "cell_type": "code",
      "source": [
        "!pip install -qr requirement.txt"
      ],
      "metadata": {
        "id": "Qn5AaWfHw5af",
        "outputId": "4d056fc7-7307-4291-b8cc-60f061289fa9",
        "colab": {
          "base_uri": "https://localhost:8080/"
        }
      },
      "execution_count": 3,
      "outputs": [
        {
          "output_type": "stream",
          "name": "stdout",
          "text": [
            "\u001b[K     |████████████████████████████████| 5.8 MB 13.3 MB/s \n",
            "\u001b[K     |████████████████████████████████| 190 kB 62.0 MB/s \n",
            "\u001b[?25h"
          ]
        }
      ]
    },
    {
      "cell_type": "markdown",
      "source": [
        "## 5. Pretrained model download"
      ],
      "metadata": {
        "id": "WIu3lf_uyVXi"
      }
    },
    {
      "cell_type": "code",
      "source": [
        "%cd /content"
      ],
      "metadata": {
        "id": "P34lDs9QOvea",
        "outputId": "bc1e9a52-a1b8-401e-d150-4db394c0a4f8",
        "colab": {
          "base_uri": "https://localhost:8080/"
        }
      },
      "execution_count": 25,
      "outputs": [
        {
          "output_type": "stream",
          "name": "stdout",
          "text": [
            "/content\n"
          ]
        }
      ]
    },
    {
      "cell_type": "code",
      "source": [
        "# dowload the pre-trained model for colorgrading\n",
        "# # check first if exist, otherwise create path\n",
        "pretrained_pth = 'LPTN/experiments/pretrained_models/net_g_FiveK_numhigh3.pth'\n",
        "if not os.path.exists(pretrained_pth):\n",
        "  !gdown --id 11yuFgHqZe9e4OheJ9YHp9lS-4kQC1Fml \\\n",
        "          -O LPTN/experiments/pretrained_models/net_g_FiveK_numhigh3.pth\n"
      ],
      "metadata": {
        "id": "S1VOs015yVoT",
        "outputId": "27d16dd1-1e71-4eee-9e41-27043387a0a2",
        "colab": {
          "base_uri": "https://localhost:8080/"
        }
      },
      "execution_count": 26,
      "outputs": [
        {
          "output_type": "stream",
          "name": "stdout",
          "text": [
            "Downloading...\n",
            "From: https://drive.google.com/uc?id=11yuFgHqZe9e4OheJ9YHp9lS-4kQC1Fml\n",
            "To: /content/LPTN/experiments/pretrained_models/net_g_FiveK_numhigh3.pth\n",
            "\r  0% 0.00/2.48M [00:00<?, ?B/s]\r100% 2.48M/2.48M [00:00<00:00, 183MB/s]\n"
          ]
        }
      ]
    },
    {
      "cell_type": "markdown",
      "source": [
        "## 6. install pyYAML and update the YAML file with correct path for pretrained_models"
      ],
      "metadata": {
        "id": "MSFTceQ89GUv"
      }
    },
    {
      "cell_type": "code",
      "source": [
        "!pip install pyYAML\n",
        "\n",
        "import yaml\n",
        "\n",
        "# dowload the pre-trained model for colorgrading\n",
        " \n",
        "def read_yaml(LPTN_path):\n",
        "    \"\"\" A function to read YAML file\"\"\"\n",
        "    with open('{}/options/test/LPTN/test_FiveK.yml'.format(LPTN_path)) as f:\n",
        "        config = yaml.safe_load(f)\n",
        " \n",
        "    return config\n",
        "\n",
        "read_yaml('/content/LPTN')"
      ],
      "metadata": {
        "id": "_EtdxUxI9axB",
        "outputId": "1cfb8a1a-0b47-4819-eddc-53b80502398e",
        "colab": {
          "base_uri": "https://localhost:8080/"
        }
      },
      "execution_count": 27,
      "outputs": [
        {
          "output_type": "stream",
          "name": "stdout",
          "text": [
            "Requirement already satisfied: pyYAML in /usr/local/lib/python3.7/dist-packages (3.13)\n"
          ]
        },
        {
          "output_type": "execute_result",
          "data": {
            "text/plain": [
              "{'datasets': {'test': {'dataroot_gt': 'datasets/FiveK/FiveK_test_target.lmdb',\n",
              "   'dataroot_lq': 'datasets/FiveK/FiveK_test_source.lmdb',\n",
              "   'io_backend': {'type': 'lmdb'},\n",
              "   'name': 'FiveK_val',\n",
              "   'type': 'PairedImageDataset'}},\n",
              " 'manual_seed': 10,\n",
              " 'model_type': 'LPTNTestModel',\n",
              " 'name': 'LPTN_FiveK_480p',\n",
              " 'network_g': {'nrb_high': 3, 'nrb_low': 5, 'num_high': 3, 'type': 'LPTN'},\n",
              " 'num_gpu': 1,\n",
              " 'path': {'pretrain_network_g': 'experiments/pretrained_models/net_g_FiveK_numhigh3.pth',\n",
              "  'strict_load_g': False},\n",
              " 'val': {'metrics': {'psnr': {'crop_border': 0,\n",
              "    'test_y_channel': False,\n",
              "    'type': 'calculate_psnr'}},\n",
              "  'save_img': True,\n",
              "  'suffix': None}}"
            ]
          },
          "metadata": {},
          "execution_count": 27
        }
      ]
    },
    {
      "cell_type": "markdown",
      "source": [
        "## 7. dataset downloaden"
      ],
      "metadata": {
        "id": "XayoV4kjO6Nd"
      }
    },
    {
      "cell_type": "markdown",
      "source": [
        "download dataset"
      ],
      "metadata": {
        "id": "dvehf5N0RVdJ"
      }
    },
    {
      "cell_type": "code",
      "source": [
        "#we've downloaded the dataset to our nextcloud server as the GDrive from the original source isn't really stable to download large files\n",
        "save_path_root = './LPTN/datasets'\n",
        "os.makedirs(save_path_root, exist_ok=True)"
      ],
      "metadata": {
        "id": "VUSVuplwO7FN"
      },
      "execution_count": 28,
      "outputs": []
    },
    {
      "cell_type": "code",
      "source": [
        "!unzip -q \"/content/database/colorGrading/datasets/FiveK_480p.zip\" -d '/content/LPTN/datasets/FiveK'"
      ],
      "metadata": {
        "id": "9ztGhIEHRVTR"
      },
      "execution_count": 37,
      "outputs": []
    },
    {
      "cell_type": "markdown",
      "source": [
        "create lmdb"
      ],
      "metadata": {
        "id": "_aDE673VRSR_"
      }
    },
    {
      "cell_type": "code",
      "source": [
        "%cd /content/LPTN/\n",
        "!PYTHONPATH=\"/content/LPTN/:${PYTHONPATH}\" python scripts/data_preparation/create_lmdb.py\n"
      ],
      "metadata": {
        "id": "3dc2IO5yRREO",
        "outputId": "cbb21aa7-942a-40fa-9bdc-b8443bd3fab1",
        "colab": {
          "base_uri": "https://localhost:8080/"
        }
      },
      "execution_count": 42,
      "outputs": [
        {
          "output_type": "stream",
          "name": "stdout",
          "text": [
            "/content/LPTN\n",
            "Reading image path list ...\n",
            "Create lmdb for datasets/FiveK/FiveK_480p/train/A, save to datasets/FiveK/FiveK_train_source.lmdb...\n",
            "Totoal images: 2250\n",
            "Data size per image is:  482882\n",
            "Write 998: 100% 2250/2250 [01:40<00:00, 22.33chunk/s]\n",
            "\n",
            "Finish writing lmdb.\n",
            "Reading image path list ...\n",
            "Create lmdb for datasets/FiveK/FiveK_480p/train/B, save to datasets/FiveK/FiveK_train_target.lmdb...\n",
            "Totoal images: 2250\n",
            "Data size per image is:  678345\n",
            "Write 999: 100% 2250/2250 [01:51<00:00, 20.20chunk/s]\n",
            "\n",
            "Finish writing lmdb.\n",
            "Reading image path list ...\n",
            "Create lmdb for datasets/FiveK/FiveK_480p/test/A, save to datasets/FiveK/FiveK_test_source.lmdb...\n",
            "Totoal images: 500\n",
            "Data size per image is:  308466\n",
            "Write 5000: 100% 500/500 [00:21<00:00, 23.78chunk/s]\n",
            "\n",
            "Finish writing lmdb.\n",
            "Reading image path list ...\n",
            "Create lmdb for datasets/FiveK/FiveK_480p/test/B, save to datasets/FiveK/FiveK_test_target.lmdb...\n",
            "Totoal images: 500\n",
            "Data size per image is:  611200\n",
            "Write 5000: 100% 500/500 [00:22<00:00, 21.97chunk/s]\n",
            "\n",
            "Finish writing lmdb.\n"
          ]
        }
      ]
    },
    {
      "cell_type": "markdown",
      "source": [
        "## 8. Evaluation"
      ],
      "metadata": {
        "id": "hYOqeKOqEcep"
      }
    },
    {
      "cell_type": "markdown",
      "source": [
        "yml file test"
      ],
      "metadata": {
        "id": "41lvseFFTiMQ"
      }
    },
    {
      "cell_type": "code",
      "source": [
        "!pip install basicsr\n",
        "!PYTHONPATH=\"/content/LPTN/:${PYTHONPATH}\" CUDA_VISIBLE_DEVICES=0 python codes/test.py -opt options/test/LPTN/test_FiveK.yml"
      ],
      "metadata": {
        "id": "duiptbuiEgCL",
        "outputId": "97b56ee4-520d-4100-d59a-79ac26c9e5c8",
        "colab": {
          "base_uri": "https://localhost:8080/"
        }
      },
      "execution_count": 46,
      "outputs": [
        {
          "output_type": "stream",
          "name": "stdout",
          "text": [
            "Collecting basicsr\n",
            "  Downloading basicsr-1.3.5.tar.gz (161 kB)\n",
            "\u001b[?25l\r\u001b[K     |██                              | 10 kB 17.3 MB/s eta 0:00:01\r\u001b[K     |████                            | 20 kB 24.2 MB/s eta 0:00:01\r\u001b[K     |██████                          | 30 kB 29.7 MB/s eta 0:00:01\r\u001b[K     |████████▏                       | 40 kB 23.3 MB/s eta 0:00:01\r\u001b[K     |██████████▏                     | 51 kB 13.5 MB/s eta 0:00:01\r\u001b[K     |████████████▏                   | 61 kB 15.3 MB/s eta 0:00:01\r\u001b[K     |██████████████▏                 | 71 kB 10.3 MB/s eta 0:00:01\r\u001b[K     |████████████████▎               | 81 kB 10.7 MB/s eta 0:00:01\r\u001b[K     |██████████████████▎             | 92 kB 11.5 MB/s eta 0:00:01\r\u001b[K     |████████████████████▎           | 102 kB 11.4 MB/s eta 0:00:01\r\u001b[K     |██████████████████████▍         | 112 kB 11.4 MB/s eta 0:00:01\r\u001b[K     |████████████████████████▍       | 122 kB 11.4 MB/s eta 0:00:01\r\u001b[K     |██████████████████████████▍     | 133 kB 11.4 MB/s eta 0:00:01\r\u001b[K     |████████████████████████████▍   | 143 kB 11.4 MB/s eta 0:00:01\r\u001b[K     |██████████████████████████████▌ | 153 kB 11.4 MB/s eta 0:00:01\r\u001b[K     |████████████████████████████████| 161 kB 11.4 MB/s \n",
            "\u001b[?25hRequirement already satisfied: addict in /usr/local/lib/python3.7/dist-packages (from basicsr) (2.4.0)\n",
            "Requirement already satisfied: future in /usr/local/lib/python3.7/dist-packages (from basicsr) (0.16.0)\n",
            "Requirement already satisfied: lmdb in /usr/local/lib/python3.7/dist-packages (from basicsr) (0.99)\n",
            "Requirement already satisfied: numpy in /usr/local/lib/python3.7/dist-packages (from basicsr) (1.21.5)\n",
            "Requirement already satisfied: opencv-python in /usr/local/lib/python3.7/dist-packages (from basicsr) (4.1.2.30)\n",
            "Requirement already satisfied: Pillow in /usr/local/lib/python3.7/dist-packages (from basicsr) (7.1.2)\n",
            "Requirement already satisfied: pyyaml in /usr/local/lib/python3.7/dist-packages (from basicsr) (3.13)\n",
            "Requirement already satisfied: requests in /usr/local/lib/python3.7/dist-packages (from basicsr) (2.23.0)\n",
            "Requirement already satisfied: scikit-image in /usr/local/lib/python3.7/dist-packages (from basicsr) (0.18.3)\n",
            "Requirement already satisfied: scipy in /usr/local/lib/python3.7/dist-packages (from basicsr) (1.4.1)\n",
            "Requirement already satisfied: tb-nightly in /usr/local/lib/python3.7/dist-packages (from basicsr) (2.9.0a20220307)\n",
            "Requirement already satisfied: torch>=1.7 in /usr/local/lib/python3.7/dist-packages (from basicsr) (1.10.0+cu111)\n",
            "Requirement already satisfied: torchvision in /usr/local/lib/python3.7/dist-packages (from basicsr) (0.11.1+cu111)\n",
            "Requirement already satisfied: tqdm in /usr/local/lib/python3.7/dist-packages (from basicsr) (4.63.0)\n",
            "Requirement already satisfied: yapf in /usr/local/lib/python3.7/dist-packages (from basicsr) (0.32.0)\n",
            "Requirement already satisfied: typing-extensions in /usr/local/lib/python3.7/dist-packages (from torch>=1.7->basicsr) (3.10.0.2)\n",
            "Requirement already satisfied: certifi>=2017.4.17 in /usr/local/lib/python3.7/dist-packages (from requests->basicsr) (2021.10.8)\n",
            "Requirement already satisfied: chardet<4,>=3.0.2 in /usr/local/lib/python3.7/dist-packages (from requests->basicsr) (3.0.4)\n",
            "Requirement already satisfied: idna<3,>=2.5 in /usr/local/lib/python3.7/dist-packages (from requests->basicsr) (2.10)\n",
            "Requirement already satisfied: urllib3!=1.25.0,!=1.25.1,<1.26,>=1.21.1 in /usr/local/lib/python3.7/dist-packages (from requests->basicsr) (1.24.3)\n",
            "Requirement already satisfied: matplotlib!=3.0.0,>=2.0.0 in /usr/local/lib/python3.7/dist-packages (from scikit-image->basicsr) (3.2.2)\n",
            "Requirement already satisfied: imageio>=2.3.0 in /usr/local/lib/python3.7/dist-packages (from scikit-image->basicsr) (2.4.1)\n",
            "Requirement already satisfied: tifffile>=2019.7.26 in /usr/local/lib/python3.7/dist-packages (from scikit-image->basicsr) (2021.11.2)\n",
            "Requirement already satisfied: PyWavelets>=1.1.1 in /usr/local/lib/python3.7/dist-packages (from scikit-image->basicsr) (1.2.0)\n",
            "Requirement already satisfied: networkx>=2.0 in /usr/local/lib/python3.7/dist-packages (from scikit-image->basicsr) (2.6.3)\n",
            "Requirement already satisfied: python-dateutil>=2.1 in /usr/local/lib/python3.7/dist-packages (from matplotlib!=3.0.0,>=2.0.0->scikit-image->basicsr) (2.8.2)\n",
            "Requirement already satisfied: pyparsing!=2.0.4,!=2.1.2,!=2.1.6,>=2.0.1 in /usr/local/lib/python3.7/dist-packages (from matplotlib!=3.0.0,>=2.0.0->scikit-image->basicsr) (3.0.7)\n",
            "Requirement already satisfied: cycler>=0.10 in /usr/local/lib/python3.7/dist-packages (from matplotlib!=3.0.0,>=2.0.0->scikit-image->basicsr) (0.11.0)\n",
            "Requirement already satisfied: kiwisolver>=1.0.1 in /usr/local/lib/python3.7/dist-packages (from matplotlib!=3.0.0,>=2.0.0->scikit-image->basicsr) (1.3.2)\n",
            "Requirement already satisfied: six>=1.5 in /usr/local/lib/python3.7/dist-packages (from python-dateutil>=2.1->matplotlib!=3.0.0,>=2.0.0->scikit-image->basicsr) (1.15.0)\n",
            "Requirement already satisfied: markdown>=2.6.8 in /usr/local/lib/python3.7/dist-packages (from tb-nightly->basicsr) (3.3.6)\n",
            "Requirement already satisfied: protobuf>=3.9.2 in /usr/local/lib/python3.7/dist-packages (from tb-nightly->basicsr) (3.17.3)\n",
            "Requirement already satisfied: wheel>=0.26 in /usr/local/lib/python3.7/dist-packages (from tb-nightly->basicsr) (0.37.1)\n",
            "Requirement already satisfied: grpcio>=1.24.3 in /usr/local/lib/python3.7/dist-packages (from tb-nightly->basicsr) (1.44.0)\n",
            "Requirement already satisfied: tensorboard-data-server<0.7.0,>=0.6.0 in /usr/local/lib/python3.7/dist-packages (from tb-nightly->basicsr) (0.6.1)\n",
            "Requirement already satisfied: google-auth-oauthlib<0.5,>=0.4.1 in /usr/local/lib/python3.7/dist-packages (from tb-nightly->basicsr) (0.4.6)\n",
            "Requirement already satisfied: tensorboard-plugin-wit>=1.6.0 in /usr/local/lib/python3.7/dist-packages (from tb-nightly->basicsr) (1.8.1)\n",
            "Requirement already satisfied: setuptools>=41.0.0 in /usr/local/lib/python3.7/dist-packages (from tb-nightly->basicsr) (57.4.0)\n",
            "Requirement already satisfied: werkzeug>=0.11.15 in /usr/local/lib/python3.7/dist-packages (from tb-nightly->basicsr) (1.0.1)\n",
            "Requirement already satisfied: google-auth<3,>=1.6.3 in /usr/local/lib/python3.7/dist-packages (from tb-nightly->basicsr) (1.35.0)\n",
            "Requirement already satisfied: absl-py>=0.4 in /usr/local/lib/python3.7/dist-packages (from tb-nightly->basicsr) (1.0.0)\n",
            "Requirement already satisfied: pyasn1-modules>=0.2.1 in /usr/local/lib/python3.7/dist-packages (from google-auth<3,>=1.6.3->tb-nightly->basicsr) (0.2.8)\n",
            "Requirement already satisfied: cachetools<5.0,>=2.0.0 in /usr/local/lib/python3.7/dist-packages (from google-auth<3,>=1.6.3->tb-nightly->basicsr) (4.2.4)\n",
            "Requirement already satisfied: rsa<5,>=3.1.4 in /usr/local/lib/python3.7/dist-packages (from google-auth<3,>=1.6.3->tb-nightly->basicsr) (4.8)\n",
            "Requirement already satisfied: requests-oauthlib>=0.7.0 in /usr/local/lib/python3.7/dist-packages (from google-auth-oauthlib<0.5,>=0.4.1->tb-nightly->basicsr) (1.3.1)\n",
            "Requirement already satisfied: importlib-metadata>=4.4 in /usr/local/lib/python3.7/dist-packages (from markdown>=2.6.8->tb-nightly->basicsr) (4.11.2)\n",
            "Requirement already satisfied: zipp>=0.5 in /usr/local/lib/python3.7/dist-packages (from importlib-metadata>=4.4->markdown>=2.6.8->tb-nightly->basicsr) (3.7.0)\n",
            "Requirement already satisfied: pyasn1<0.5.0,>=0.4.6 in /usr/local/lib/python3.7/dist-packages (from pyasn1-modules>=0.2.1->google-auth<3,>=1.6.3->tb-nightly->basicsr) (0.4.8)\n",
            "Requirement already satisfied: oauthlib>=3.0.0 in /usr/local/lib/python3.7/dist-packages (from requests-oauthlib>=0.7.0->google-auth-oauthlib<0.5,>=0.4.1->tb-nightly->basicsr) (3.2.0)\n",
            "Building wheels for collected packages: basicsr\n",
            "  Building wheel for basicsr (setup.py) ... \u001b[?25l\u001b[?25hdone\n",
            "  Created wheel for basicsr: filename=basicsr-1.3.5-py3-none-any.whl size=194483 sha256=37d4a7e4fc4c19c019219184b5e201a12372bb9aa843b9979cdf3e3b7f26e83a\n",
            "  Stored in directory: /root/.cache/pip/wheels/74/1b/d0/8659cf028233dd1e3bf282271009fbf037dfc4ab761f32a032\n",
            "Successfully built basicsr\n",
            "Installing collected packages: basicsr\n",
            "Successfully installed basicsr-1.3.5\n",
            "Disable distributed.\n",
            "2022-03-08 16:24:09,197 INFO: \n",
            "  name: LPTN_FiveK_480p\n",
            "  model_type: LPTNTestModel\n",
            "  num_gpu: 1\n",
            "  manual_seed: 10\n",
            "  datasets:[\n",
            "    test:[\n",
            "      name: FiveK_val\n",
            "      type: PairedImageDataset\n",
            "      dataroot_gt: datasets/FiveK/FiveK_test_target.lmdb\n",
            "      dataroot_lq: datasets/FiveK/FiveK_test_source.lmdb\n",
            "      io_backend:[\n",
            "        type: lmdb\n",
            "      ]\n",
            "      phase: test\n",
            "    ]\n",
            "  ]\n",
            "  network_g:[\n",
            "    type: LPTN\n",
            "    nrb_low: 5\n",
            "    nrb_high: 3\n",
            "    num_high: 3\n",
            "  ]\n",
            "  path:[\n",
            "    pretrain_network_g: experiments/pretrained_models/net_g_FiveK_numhigh3.pth\n",
            "    strict_load_g: False\n",
            "    root: /content/LPTN\n",
            "    results_root: /content/LPTN/results/LPTN_FiveK_480p\n",
            "    log: /content/LPTN/results/LPTN_FiveK_480p\n",
            "    visualization: /content/LPTN/results/LPTN_FiveK_480p/visualization\n",
            "  ]\n",
            "  val:[\n",
            "    save_img: True\n",
            "    suffix: None\n",
            "    metrics:[\n",
            "      psnr:[\n",
            "        type: calculate_psnr\n",
            "        crop_border: 0\n",
            "        test_y_channel: False\n",
            "      ]\n",
            "    ]\n",
            "  ]\n",
            "  is_train: False\n",
            "  dist: False\n",
            "  rank: 0\n",
            "  world_size: 1\n",
            "\n",
            "2022-03-08 16:24:09,199 INFO: Dataset PairedImageDataset - FiveK_val is created.\n",
            "2022-03-08 16:24:09,200 INFO: Number of test images in FiveK_val: 500\n",
            "Traceback (most recent call last):\n",
            "  File \"codes/test.py\", line 56, in <module>\n",
            "    main()\n",
            "  File \"codes/test.py\", line 43, in main\n",
            "    model = create_model(opt)\n",
            "  File \"/content/LPTN/codes/models/__init__.py\", line 38, in create_model\n",
            "    model = model_cls(opt)\n",
            "  File \"/content/LPTN/codes/models/lptn_test_model.py\", line 23, in __init__\n",
            "    self.net_g = define_network(deepcopy(opt['network_g']))\n",
            "  File \"/content/LPTN/codes/models/archs/__init__.py\", line 45, in define_network\n",
            "    net = dynamic_instantiation(_arch_modules, network_type, opt)\n",
            "  File \"/content/LPTN/codes/models/archs/__init__.py\", line 40, in dynamic_instantiation\n",
            "    return cls_(**opt)\n",
            "  File \"/content/LPTN/codes/models/archs/LPTN_arch.py\", line 176, in __init__\n",
            "    self.lap_pyramid = Lap_Pyramid_Conv(num_high)\n",
            "  File \"/content/LPTN/codes/models/archs/LPTN_arch.py\", line 38, in __init__\n",
            "    self.kernel = self.gauss_kernel()\n",
            "  File \"/content/LPTN/codes/models/archs/LPTN_arch.py\", line 48, in gauss_kernel\n",
            "    kernel = kernel.to(device)\n",
            "  File \"/usr/local/lib/python3.7/dist-packages/torch/cuda/__init__.py\", line 214, in _lazy_init\n",
            "    torch._C._cuda_init()\n",
            "RuntimeError: No CUDA GPUs are available\n"
          ]
        }
      ]
    },
    {
      "cell_type": "markdown",
      "source": [
        "speed testing"
      ],
      "metadata": {
        "id": "s_5Ld8TRTeZ1"
      }
    },
    {
      "cell_type": "code",
      "source": [
        "!PYTHONPATH=\"/content/LPTN/:${PYTHONPATH}\" CUDA_VISIBLE_DEVICES=0 python codes/test_speed.py -opt options/test/LPTN/test_speed_FiveK.yml\n",
        "# !python3 /content/LPTN/codes/test_speed.py -opt options/test/LPTN/test_speed_FiveK.yml"
      ],
      "metadata": {
        "id": "0zzLtvOiTdgQ",
        "outputId": "33798117-5abd-4b5a-e687-d37a49771fee",
        "colab": {
          "base_uri": "https://localhost:8080/"
        }
      },
      "execution_count": 47,
      "outputs": [
        {
          "output_type": "stream",
          "name": "stdout",
          "text": [
            "Disable distributed.\n",
            "2022-03-08 16:24:37,285 INFO: \n",
            "  name: LPTN_test_speed\n",
            "  model_type: LPTNTestModel\n",
            "  num_gpu: 1\n",
            "  manual_seed: 10\n",
            "  datasets:[\n",
            "    test:[\n",
            "      name: FiveK_val\n",
            "      type: PairedImageDataset\n",
            "      dataroot_gt: datasets/FiveK/FiveK_test_target.lmdb\n",
            "      dataroot_lq: datasets/FiveK/FiveK_test_source.lmdb\n",
            "      io_backend:[\n",
            "        type: lmdb\n",
            "      ]\n",
            "      phase: test\n",
            "    ]\n",
            "  ]\n",
            "  network_g:[\n",
            "    type: LPTN\n",
            "    nrb_low: 5\n",
            "    nrb_high: 3\n",
            "    num_high: 3\n",
            "  ]\n",
            "  path:[\n",
            "    pretrain_network_g: experiments/pretrained_models/net_g_FiveK_numhigh3.pth\n",
            "    strict_load_g: False\n",
            "    root: /content/LPTN\n",
            "    results_root: /content/LPTN/results/LPTN_test_speed\n",
            "    log: /content/LPTN/results/LPTN_test_speed\n",
            "    visualization: /content/LPTN/results/LPTN_test_speed/visualization\n",
            "  ]\n",
            "  val:[\n",
            "    num_img: 10\n",
            "    times_per_img: 50\n",
            "    fix_img_size: [3840, 2160]\n",
            "  ]\n",
            "  is_train: False\n",
            "  dist: False\n",
            "  rank: 0\n",
            "  world_size: 1\n",
            "\n",
            "2022-03-08 16:24:37,287 INFO: Dataset PairedImageDataset - FiveK_val is created.\n",
            "2022-03-08 16:24:37,287 INFO: Number of test images in FiveK_val: 500\n",
            "Traceback (most recent call last):\n",
            "  File \"codes/test_speed.py\", line 55, in <module>\n",
            "    main()\n",
            "  File \"codes/test_speed.py\", line 43, in main\n",
            "    model = create_model(opt)\n",
            "  File \"/content/LPTN/codes/models/__init__.py\", line 38, in create_model\n",
            "    model = model_cls(opt)\n",
            "  File \"/content/LPTN/codes/models/lptn_test_model.py\", line 23, in __init__\n",
            "    self.net_g = define_network(deepcopy(opt['network_g']))\n",
            "  File \"/content/LPTN/codes/models/archs/__init__.py\", line 45, in define_network\n",
            "    net = dynamic_instantiation(_arch_modules, network_type, opt)\n",
            "  File \"/content/LPTN/codes/models/archs/__init__.py\", line 40, in dynamic_instantiation\n",
            "    return cls_(**opt)\n",
            "  File \"/content/LPTN/codes/models/archs/LPTN_arch.py\", line 176, in __init__\n",
            "    self.lap_pyramid = Lap_Pyramid_Conv(num_high)\n",
            "  File \"/content/LPTN/codes/models/archs/LPTN_arch.py\", line 38, in __init__\n",
            "    self.kernel = self.gauss_kernel()\n",
            "  File \"/content/LPTN/codes/models/archs/LPTN_arch.py\", line 48, in gauss_kernel\n",
            "    kernel = kernel.to(device)\n",
            "  File \"/usr/local/lib/python3.7/dist-packages/torch/cuda/__init__.py\", line 214, in _lazy_init\n",
            "    torch._C._cuda_init()\n",
            "RuntimeError: No CUDA GPUs are available\n"
          ]
        }
      ]
    },
    {
      "cell_type": "code",
      "source": [
        ""
      ],
      "metadata": {
        "id": "S_al0RKJWLp-"
      },
      "execution_count": null,
      "outputs": []
    }
  ]
}