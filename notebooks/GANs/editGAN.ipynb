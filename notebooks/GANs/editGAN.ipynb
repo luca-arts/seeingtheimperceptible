{
  "nbformat": 4,
  "nbformat_minor": 0,
  "metadata": {
    "colab": {
      "name": "Untitled5.ipynb",
      "provenance": [],
      "authorship_tag": "ABX9TyOkNti4FUr9gaHTpDUhJf/w",
      "include_colab_link": true
    },
    "kernelspec": {
      "name": "python3",
      "display_name": "Python 3"
    },
    "language_info": {
      "name": "python"
    },
    "accelerator": "GPU",
    "gpuClass": "standard"
  },
  "cells": [
    {
      "cell_type": "markdown",
      "metadata": {
        "id": "view-in-github",
        "colab_type": "text"
      },
      "source": [
        "<a href=\"https://colab.research.google.com/github/luca-arts/seeingtheimperceptible/blob/main/notebooks/GANs/editGAN.ipynb\" target=\"_parent\"><img src=\"https://colab.research.google.com/assets/colab-badge.svg\" alt=\"Open In Colab\"/></a>"
      ]
    },
    {
      "cell_type": "markdown",
      "source": [
        "# editGAN\n",
        "\n",
        "[nv-tlabs editGAN](https://github.com/nv-tlabs/editGAN_release)"
      ],
      "metadata": {
        "id": "dSeEoTOsDiuX"
      }
    },
    {
      "cell_type": "code",
      "execution_count": 7,
      "metadata": {
        "colab": {
          "base_uri": "https://localhost:8080/"
        },
        "id": "0-a9r1Q3Dg57",
        "outputId": "21835b2c-e33b-46b3-8bea-3b4da7e24e26"
      },
      "outputs": [
        {
          "output_type": "stream",
          "name": "stdout",
          "text": [
            "\u001b[?25l\r\u001b[K     |███                             | 10 kB 30.3 MB/s eta 0:00:01\r\u001b[K     |██████                          | 20 kB 8.2 MB/s eta 0:00:01\r\u001b[K     |█████████                       | 30 kB 7.3 MB/s eta 0:00:01\r\u001b[K     |████████████▏                   | 40 kB 6.9 MB/s eta 0:00:01\r\u001b[K     |███████████████▏                | 51 kB 4.4 MB/s eta 0:00:01\r\u001b[K     |██████████████████▏             | 61 kB 5.2 MB/s eta 0:00:01\r\u001b[K     |█████████████████████▏          | 71 kB 5.1 MB/s eta 0:00:01\r\u001b[K     |████████████████████████▎       | 81 kB 5.1 MB/s eta 0:00:01\r\u001b[K     |███████████████████████████▎    | 92 kB 5.7 MB/s eta 0:00:01\r\u001b[K     |██████████████████████████████▎ | 102 kB 5.3 MB/s eta 0:00:01\r\u001b[K     |████████████████████████████████| 108 kB 5.3 MB/s \n",
            "\u001b[?25h"
          ]
        }
      ],
      "source": [
        "import os\n",
        "from pathlib import Path\n",
        "work_dir = Path('/content/editGAN')\n",
        "if not work_dir.exists():\n",
        "  !git clone https://github.com/nv-tlabs/editGAN_release {work_dir}\n",
        "!pip install -q Flask==2.0.1 \\\n",
        "Flask_Cors==3.0.10 \\\n",
        "imageio==2.15.0 \\\n",
        "ipdb==0.13.9 \\\n",
        "ipython \\\n",
        "numpy==1.21.2 \\\n",
        "Pillow==9.0.1 \\\n",
        "scikit_image==0.15.0 \\\n",
        "scipy==1.6. \\\n",
        "scikit-image \\\n",
        "torch \\\n",
        "torchvision \\\n",
        "tqdm==4.62.1 \\\n",
        "Ninja\n",
        "# !pip install -r {work_dir}/requirements.txt\n",
        "!export PYTHONPATH={work_dir}"
      ]
    },
    {
      "cell_type": "code",
      "source": [
        "from google.colab import drive\n",
        "drive.mount('/content/drive')"
      ],
      "metadata": {
        "colab": {
          "base_uri": "https://localhost:8080/"
        },
        "id": "pAdMgs0sDnbm",
        "outputId": "96e9d2f6-2cd6-437f-e385-0526d500c8fc"
      },
      "execution_count": 1,
      "outputs": [
        {
          "output_type": "stream",
          "name": "stdout",
          "text": [
            "Mounted at /content/drive\n"
          ]
        }
      ]
    },
    {
      "cell_type": "code",
      "source": [
        "from pathlib import Path\n",
        "import os\n",
        "drive_path = Path('/content/drive/AI/editGAN')\n",
        "os.symlink(drive_path / 'checkpoint','/content/checkpoint')"
      ],
      "metadata": {
        "id": "9sXrMCuvD0Cb"
      },
      "execution_count": 5,
      "outputs": []
    },
    {
      "cell_type": "code",
      "source": [
        "!python editGAN/run_app.py"
      ],
      "metadata": {
        "colab": {
          "base_uri": "https://localhost:8080/"
        },
        "id": "iXnLvs8NE71u",
        "outputId": "bc2a0e3c-79dd-46f4-a739-84105309de88"
      },
      "execution_count": null,
      "outputs": [
        {
          "metadata": {
            "tags": null
          },
          "name": "stdout",
          "output_type": "stream",
          "text": [
            " * Serving Flask app 'run_app' (lazy loading)\n",
            " * Environment: production\n",
            "\u001b[31m   WARNING: This is a development server. Do not use it in a production deployment.\u001b[0m\n",
            "\u001b[2m   Use a production WSGI server instead.\u001b[0m\n",
            " * Debug mode: off\n",
            " * Running on all addresses (0.0.0.0)\n",
            "   WARNING: This is a development server. Do not use it in a production deployment.\n",
            " * Running on http://127.0.0.1:8888\n",
            " * Running on http://172.28.0.2:8888 (Press CTRL+C to quit)\n"
          ]
        }
      ]
    },
    {
      "cell_type": "code",
      "source": [
        ""
      ],
      "metadata": {
        "id": "49eaurutFlOO"
      },
      "execution_count": null,
      "outputs": []
    }
  ]
}