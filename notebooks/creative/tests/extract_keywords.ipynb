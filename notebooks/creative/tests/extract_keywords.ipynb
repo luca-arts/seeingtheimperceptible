{
  "nbformat": 4,
  "nbformat_minor": 0,
  "metadata": {
    "colab": {
      "provenance": [],
      "authorship_tag": "ABX9TyMbJFHJYmZ3i0AG2487aUT3",
      "include_colab_link": true
    },
    "kernelspec": {
      "name": "python3",
      "display_name": "Python 3"
    },
    "language_info": {
      "name": "python"
    }
  },
  "cells": [
    {
      "cell_type": "markdown",
      "metadata": {
        "id": "view-in-github",
        "colab_type": "text"
      },
      "source": [
        "<a href=\"https://colab.research.google.com/github/luca-arts/seeingtheimperceptible/blob/main/notebooks/creative/tests/extract_keywords.ipynb\" target=\"_parent\"><img src=\"https://colab.research.google.com/assets/colab-badge.svg\" alt=\"Open In Colab\"/></a>"
      ]
    },
    {
      "cell_type": "markdown",
      "source": [
        "# Extract keywords\n",
        "\n",
        "We want to extract keywords from a sentence to see if we can use this to swifter generate images based on a given article."
      ],
      "metadata": {
        "id": "1bS2CnCffruI"
      }
    },
    {
      "cell_type": "code",
      "execution_count": 11,
      "metadata": {
        "cellView": "form",
        "id": "bRPEB3CWdmvl"
      },
      "outputs": [],
      "source": [
        "title = \"Poetin: 'Rusland klaar om gas door Nord Stream 2 te sturen'\" #@param\n",
        "text = \"De Russische president Vladimir Poetin heeft gezegd dat zijn land klaar is om opnieuw gas te sturen door het gedeelte van de pijpleiding Nord Stream 2 dat nog operationeel is. Dat zei Poetin op een forumgesprek tijdens de 'Russische energieweek'. 'De bal ligt nu bij de Europese Unie om te bekijken of ze gas willen van de pijpleiding', zei hij. 'Als ze willen, moeten ze gewoon de kraan opendraaien.' 'We kunnen mijns inziens de verloren volumes van de Baltische Zee verhuizen naar de Zwarte Zee', vervolgde hij. 'Op die manier kunnen we Turkije gebruiken als de belangrijkste Europese hub voor gastoevoer uit Rusland. Daar zijn twee voorwaarden aan verbonden: onze partners moeten geïnteresseerd zijn en het moet economisch haalbaar zijn.' Poetin zei nog dat Rusland niets te maken heeft met de hoge energieprijzen in Europa. Hij stelde het Westen er zelf verantwoordelijk voor om een globale energiecrisis te veroorzaken.\" #@param\n",
        "full_text = title + \", \" + text"
      ]
    },
    {
      "cell_type": "code",
      "source": [
        "#@title prerequisites\n",
        "!pip install -q keybert\n",
        "from keybert import KeyBERT"
      ],
      "metadata": {
        "cellView": "form",
        "id": "Yp0Lfeiyd8r9"
      },
      "execution_count": 21,
      "outputs": []
    },
    {
      "cell_type": "code",
      "source": [
        "#@title single words\n",
        "kw_model = KeyBERT()\n",
        "keywords = kw_model.extract_keywords(full_text, keyphrase_ngram_range=(1,1), highlight=True)"
      ],
      "metadata": {
        "colab": {
          "base_uri": "https://localhost:8080/",
          "height": 161
        },
        "cellView": "form",
        "id": "o8TD1nO5i3uz",
        "outputId": "c3731f39-a330-42b3-d506-6c38081f4507"
      },
      "execution_count": 22,
      "outputs": [
        {
          "output_type": "display_data",
          "data": {
            "text/plain": [
              "Poetin Rusland klaar om gas door Nord Stream te sturen De Russische president Vladimir Poetin heeft gezegd dat \u001b[30;48;2;255;255;0mzijn\u001b[0m\n",
              "land klaar is om opnieuw gas te sturen door het gedeelte van de pijpleiding Nord Stream dat nog operationeel is Dat\n",
              "zei Poetin op een forumgesprek tijdens de Russische energieweek De bal ligt nu bij de Europese Unie om te \u001b[30;48;2;255;255;0mbekijken\u001b[0m \n",
              "of ze gas willen van de pijpleiding zei hij Als ze willen moeten ze gewoon de kraan opendraaien We kunnen mijns \n",
              "inziens de verloren volumes van de Baltische Zee verhuizen naar de Zwarte Zee vervolgde hij Op die manier kunnen we\n",
              "\u001b[30;48;2;255;255;0mTurkije\u001b[0m gebruiken als de belangrijkste Europese hub voor \u001b[30;48;2;255;255;0mgastoevoer\u001b[0m uit Rusland Daar \u001b[30;48;2;255;255;0mzijn\u001b[0m twee \u001b[30;48;2;255;255;0mvoorwaarden\u001b[0m aan \n",
              "verbonden onze partners moeten geïnteresseerd \u001b[30;48;2;255;255;0mzijn\u001b[0m en het moet economisch haalbaar \u001b[30;48;2;255;255;0mzijn\u001b[0m Poetin zei nog dat Rusland \n",
              "niets te maken heeft met de hoge energieprijzen in Europa Hij stelde het Westen er zelf verantwoordelijk voor om \n",
              "een globale energiecrisis te veroorzaken\n"
            ],
            "text/html": [
              "<pre style=\"white-space:pre;overflow-x:auto;line-height:normal;font-family:Menlo,'DejaVu Sans Mono',consolas,'Courier New',monospace\">Poetin Rusland klaar om gas door Nord Stream te sturen De Russische president Vladimir Poetin heeft gezegd dat <span style=\"color: #000000; text-decoration-color: #000000; background-color: #ffff00\">zijn</span>\n",
              "land klaar is om opnieuw gas te sturen door het gedeelte van de pijpleiding Nord Stream dat nog operationeel is Dat\n",
              "zei Poetin op een forumgesprek tijdens de Russische energieweek De bal ligt nu bij de Europese Unie om te <span style=\"color: #000000; text-decoration-color: #000000; background-color: #ffff00\">bekijken</span> \n",
              "of ze gas willen van de pijpleiding zei hij Als ze willen moeten ze gewoon de kraan opendraaien We kunnen mijns \n",
              "inziens de verloren volumes van de Baltische Zee verhuizen naar de Zwarte Zee vervolgde hij Op die manier kunnen we\n",
              "<span style=\"color: #000000; text-decoration-color: #000000; background-color: #ffff00\">Turkije</span> gebruiken als de belangrijkste Europese hub voor <span style=\"color: #000000; text-decoration-color: #000000; background-color: #ffff00\">gastoevoer</span> uit Rusland Daar <span style=\"color: #000000; text-decoration-color: #000000; background-color: #ffff00\">zijn</span> twee <span style=\"color: #000000; text-decoration-color: #000000; background-color: #ffff00\">voorwaarden</span> aan \n",
              "verbonden onze partners moeten geïnteresseerd <span style=\"color: #000000; text-decoration-color: #000000; background-color: #ffff00\">zijn</span> en het moet economisch haalbaar <span style=\"color: #000000; text-decoration-color: #000000; background-color: #ffff00\">zijn</span> Poetin zei nog dat Rusland \n",
              "niets te maken heeft met de hoge energieprijzen in Europa Hij stelde het Westen er zelf verantwoordelijk voor om \n",
              "een globale energiecrisis te veroorzaken\n",
              "</pre>\n"
            ]
          },
          "metadata": {}
        }
      ]
    },
    {
      "cell_type": "code",
      "source": [
        "#@title two words\n",
        "kw_model = KeyBERT()\n",
        "keywords = kw_model.extract_keywords(full_text, keyphrase_ngram_range=(1,2), highlight=True)"
      ],
      "metadata": {
        "colab": {
          "base_uri": "https://localhost:8080/",
          "height": 161
        },
        "cellView": "form",
        "id": "AhLLPLwbgJTt",
        "outputId": "06a169c9-37ee-480b-f493-bc084c05e43b"
      },
      "execution_count": 23,
      "outputs": [
        {
          "output_type": "display_data",
          "data": {
            "text/plain": [
              "Poetin Rusland klaar om gas door Nord Stream te sturen De Russische president Vladimir Poetin heeft gezegd dat zijn\n",
              "land klaar is om opnieuw gas te sturen door het gedeelte van de pijpleiding Nord Stream dat nog operationeel is Dat\n",
              "zei Poetin op een forumgesprek tijdens de Russische energieweek De bal ligt nu bij de Europese Unie om te bekijken \n",
              "of ze gas willen van de pijpleiding zei hij Als ze willen moeten ze gewoon de kraan opendraaien We kunnen mijns \n",
              "inziens de verloren volumes van de Baltische Zee verhuizen naar de Zwarte Zee vervolgde hij Op die manier kunnen we\n",
              "\u001b[30;48;2;255;255;0mTurkije gebruiken\u001b[0m de belangrijkste Europese hub \u001b[30;48;2;255;255;0mvoor gastoevoer\u001b[0m Rusland Daar zijn twee voorwaarden aan verbonden \n",
              "onze partners moeten geïnteresseerd zijn en het moet economisch haalbaar \u001b[30;48;2;255;255;0mzijn Poetin\u001b[0m nog dat Rusland niets te maken\n",
              "heeft met de hoge energieprijzen in Europa Hij stelde het Westen er zelf \u001b[30;48;2;255;255;0mverantwoordelijk voor\u001b[0m een globale \n",
              "energiecrisis te veroorzaken\n"
            ],
            "text/html": [
              "<pre style=\"white-space:pre;overflow-x:auto;line-height:normal;font-family:Menlo,'DejaVu Sans Mono',consolas,'Courier New',monospace\">Poetin Rusland klaar om gas door Nord Stream te sturen De Russische president Vladimir Poetin heeft gezegd dat zijn\n",
              "land klaar is om opnieuw gas te sturen door het gedeelte van de pijpleiding Nord Stream dat nog operationeel is Dat\n",
              "zei Poetin op een forumgesprek tijdens de Russische energieweek De bal ligt nu bij de Europese Unie om te bekijken \n",
              "of ze gas willen van de pijpleiding zei hij Als ze willen moeten ze gewoon de kraan opendraaien We kunnen mijns \n",
              "inziens de verloren volumes van de Baltische Zee verhuizen naar de Zwarte Zee vervolgde hij Op die manier kunnen we\n",
              "<span style=\"color: #000000; text-decoration-color: #000000; background-color: #ffff00\">Turkije gebruiken</span> de belangrijkste Europese hub <span style=\"color: #000000; text-decoration-color: #000000; background-color: #ffff00\">voor gastoevoer</span> Rusland Daar zijn twee voorwaarden aan verbonden \n",
              "onze partners moeten geïnteresseerd zijn en het moet economisch haalbaar <span style=\"color: #000000; text-decoration-color: #000000; background-color: #ffff00\">zijn Poetin</span> nog dat Rusland niets te maken\n",
              "heeft met de hoge energieprijzen in Europa Hij stelde het Westen er zelf <span style=\"color: #000000; text-decoration-color: #000000; background-color: #ffff00\">verantwoordelijk voor</span> een globale \n",
              "energiecrisis te veroorzaken\n",
              "</pre>\n"
            ]
          },
          "metadata": {}
        }
      ]
    },
    {
      "cell_type": "code",
      "source": [
        "#@title let's use a different model embedding\n",
        "from sentence_transformers import SentenceTransformer\n",
        "model = \"paraphrase-multilingual-MiniLM-L12-v2\"\n",
        "kw_model = KeyBERT(model)\n",
        "keywords = kw_model.extract_keywords(full_text, keyphrase_ngram_range=(1,2), highlight=True)"
      ],
      "metadata": {
        "colab": {
          "base_uri": "https://localhost:8080/",
          "height": 161
        },
        "cellView": "form",
        "id": "xzqhrPu5iB32",
        "outputId": "8a3db225-e198-4a94-8333-f841b0f67f63"
      },
      "execution_count": 24,
      "outputs": [
        {
          "output_type": "display_data",
          "data": {
            "text/plain": [
              "Poetin Rusland klaar om gas door Nord Stream te sturen De \u001b[30;48;2;255;255;0mRussische president\u001b[0m Poetin heeft gezegd dat zijn land \n",
              "klaar is om opnieuw gas te sturen door het gedeelte van de pijpleiding Nord Stream dat nog operationeel is Dat zei \n",
              "Poetin op een forumgesprek tijdens de Russische energieweek De bal ligt nu bij de Europese Unie om te bekijken of \n",
              "ze gas willen van de \u001b[30;48;2;255;255;0mpijpleiding zei\u001b[0m Als ze willen moeten ze gewoon de kraan opendraaien We kunnen mijns inziens de\n",
              "verloren volumes van de Baltische Zee verhuizen naar de Zwarte Zee vervolgde hij Op die manier kunnen we Turkije \n",
              "gebruiken als de belangrijkste Europese hub voor gastoevoer uit Rusland Daar zijn twee voorwaarden aan verbonden \n",
              "onze partners moeten geïnteresseerd zijn en het moet economisch haalbaar zijn Poetin zei nog \u001b[30;48;2;255;255;0mdat Rusland\u001b[0m te maken \n",
              "heeft met de hoge energieprijzen in Europa Hij stelde het Westen er zelf verantwoordelijk voor om een globale \n",
              "energiecrisis te veroorzaken\n"
            ],
            "text/html": [
              "<pre style=\"white-space:pre;overflow-x:auto;line-height:normal;font-family:Menlo,'DejaVu Sans Mono',consolas,'Courier New',monospace\">Poetin Rusland klaar om gas door Nord Stream te sturen De <span style=\"color: #000000; text-decoration-color: #000000; background-color: #ffff00\">Russische president</span> Poetin heeft gezegd dat zijn land \n",
              "klaar is om opnieuw gas te sturen door het gedeelte van de pijpleiding Nord Stream dat nog operationeel is Dat zei \n",
              "Poetin op een forumgesprek tijdens de Russische energieweek De bal ligt nu bij de Europese Unie om te bekijken of \n",
              "ze gas willen van de <span style=\"color: #000000; text-decoration-color: #000000; background-color: #ffff00\">pijpleiding zei</span> Als ze willen moeten ze gewoon de kraan opendraaien We kunnen mijns inziens de\n",
              "verloren volumes van de Baltische Zee verhuizen naar de Zwarte Zee vervolgde hij Op die manier kunnen we Turkije \n",
              "gebruiken als de belangrijkste Europese hub voor gastoevoer uit Rusland Daar zijn twee voorwaarden aan verbonden \n",
              "onze partners moeten geïnteresseerd zijn en het moet economisch haalbaar zijn Poetin zei nog <span style=\"color: #000000; text-decoration-color: #000000; background-color: #ffff00\">dat Rusland</span> te maken \n",
              "heeft met de hoge energieprijzen in Europa Hij stelde het Westen er zelf verantwoordelijk voor om een globale \n",
              "energiecrisis te veroorzaken\n",
              "</pre>\n"
            ]
          },
          "metadata": {}
        }
      ]
    },
    {
      "cell_type": "code",
      "source": [],
      "metadata": {
        "id": "tfkuOQx1iGVO"
      },
      "execution_count": null,
      "outputs": []
    }
  ]
}