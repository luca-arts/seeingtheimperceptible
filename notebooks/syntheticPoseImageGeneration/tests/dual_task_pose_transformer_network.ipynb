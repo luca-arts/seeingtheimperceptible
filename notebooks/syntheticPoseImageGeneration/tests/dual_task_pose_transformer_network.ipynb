{
  "nbformat": 4,
  "nbformat_minor": 0,
  "metadata": {
    "colab": {
      "name": "Untitled1.ipynb",
      "provenance": [],
      "authorship_tag": "ABX9TyM3PJhCxX9DmvJsh49EGNT6",
      "include_colab_link": true
    },
    "kernelspec": {
      "name": "python3",
      "display_name": "Python 3"
    },
    "language_info": {
      "name": "python"
    },
    "accelerator": "GPU",
    "gpuClass": "standard"
  },
  "cells": [
    {
      "cell_type": "markdown",
      "metadata": {
        "id": "view-in-github",
        "colab_type": "text"
      },
      "source": [
        "<a href=\"https://colab.research.google.com/github/luca-arts/seeingtheimperceptible/blob/main/notebooks/syntheticPoseImageGeneration/tests/dual_task_pose_transformer_network.ipynb\" target=\"_parent\"><img src=\"https://colab.research.google.com/assets/colab-badge.svg\" alt=\"Open In Colab\"/></a>"
      ]
    },
    {
      "cell_type": "markdown",
      "source": [
        "# Dual task Pose transformer network\n",
        "\n",
        "implementation of pre-trained model of [https://github.com/PangzeCheung/Dual-task-Pose-Transformer-Network](https://github.com/PangzeCheung/Dual-task-Pose-Transformer-Network)"
      ],
      "metadata": {
        "id": "i9q43leUEbKT"
      }
    },
    {
      "cell_type": "code",
      "execution_count": 1,
      "metadata": {
        "colab": {
          "base_uri": "https://localhost:8080/"
        },
        "id": "SPa94_0yEYwh",
        "outputId": "faa54063-07cf-48db-ce37-132d26c0d7e0"
      },
      "outputs": [
        {
          "output_type": "stream",
          "name": "stdout",
          "text": [
            "Mon Jun 27 07:31:33 2022       \n",
            "+-----------------------------------------------------------------------------+\n",
            "| NVIDIA-SMI 460.32.03    Driver Version: 460.32.03    CUDA Version: 11.2     |\n",
            "|-------------------------------+----------------------+----------------------+\n",
            "| GPU  Name        Persistence-M| Bus-Id        Disp.A | Volatile Uncorr. ECC |\n",
            "| Fan  Temp  Perf  Pwr:Usage/Cap|         Memory-Usage | GPU-Util  Compute M. |\n",
            "|                               |                      |               MIG M. |\n",
            "|===============================+======================+======================|\n",
            "|   0  Tesla P100-PCIE...  Off  | 00000000:00:04.0 Off |                    0 |\n",
            "| N/A   34C    P0    26W / 250W |      0MiB / 16280MiB |      0%      Default |\n",
            "|                               |                      |                  N/A |\n",
            "+-------------------------------+----------------------+----------------------+\n",
            "                                                                               \n",
            "+-----------------------------------------------------------------------------+\n",
            "| Processes:                                                                  |\n",
            "|  GPU   GI   CI        PID   Type   Process name                  GPU Memory |\n",
            "|        ID   ID                                                   Usage      |\n",
            "|=============================================================================|\n",
            "|  No running processes found                                                 |\n",
            "+-----------------------------------------------------------------------------+\n"
          ]
        }
      ],
      "source": [
        "!nvidia-smi"
      ]
    },
    {
      "cell_type": "code",
      "source": [
        "dir = '/content/Dual-task-Pose-Transformer-Network'\n",
        "!git clone https://github.com/PangzeCheung/Dual-task-Pose-Transformer-Network {dir}\n",
        "!pip install -qr {dir}/requirements.txt"
      ],
      "metadata": {
        "colab": {
          "base_uri": "https://localhost:8080/"
        },
        "id": "50TXOrIEElJp",
        "outputId": "59bb382c-57b6-446c-a8d9-7cfede922d98"
      },
      "execution_count": 9,
      "outputs": [
        {
          "output_type": "stream",
          "name": "stdout",
          "text": [
            "fatal: destination path '/content/Dual-task-Pose-Transformer-Network' already exists and is not an empty directory.\n"
          ]
        }
      ]
    },
    {
      "cell_type": "code",
      "source": [
        "import os\n",
        "# os.makedirs(os.path.join(dir,'results/DPTN_fashion'))\n",
        "!wget --no-parent -r \"https://drive.google.com/file/d/181PDBr7wM7qg9k2WHluqR-5fXEpcOmxq\" -O  \"{dir}/results/DPTN_fashion/latest_net_D.pth\"\n",
        "!wget --no-parent -r \"https://drive.google.com/file/d/1Vi1fFtscp6wYG388sGLi74EgPVSkDiKJ\" -O  \"{dir}/results/DPTN_fashion/latest_net_G.pth\""
      ],
      "metadata": {
        "colab": {
          "base_uri": "https://localhost:8080/"
        },
        "id": "7vmXfNwnE2Xt",
        "outputId": "8aecd465-d312-4701-aa5c-e77cd14da02e"
      },
      "execution_count": 23,
      "outputs": [
        {
          "output_type": "stream",
          "name": "stdout",
          "text": [
            "WARNING: combining -O with -r or -p will mean that all downloaded content\n",
            "will be placed in the single file you specified.\n",
            "\n",
            "--2022-06-27 08:04:40--  https://drive.google.com/file/d/181PDBr7wM7qg9k2WHluqR-5fXEpcOmxq\n",
            "Resolving drive.google.com (drive.google.com)... 173.194.217.139, 173.194.217.100, 173.194.217.102, ...\n",
            "Connecting to drive.google.com (drive.google.com)|173.194.217.139|:443... connected.\n",
            "HTTP request sent, awaiting response... 302 Moved Temporarily\n",
            "Location: https://drive.google.com/file/d/181PDBr7wM7qg9k2WHluqR-5fXEpcOmxq/ [following]\n",
            "--2022-06-27 08:04:40--  https://drive.google.com/file/d/181PDBr7wM7qg9k2WHluqR-5fXEpcOmxq/\n",
            "Reusing existing connection to drive.google.com:443.\n",
            "HTTP request sent, awaiting response... 302 Moved Temporarily\n",
            "Location: https://drive.google.com/file/d/181PDBr7wM7qg9k2WHluqR-5fXEpcOmxq/edit [following]\n",
            "--2022-06-27 08:04:40--  https://drive.google.com/file/d/181PDBr7wM7qg9k2WHluqR-5fXEpcOmxq/edit\n",
            "Reusing existing connection to drive.google.com:443.\n",
            "HTTP request sent, awaiting response... 200 OK\n",
            "Length: unspecified [text/html]\n",
            "Saving to: ‘/content/Dual-task-Pose-Transformer-Network/results/DPTN_fashion/latest_net_D.pth’\n",
            "\n",
            "/content/Dual-task-     [ <=>                ]  64.74K  --.-KB/s    in 0.003s  \n",
            "\n",
            "2022-06-27 08:04:40 (21.8 MB/s) - ‘/content/Dual-task-Pose-Transformer-Network/results/DPTN_fashion/latest_net_D.pth’ saved [66294]\n",
            "\n",
            "Loading robots.txt; please ignore errors.\n",
            "--2022-06-27 08:04:40--  https://drive.google.com/robots.txt\n",
            "Reusing existing connection to drive.google.com:443.\n",
            "HTTP request sent, awaiting response... 200 OK\n",
            "Length: unspecified [text/plain]\n",
            "Saving to: ‘/content/Dual-task-Pose-Transformer-Network/results/DPTN_fashion/latest_net_D.pth’\n",
            "\n",
            "/content/Dual-task-     [ <=>                ]     570  --.-KB/s    in 0s      \n",
            "\n",
            "2022-06-27 08:04:40 (2.75 MB/s) - ‘/content/Dual-task-Pose-Transformer-Network/results/DPTN_fashion/latest_net_D.pth’ saved [570]\n",
            "\n",
            "FINISHED --2022-06-27 08:04:40--\n",
            "Total wall clock time: 0.4s\n",
            "Downloaded: 2 files, 65K in 0.003s (20.6 MB/s)\n",
            "WARNING: combining -O with -r or -p will mean that all downloaded content\n",
            "will be placed in the single file you specified.\n",
            "\n",
            "--2022-06-27 08:04:40--  https://drive.google.com/file/d/1Vi1fFtscp6wYG388sGLi74EgPVSkDiKJ\n",
            "Resolving drive.google.com (drive.google.com)... 173.194.215.113, 173.194.215.100, 173.194.215.102, ...\n",
            "Connecting to drive.google.com (drive.google.com)|173.194.215.113|:443... connected.\n",
            "HTTP request sent, awaiting response... 302 Moved Temporarily\n",
            "Location: https://drive.google.com/file/d/1Vi1fFtscp6wYG388sGLi74EgPVSkDiKJ/ [following]\n",
            "--2022-06-27 08:04:40--  https://drive.google.com/file/d/1Vi1fFtscp6wYG388sGLi74EgPVSkDiKJ/\n",
            "Reusing existing connection to drive.google.com:443.\n",
            "HTTP request sent, awaiting response... 302 Moved Temporarily\n",
            "Location: https://drive.google.com/file/d/1Vi1fFtscp6wYG388sGLi74EgPVSkDiKJ/edit [following]\n",
            "--2022-06-27 08:04:40--  https://drive.google.com/file/d/1Vi1fFtscp6wYG388sGLi74EgPVSkDiKJ/edit\n",
            "Reusing existing connection to drive.google.com:443.\n",
            "HTTP request sent, awaiting response... 200 OK\n",
            "Length: unspecified [text/html]\n",
            "Saving to: ‘/content/Dual-task-Pose-Transformer-Network/results/DPTN_fashion/latest_net_G.pth’\n",
            "\n",
            "/content/Dual-task-     [ <=>                ]  64.74K  --.-KB/s    in 0.002s  \n",
            "\n",
            "2022-06-27 08:04:41 (27.6 MB/s) - ‘/content/Dual-task-Pose-Transformer-Network/results/DPTN_fashion/latest_net_G.pth’ saved [66295]\n",
            "\n",
            "Loading robots.txt; please ignore errors.\n",
            "--2022-06-27 08:04:41--  https://drive.google.com/robots.txt\n",
            "Reusing existing connection to drive.google.com:443.\n",
            "HTTP request sent, awaiting response... 200 OK\n",
            "Length: unspecified [text/plain]\n",
            "Saving to: ‘/content/Dual-task-Pose-Transformer-Network/results/DPTN_fashion/latest_net_G.pth’\n",
            "\n",
            "/content/Dual-task-     [ <=>                ]     570  --.-KB/s    in 0s      \n",
            "\n",
            "2022-06-27 08:04:41 (17.8 MB/s) - ‘/content/Dual-task-Pose-Transformer-Network/results/DPTN_fashion/latest_net_G.pth’ saved [570]\n",
            "\n",
            "FINISHED --2022-06-27 08:04:41--\n",
            "Total wall clock time: 0.4s\n",
            "Downloaded: 2 files, 65K in 0.002s (27.4 MB/s)\n",
            "WARNING: combining -O with -r or -p will mean that all downloaded content\n",
            "will be placed in the single file you specified.\n",
            "\n",
            "--2022-06-27 08:04:41--  https://drive.google.com/file/d/181PDBr7wM7qg9k2WHluqR-5fXEpcOmxq\n",
            "Resolving drive.google.com (drive.google.com)... 173.194.215.113, 173.194.215.100, 173.194.215.102, ...\n",
            "Connecting to drive.google.com (drive.google.com)|173.194.215.113|:443... connected.\n",
            "HTTP request sent, awaiting response... 302 Moved Temporarily\n",
            "Location: https://drive.google.com/file/d/181PDBr7wM7qg9k2WHluqR-5fXEpcOmxq/ [following]\n",
            "--2022-06-27 08:04:41--  https://drive.google.com/file/d/181PDBr7wM7qg9k2WHluqR-5fXEpcOmxq/\n",
            "Reusing existing connection to drive.google.com:443.\n",
            "HTTP request sent, awaiting response... 302 Moved Temporarily\n",
            "Location: https://drive.google.com/file/d/181PDBr7wM7qg9k2WHluqR-5fXEpcOmxq/edit [following]\n",
            "--2022-06-27 08:04:41--  https://drive.google.com/file/d/181PDBr7wM7qg9k2WHluqR-5fXEpcOmxq/edit\n",
            "Reusing existing connection to drive.google.com:443.\n",
            "HTTP request sent, awaiting response... 200 OK\n",
            "Length: unspecified [text/html]\n",
            "Saving to: ‘/content/Dual-task-Pose-Transformer-Network/results/DPTN_fashion/latest_net_D.pth’\n",
            "\n",
            "/content/Dual-task-     [ <=>                ]  64.74K  --.-KB/s    in 0.003s  \n",
            "\n",
            "2022-06-27 08:04:41 (23.6 MB/s) - ‘/content/Dual-task-Pose-Transformer-Network/results/DPTN_fashion/latest_net_D.pth’ saved [66294]\n",
            "\n",
            "Loading robots.txt; please ignore errors.\n",
            "--2022-06-27 08:04:41--  https://drive.google.com/robots.txt\n",
            "Reusing existing connection to drive.google.com:443.\n",
            "HTTP request sent, awaiting response... 200 OK\n",
            "Length: unspecified [text/plain]\n",
            "Saving to: ‘/content/Dual-task-Pose-Transformer-Network/results/DPTN_fashion/latest_net_D.pth’\n",
            "\n",
            "/content/Dual-task-     [ <=>                ]     570  --.-KB/s    in 0s      \n",
            "\n",
            "2022-06-27 08:04:41 (11.9 MB/s) - ‘/content/Dual-task-Pose-Transformer-Network/results/DPTN_fashion/latest_net_D.pth’ saved [570]\n",
            "\n",
            "FINISHED --2022-06-27 08:04:41--\n",
            "Total wall clock time: 0.4s\n",
            "Downloaded: 2 files, 65K in 0.003s (23.4 MB/s)\n"
          ]
        }
      ]
    },
    {
      "cell_type": "code",
      "source": [
        ""
      ],
      "metadata": {
        "id": "i-loU9k_Gri8"
      },
      "execution_count": null,
      "outputs": []
    }
  ]
}