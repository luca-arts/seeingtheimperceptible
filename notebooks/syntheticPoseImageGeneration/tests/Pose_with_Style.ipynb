{
  "nbformat": 4,
  "nbformat_minor": 0,
  "metadata": {
    "colab": {
      "name": "Pose with Style.ipynb",
      "provenance": [],
      "authorship_tag": "ABX9TyOKD9OgmlB6E54WPMcZQrI+",
      "include_colab_link": true
    },
    "kernelspec": {
      "name": "python3",
      "display_name": "Python 3"
    },
    "language_info": {
      "name": "python"
    },
    "accelerator": "GPU",
    "gpuClass": "standard"
  },
  "cells": [
    {
      "cell_type": "markdown",
      "metadata": {
        "id": "view-in-github",
        "colab_type": "text"
      },
      "source": [
        "<a href=\"https://colab.research.google.com/github/luca-arts/seeingtheimperceptible/blob/main/notebooks/syntheticPoseImageGeneration/tests/Pose_with_Style.ipynb\" target=\"_parent\"><img src=\"https://colab.research.google.com/assets/colab-badge.svg\" alt=\"Open In Colab\"/></a>"
      ]
    },
    {
      "cell_type": "markdown",
      "source": [
        "# Pose with Style: Detail-Preserving Pose-Guided Image Synthesis with Conditional StyleGAN\n",
        "\n",
        "[GitHub](https://github.com/BadourAlBahar/pose-with-style)"
      ],
      "metadata": {
        "id": "jhLttBQee4v9"
      }
    },
    {
      "cell_type": "markdown",
      "source": [
        "## 1. Preparations\n",
        "\n",
        "Before start, make sure that you choose\n",
        "\n",
        "Runtime Type = Python 3\n",
        "Hardware Accelerator = GPU"
      ],
      "metadata": {
        "id": "1pZg51gifGnm"
      }
    },
    {
      "cell_type": "code",
      "source": [
        "!nvidia-smi"
      ],
      "metadata": {
        "colab": {
          "base_uri": "https://localhost:8080/"
        },
        "id": "bjtCGLYIfL9C",
        "outputId": "98f3e74e-756e-4cf7-a22a-e1fb065f03ab"
      },
      "execution_count": 1,
      "outputs": [
        {
          "output_type": "stream",
          "name": "stdout",
          "text": [
            "Mon Jul 18 11:15:34 2022       \n",
            "+-----------------------------------------------------------------------------+\n",
            "| NVIDIA-SMI 460.32.03    Driver Version: 460.32.03    CUDA Version: 11.2     |\n",
            "|-------------------------------+----------------------+----------------------+\n",
            "| GPU  Name        Persistence-M| Bus-Id        Disp.A | Volatile Uncorr. ECC |\n",
            "| Fan  Temp  Perf  Pwr:Usage/Cap|         Memory-Usage | GPU-Util  Compute M. |\n",
            "|                               |                      |               MIG M. |\n",
            "|===============================+======================+======================|\n",
            "|   0  Tesla T4            Off  | 00000000:00:04.0 Off |                    0 |\n",
            "| N/A   42C    P8     9W /  70W |      0MiB / 15109MiB |      0%      Default |\n",
            "|                               |                      |                  N/A |\n",
            "+-------------------------------+----------------------+----------------------+\n",
            "                                                                               \n",
            "+-----------------------------------------------------------------------------+\n",
            "| Processes:                                                                  |\n",
            "|  GPU   GI   CI        PID   Type   Process name                  GPU Memory |\n",
            "|        ID   ID                                                   Usage      |\n",
            "|=============================================================================|\n",
            "|  No running processes found                                                 |\n",
            "+-----------------------------------------------------------------------------+\n"
          ]
        }
      ]
    },
    {
      "cell_type": "markdown",
      "source": [
        "## 2. linking nextcloud\n",
        "\n",
        "Connecting to the external NextCloud drive "
      ],
      "metadata": {
        "id": "OX3wO_L6fPUx"
      }
    },
    {
      "cell_type": "code",
      "source": [
        "# we'll link the dataset from next-cloud\n",
        "!curl https://raw.githubusercontent.com/luca-arts/seeingtheimperceptible/main/notebooks/database_mod.py -o /content/database_mod.py\n",
        "\n",
        "from database_mod import *\n",
        "\n",
        "link_nextcloud()\n",
        "\n",
        "nextcloud = '/content/database/'\n",
        "\n",
        "input_folder, output_folder = create_io(database=nextcloud,topic='syntheticPoseImageGeneration',library='PoseStyle')"
      ],
      "metadata": {
        "colab": {
          "base_uri": "https://localhost:8080/"
        },
        "id": "CLsuJNsjfSY8",
        "outputId": "d4a564a1-1f98-4706-bdae-03e58c0a64e3"
      },
      "execution_count": 2,
      "outputs": [
        {
          "output_type": "stream",
          "name": "stdout",
          "text": [
            "  % Total    % Received % Xferd  Average Speed   Time    Time     Time  Current\n",
            "                                 Dload  Upload   Total   Spent    Left  Speed\n",
            "100  2510  100  2510    0     0   7893      0 --:--:-- --:--:-- --:--:--  7893\n",
            "what's the username for nextcloud? colab\n",
            "what's the password for user colab? ··········\n",
            "0\n",
            "Please enter the username to authenticate with server\n",
            "https://cloud.bxlab.net/remote.php/dav/files/colab/colabfiles/ or hit enter for none.\n",
            "  Username: Please enter the password to authenticate user colab with server\n",
            "https://cloud.bxlab.net/remote.php/dav/files/colab/colabfiles/ or hit enter for none.\n",
            "  Password:  \n"
          ]
        }
      ]
    },
    {
      "cell_type": "markdown",
      "source": [
        "## 3. clone GIT repo"
      ],
      "metadata": {
        "id": "CEtQvsrgf89r"
      }
    },
    {
      "cell_type": "code",
      "source": [
        "import os\n",
        "root_path = '/content/PoseStyle'\n",
        "\n",
        "# clone the repository\n",
        "if not os.path.exists(root_path):\n",
        "  !git clone https://github.com/BadourAlBahar/pose-with-style {root_path}\n",
        "\n",
        "%ls"
      ],
      "metadata": {
        "colab": {
          "base_uri": "https://localhost:8080/"
        },
        "id": "ZqwuD7YAf-20",
        "outputId": "d9d73300-e6cd-4855-a45d-0c4fb08a18b2"
      },
      "execution_count": 3,
      "outputs": [
        {
          "output_type": "stream",
          "name": "stdout",
          "text": [
            "Cloning into '/content/PoseStyle'...\n",
            "remote: Enumerating objects: 43, done.\u001b[K\n",
            "remote: Counting objects: 100% (5/5), done.\u001b[K\n",
            "remote: Compressing objects: 100% (5/5), done.\u001b[K\n",
            "remote: Total 43 (delta 0), reused 0 (delta 0), pack-reused 38\u001b[K\n",
            "Unpacking objects: 100% (43/43), done.\n",
            "\u001b[0m\u001b[01;34mdatabase\u001b[0m/  database_mod.py  \u001b[01;34mPoseStyle\u001b[0m/  \u001b[01;34m__pycache__\u001b[0m/  \u001b[01;34msample_data\u001b[0m/\n"
          ]
        }
      ]
    },
    {
      "cell_type": "markdown",
      "source": [
        "## 4. Setting up the environment"
      ],
      "metadata": {
        "id": "zwwJPQr7h_lk"
      }
    },
    {
      "cell_type": "code",
      "source": [
        "#don't know if we need to install this - if i run it the code gives me an error\n",
        "#!pip install pytorch==1.9.0 torchvision==0.10.0 torchaudio==0.9.0 cudatoolkit=10.2 -c pytorch\n",
        "\n",
        "req_path = root_path + '/requirements.txt'\n",
        "\n",
        "# Set up the environment\n",
        "print('\\n> Install dependencies')\n",
        "\n",
        "print('\\n> Install pytorch')\n",
        "!pip install pytorch==1.9.0 --quiet \n",
        "\n",
        "print('\\n> Install torchvision')\n",
        "!pip install torchvision==0.10.0 --quiet \n",
        "\n",
        "print('\\n> Install torchaudio')\n",
        "!pip install torchaudio==0.9.0 --quiet\n",
        "\n",
        "print('\\n> Install cudatoolkit')\n",
        "!pip install cudatoolkit=10.2 -c pytorch --quiet\n",
        "\n",
        "print('\\n> Install requirements.txt')\n",
        "!pip install -r {req_path} --quiet\n",
        "\n",
        "print('\\n> Install OpenCV')\n",
        "!pip install opencv-python\n",
        "\n",
        "print('\\n> Install Ninja for C++ ext')\n",
        "!pip install Ninja"
      ],
      "metadata": {
        "id": "rkqXtVo3iJ-S",
        "outputId": "e460f616-2268-4f4a-c728-ecf8f51e88d2",
        "colab": {
          "base_uri": "https://localhost:8080/"
        }
      },
      "execution_count": 4,
      "outputs": [
        {
          "output_type": "stream",
          "name": "stdout",
          "text": [
            "\n",
            "> Install dependencies\n",
            "\n",
            "> Install pytorch\n",
            "\u001b[31mERROR: Could not find a version that satisfies the requirement pytorch==1.9.0 (from versions: 0.1.2, 1.0.2)\u001b[0m\n",
            "\u001b[31mERROR: No matching distribution found for pytorch==1.9.0\u001b[0m\n",
            "\n",
            "> Install torchvision\n",
            "\u001b[K     |████████████████████████████████| 22.1 MB 1.2 MB/s \n",
            "\u001b[K     |████████████████████████████████| 831.4 MB 2.8 kB/s \n",
            "\u001b[31mERROR: pip's dependency resolver does not currently take into account all the packages that are installed. This behaviour is the source of the following dependency conflicts.\n",
            "torchtext 0.13.0 requires torch==1.12.0, but you have torch 1.9.0 which is incompatible.\n",
            "torchaudio 0.12.0+cu113 requires torch==1.12.0, but you have torch 1.9.0 which is incompatible.\u001b[0m\n",
            "\u001b[?25h\n",
            "> Install torchaudio\n",
            "\u001b[K     |████████████████████████████████| 1.9 MB 37.1 MB/s \n",
            "\u001b[?25h\n",
            "> Install cudatoolkit\n",
            "\u001b[31mERROR: Could not open requirements file: [Errno 2] No such file or directory: 'pytorch'\u001b[0m\n",
            "\n",
            "> Install requirements.txt\n",
            "\n",
            "> Install OpenCV\n",
            "Looking in indexes: https://pypi.org/simple, https://us-python.pkg.dev/colab-wheels/public/simple/\n",
            "Requirement already satisfied: opencv-python in /usr/local/lib/python3.7/dist-packages (4.1.2.30)\n",
            "Requirement already satisfied: numpy>=1.14.5 in /usr/local/lib/python3.7/dist-packages (from opencv-python) (1.21.6)\n",
            "\n",
            "> Install Ninja for C++ ext\n",
            "Looking in indexes: https://pypi.org/simple, https://us-python.pkg.dev/colab-wheels/public/simple/\n",
            "Collecting Ninja\n",
            "  Downloading ninja-1.10.2.3-py2.py3-none-manylinux_2_5_x86_64.manylinux1_x86_64.whl (108 kB)\n",
            "\u001b[K     |████████████████████████████████| 108 kB 11.6 MB/s \n",
            "\u001b[?25hInstalling collected packages: Ninja\n",
            "Successfully installed Ninja-1.10.2.3\n"
          ]
        }
      ]
    },
    {
      "cell_type": "code",
      "source": [
        "import torch\n",
        "print(\"pytorch ::: \" + torch.__version__)"
      ],
      "metadata": {
        "id": "2FSqgFDDmekj",
        "outputId": "0e7061c6-af3c-4d23-e521-f100e1043cbc",
        "colab": {
          "base_uri": "https://localhost:8080/"
        }
      },
      "execution_count": 5,
      "outputs": [
        {
          "output_type": "stream",
          "name": "stdout",
          "text": [
            "pytorch ::: 1.9.0+cu102\n"
          ]
        }
      ]
    },
    {
      "cell_type": "markdown",
      "source": [
        "copy UV space to util folder"
      ],
      "metadata": {
        "id": "nN_O6PnLvXmx"
      }
    },
    {
      "cell_type": "code",
      "source": [
        "import shutil\n",
        "\n",
        "# UV space 2D LookUp Map\n",
        "src_path = \"/content/database/syntheticPoseImageGeneration/poseStyleUtil/dp_uv_lookup_256.npy\"\n",
        "dst_path = \"/content/PoseStyle/util/dp_uv_lookup_256.npy\"\n",
        "\n",
        "print (\"\\n> copying UV Space 2D LookUp Map\")\n",
        "shutil.copy(src_path, dst_path)\n",
        "\n",
        "# UV space Body Parts\n",
        "BP_src_path = \"/content/database/syntheticPoseImageGeneration/poseStyleUtil/uv_space_parts.npy\"\n",
        "BP_dst_path = \"/content/PoseStyle/util/uv_space_parts.npy\"\n",
        "\n",
        "print (\"\\n> copying UV Space Body Parts Segmentation\")\n",
        "shutil.copy(BP_src_path, BP_dst_path)"
      ],
      "metadata": {
        "id": "EimjRymNvx32",
        "outputId": "4e68c640-3070-434c-e517-29e69a159026",
        "colab": {
          "base_uri": "https://localhost:8080/",
          "height": 105
        }
      },
      "execution_count": 11,
      "outputs": [
        {
          "output_type": "stream",
          "name": "stdout",
          "text": [
            "\n",
            "> copying UV Space 2D LookUp Map\n",
            "\n",
            "> copying UV Space Body Parts Segmentation\n"
          ]
        },
        {
          "output_type": "execute_result",
          "data": {
            "text/plain": [
              "'/content/PoseStyle/util/uv_space_parts.npy'"
            ],
            "application/vnd.google.colaboratory.intrinsic+json": {
              "type": "string"
            }
          },
          "metadata": {},
          "execution_count": 11
        }
      ]
    },
    {
      "cell_type": "markdown",
      "source": [
        "## 5. Reposing Inference"
      ],
      "metadata": {
        "id": "YOh3jomNwclJ"
      }
    },
    {
      "cell_type": "code",
      "source": [
        "%cd {root_path}\n",
        "%ls"
      ],
      "metadata": {
        "id": "ZFT0AJt5zMhE",
        "outputId": "2319609b-40a7-423a-91e1-bb8243a389b7",
        "colab": {
          "base_uri": "https://localhost:8080/"
        }
      },
      "execution_count": 8,
      "outputs": [
        {
          "output_type": "stream",
          "name": "stdout",
          "text": [
            "/content/PoseStyle\n",
            "\u001b[0m\u001b[01;34mdata\u001b[0m/       \u001b[01;32mdistributed.py\u001b[0m*      LICENSE    \u001b[01;32mREADME.md\u001b[0m*        \u001b[01;32mtest.py\u001b[0m*\n",
            "DATASET.md  garment_transfer.py  \u001b[01;32mmodel.py\u001b[0m*  requirements.txt  train.py\n",
            "dataset.py  inference.py         \u001b[01;34mop\u001b[0m/        sphereface.py     \u001b[01;34mutil\u001b[0m/\n"
          ]
        }
      ]
    },
    {
      "cell_type": "code",
      "source": [
        "input_path = \"/content/PoseStyle/data\"\n",
        "CCM_path = \"/content/database/syntheticPoseImageGeneration/poseStyleModel/CCM_epoch50.pt\"\n",
        "model_path = \"/content/database/syntheticPoseImageGeneration/poseStyleModel/posewithstyle.pt\"\n",
        "\n",
        "!python inference.py \\\n",
        "         --input_path {input_path} \\\n",
        "         --CCM_pretrained_model {CCM_path} \\\n",
        "         --pretrained_model {model_path} \\\n",
        "         --save_path {output_folder}"
      ],
      "metadata": {
        "id": "M-4Zuc3AwfWO",
        "outputId": "3d8a17a7-c5e0-4290-a4e1-77e54e2ef7e4",
        "colab": {
          "base_uri": "https://localhost:8080/"
        }
      },
      "execution_count": 13,
      "outputs": [
        {
          "output_type": "stream",
          "name": "stdout",
          "text": [
            "initialize network with normal\n",
            "/usr/local/lib/python3.7/dist-packages/torch/nn/functional.py:3613: UserWarning: Default upsampling behavior when mode=bilinear is changed to align_corners=False since 0.4.0. Please specify align_corners=True if the old behavior is desired. See the documentation of nn.Upsample for details.\n",
            "  \"See the documentation of nn.Upsample for details.\".format(mode)\n",
            "/content/PoseStyle/op/conv2d_gradfix.py:89: UserWarning: conv2d_gradfix not supported on PyTorch 1.9.0+cu102. Falling back to torch.nn.functional.conv2d().\n",
            "  f\"conv2d_gradfix not supported on PyTorch {torch.__version__}. Falling back to torch.nn.functional.conv2d().\"\n",
            "/usr/local/lib/python3.7/dist-packages/torch/nn/functional.py:3982: UserWarning: Default grid_sample and affine_grid behavior has changed to align_corners=False since 1.3.0. Please specify align_corners=True if the old behavior is desired. See the documentation of grid_sample for details.\n",
            "  \"Default grid_sample and affine_grid behavior has changed \"\n",
            "/usr/local/lib/python3.7/dist-packages/torchvision/utils.py:50: UserWarning: range will be deprecated, please use value_range instead.\n",
            "  warnings.warn(warning)\n"
          ]
        }
      ]
    }
  ]
}