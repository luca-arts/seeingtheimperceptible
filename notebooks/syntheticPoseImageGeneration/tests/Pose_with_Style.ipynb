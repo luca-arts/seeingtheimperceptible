{
  "nbformat": 4,
  "nbformat_minor": 0,
  "metadata": {
    "colab": {
      "name": "Pose with Style.ipynb",
      "provenance": [],
      "authorship_tag": "ABX9TyOeW33i9g5kLTfUafrhG4Te",
      "include_colab_link": true
    },
    "kernelspec": {
      "name": "python3",
      "display_name": "Python 3"
    },
    "language_info": {
      "name": "python"
    },
    "accelerator": "GPU",
    "gpuClass": "standard"
  },
  "cells": [
    {
      "cell_type": "markdown",
      "metadata": {
        "id": "view-in-github",
        "colab_type": "text"
      },
      "source": [
        "<a href=\"https://colab.research.google.com/github/luca-arts/seeingtheimperceptible/blob/main/notebooks/syntheticPoseImageGeneration/tests/Pose_with_Style.ipynb\" target=\"_parent\"><img src=\"https://colab.research.google.com/assets/colab-badge.svg\" alt=\"Open In Colab\"/></a>"
      ]
    },
    {
      "cell_type": "markdown",
      "source": [
        "# Pose with Style: Detail-Preserving Pose-Guided Image Synthesis with Conditional StyleGAN\n",
        "\n",
        "[GitHub](https://github.com/BadourAlBahar/pose-with-style)"
      ],
      "metadata": {
        "id": "jhLttBQee4v9"
      }
    },
    {
      "cell_type": "markdown",
      "source": [
        "## 1. Preparations\n",
        "\n",
        "Before start, make sure that you choose\n",
        "\n",
        "Runtime Type = Python 3\n",
        "Hardware Accelerator = GPU"
      ],
      "metadata": {
        "id": "1pZg51gifGnm"
      }
    },
    {
      "cell_type": "code",
      "source": [
        "!nvidia-smi"
      ],
      "metadata": {
        "colab": {
          "base_uri": "https://localhost:8080/"
        },
        "id": "bjtCGLYIfL9C",
        "outputId": "0a91f3f5-303e-446a-b04e-75f249d76514"
      },
      "execution_count": 1,
      "outputs": [
        {
          "output_type": "stream",
          "name": "stdout",
          "text": [
            "Mon Jul 18 09:38:13 2022       \n",
            "+-----------------------------------------------------------------------------+\n",
            "| NVIDIA-SMI 460.32.03    Driver Version: 460.32.03    CUDA Version: 11.2     |\n",
            "|-------------------------------+----------------------+----------------------+\n",
            "| GPU  Name        Persistence-M| Bus-Id        Disp.A | Volatile Uncorr. ECC |\n",
            "| Fan  Temp  Perf  Pwr:Usage/Cap|         Memory-Usage | GPU-Util  Compute M. |\n",
            "|                               |                      |               MIG M. |\n",
            "|===============================+======================+======================|\n",
            "|   0  Tesla T4            Off  | 00000000:00:04.0 Off |                    0 |\n",
            "| N/A   56C    P8    10W /  70W |      0MiB / 15109MiB |      0%      Default |\n",
            "|                               |                      |                  N/A |\n",
            "+-------------------------------+----------------------+----------------------+\n",
            "                                                                               \n",
            "+-----------------------------------------------------------------------------+\n",
            "| Processes:                                                                  |\n",
            "|  GPU   GI   CI        PID   Type   Process name                  GPU Memory |\n",
            "|        ID   ID                                                   Usage      |\n",
            "|=============================================================================|\n",
            "|  No running processes found                                                 |\n",
            "+-----------------------------------------------------------------------------+\n"
          ]
        }
      ]
    },
    {
      "cell_type": "markdown",
      "source": [
        "## 2. linking nextcloud\n",
        "\n",
        "Connecting to the external NextCloud drive "
      ],
      "metadata": {
        "id": "OX3wO_L6fPUx"
      }
    },
    {
      "cell_type": "code",
      "source": [
        "# we'll link the dataset from next-cloud\n",
        "!curl https://raw.githubusercontent.com/luca-arts/seeingtheimperceptible/main/notebooks/database_mod.py -o /content/database_mod.py\n",
        "\n",
        "from database_mod import *\n",
        "\n",
        "link_nextcloud()\n",
        "\n",
        "nextcloud = '/content/database/'\n",
        "\n",
        "input_folder, output_folder = create_io(database=nextcloud,topic='syntheticPoseImageGeneration',library='PoseStyle')"
      ],
      "metadata": {
        "colab": {
          "base_uri": "https://localhost:8080/"
        },
        "id": "CLsuJNsjfSY8",
        "outputId": "87153b65-d474-4072-9024-af24d802db79"
      },
      "execution_count": 2,
      "outputs": [
        {
          "output_type": "stream",
          "name": "stdout",
          "text": [
            "  % Total    % Received % Xferd  Average Speed   Time    Time     Time  Current\n",
            "                                 Dload  Upload   Total   Spent    Left  Speed\n",
            "\r  0     0    0     0    0     0      0      0 --:--:-- --:--:-- --:--:--     0\r100  2510  100  2510    0     0  12550      0 --:--:-- --:--:-- --:--:-- 12550\n",
            "what's the username for nextcloud? colab\n",
            "what's the password for user colab? ··········\n",
            "0\n",
            "Please enter the username to authenticate with server\n",
            "https://cloud.bxlab.net/remote.php/dav/files/colab/colabfiles/ or hit enter for none.\n",
            "  Username: Please enter the password to authenticate user colab with server\n",
            "https://cloud.bxlab.net/remote.php/dav/files/colab/colabfiles/ or hit enter for none.\n",
            "  Password:  \n"
          ]
        }
      ]
    },
    {
      "cell_type": "markdown",
      "source": [
        "## 3. clone GIT repo"
      ],
      "metadata": {
        "id": "CEtQvsrgf89r"
      }
    },
    {
      "cell_type": "code",
      "source": [
        "import os\n",
        "root_path = '/content/PoseStyle'\n",
        "\n",
        "# clone the repository\n",
        "if not os.path.exists(root_path):\n",
        "  !git clone https://github.com/BadourAlBahar/pose-with-style {root_path}\n",
        "\n",
        "%ls"
      ],
      "metadata": {
        "colab": {
          "base_uri": "https://localhost:8080/"
        },
        "id": "ZqwuD7YAf-20",
        "outputId": "5e035010-5699-4eb6-9026-c129aeca1165"
      },
      "execution_count": 3,
      "outputs": [
        {
          "output_type": "stream",
          "name": "stdout",
          "text": [
            "Cloning into '/content/PoseStyle'...\n",
            "remote: Enumerating objects: 43, done.\u001b[K\n",
            "remote: Counting objects: 100% (5/5), done.\u001b[K\n",
            "remote: Compressing objects: 100% (5/5), done.\u001b[K\n",
            "remote: Total 43 (delta 0), reused 0 (delta 0), pack-reused 38\u001b[K\n",
            "Unpacking objects: 100% (43/43), done.\n",
            "\u001b[0m\u001b[01;34mdatabase\u001b[0m/  database_mod.py  \u001b[01;34mPoseStyle\u001b[0m/  \u001b[01;34m__pycache__\u001b[0m/  \u001b[01;34msample_data\u001b[0m/\n"
          ]
        }
      ]
    },
    {
      "cell_type": "markdown",
      "source": [
        "## 4. Setting up the environment"
      ],
      "metadata": {
        "id": "zwwJPQr7h_lk"
      }
    },
    {
      "cell_type": "code",
      "source": [
        "#don't know if we need to install this - if i run it the code gives me an error\n",
        "#!pip install pytorch==1.9.0 torchvision==0.10.0 torchaudio==0.9.0 cudatoolkit=10.2 -c pytorch\n",
        "\n",
        "req_path = root_path + '/requirements.txt'\n",
        "\n",
        "# Set up the environment\n",
        "print('\\n> Install dependencies')\n",
        "\n",
        "print('\\n> Install pytorch')\n",
        "!pip install pytorch==1.9.0 --quiet \n",
        "\n",
        "print('\\n> Install torchvision')\n",
        "!pip install torchvision==0.10.0 --quiet \n",
        "\n",
        "print('\\n> Install torchaudio')\n",
        "!pip install torchaudio==0.9.0 --quiet\n",
        "\n",
        "print('\\n> Install cudatoolkit')\n",
        "!pip install cudatoolkit=10.2 -c pytorch --quiet\n",
        "\n",
        "print('\\n> Install requirements.txt')\n",
        "!pip install -r {req_path} --quiet\n",
        "\n",
        "print('\\n> Install OpenCV')\n",
        "!pip install opencv-python"
      ],
      "metadata": {
        "id": "rkqXtVo3iJ-S",
        "outputId": "127fbaf9-73e5-41e1-ff39-983de9c0b35e",
        "colab": {
          "base_uri": "https://localhost:8080/"
        }
      },
      "execution_count": 4,
      "outputs": [
        {
          "output_type": "stream",
          "name": "stdout",
          "text": [
            "\n",
            "> Install dependencies\n",
            "\n",
            "> Install pytorch\n",
            "\u001b[31mERROR: Could not find a version that satisfies the requirement pytorch==1.9.0 (from versions: 0.1.2, 1.0.2)\u001b[0m\n",
            "\u001b[31mERROR: No matching distribution found for pytorch==1.9.0\u001b[0m\n",
            "\n",
            "> Install torchvision\n",
            "\u001b[K     |████████████████████████████████| 22.1 MB 98.2 MB/s \n",
            "\u001b[K     |████████████████████████████████| 831.4 MB 2.8 kB/s \n",
            "\u001b[31mERROR: pip's dependency resolver does not currently take into account all the packages that are installed. This behaviour is the source of the following dependency conflicts.\n",
            "torchtext 0.13.0 requires torch==1.12.0, but you have torch 1.9.0 which is incompatible.\n",
            "torchaudio 0.12.0+cu113 requires torch==1.12.0, but you have torch 1.9.0 which is incompatible.\u001b[0m\n",
            "\u001b[?25h\n",
            "> Install torchaudio\n",
            "\u001b[K     |████████████████████████████████| 1.9 MB 5.4 MB/s \n",
            "\u001b[?25h\n",
            "> Install cudatoolkit\n",
            "\u001b[31mERROR: Could not open requirements file: [Errno 2] No such file or directory: 'pytorch'\u001b[0m\n",
            "\n",
            "> Install requirements.txt\n",
            "\n",
            "> Install OpenCV\n",
            "Looking in indexes: https://pypi.org/simple, https://us-python.pkg.dev/colab-wheels/public/simple/\n",
            "Requirement already satisfied: opencv-python in /usr/local/lib/python3.7/dist-packages (4.1.2.30)\n",
            "Requirement already satisfied: numpy>=1.14.5 in /usr/local/lib/python3.7/dist-packages (from opencv-python) (1.21.6)\n"
          ]
        }
      ]
    },
    {
      "cell_type": "code",
      "source": [
        "import torch\n",
        "print(\"pytorch ::: \" + torch.__version__)"
      ],
      "metadata": {
        "id": "2FSqgFDDmekj",
        "outputId": "0d47b10b-61a2-4887-b8ce-395e919e5ded",
        "colab": {
          "base_uri": "https://localhost:8080/"
        }
      },
      "execution_count": 5,
      "outputs": [
        {
          "output_type": "stream",
          "name": "stdout",
          "text": [
            "pytorch ::: 1.9.0+cu102\n"
          ]
        }
      ]
    },
    {
      "cell_type": "markdown",
      "source": [
        "copy UV space to util folder"
      ],
      "metadata": {
        "id": "nN_O6PnLvXmx"
      }
    },
    {
      "cell_type": "code",
      "source": [
        "import shutil\n",
        "\n",
        "src_path = \"/content/database/syntheticPoseImageGeneration/PoseStyle/util/dp_uv_lookup_256.npy\"\n",
        "dst_path = \"/content/PoseStyle/util/dp_uv_lookup_256.npy\"\n",
        "\n",
        "shutil.copy(src_path, dst_path)"
      ],
      "metadata": {
        "id": "EimjRymNvx32",
        "outputId": "e8d7b62f-1682-498e-be78-7288a1154fd8",
        "colab": {
          "base_uri": "https://localhost:8080/",
          "height": 37
        }
      },
      "execution_count": 6,
      "outputs": [
        {
          "output_type": "execute_result",
          "data": {
            "text/plain": [
              "'/content/PoseStyle/util/dp_uv_lookup_256.npy'"
            ],
            "application/vnd.google.colaboratory.intrinsic+json": {
              "type": "string"
            }
          },
          "metadata": {},
          "execution_count": 6
        }
      ]
    },
    {
      "cell_type": "markdown",
      "source": [
        "## 5. Reposing Inference"
      ],
      "metadata": {
        "id": "YOh3jomNwclJ"
      }
    },
    {
      "cell_type": "code",
      "source": [
        "%cd {root_path}\n",
        "%ls"
      ],
      "metadata": {
        "id": "ZFT0AJt5zMhE",
        "outputId": "2897077d-5081-4ccc-e413-491f03f8aaad",
        "colab": {
          "base_uri": "https://localhost:8080/"
        }
      },
      "execution_count": 9,
      "outputs": [
        {
          "output_type": "stream",
          "name": "stdout",
          "text": [
            "/content/PoseStyle\n",
            "\u001b[0m\u001b[01;34mdata\u001b[0m/       \u001b[01;32mdistributed.py\u001b[0m*      LICENSE    \u001b[01;32mREADME.md\u001b[0m*        \u001b[01;32mtest.py\u001b[0m*\n",
            "DATASET.md  garment_transfer.py  \u001b[01;32mmodel.py\u001b[0m*  requirements.txt  train.py\n",
            "dataset.py  inference.py         \u001b[01;34mop\u001b[0m/        sphereface.py     \u001b[01;34mutil\u001b[0m/\n"
          ]
        }
      ]
    },
    {
      "cell_type": "code",
      "source": [
        "CCM_path = \"/content/database/syntheticPoseImageGeneration/PoseStyle/pretrained_models/CCM_epoch50.pt\"\n",
        "model_path = \"/content/database/syntheticPoseImageGeneration/PoseStyle/pretrained_models/posewithstyle.pt\"\n",
        "\n",
        "!python inference.py --input_path /content/PoseStyle/data --CCM_pretrained_model {CCM_path} --pretrained_model {model_path}"
      ],
      "metadata": {
        "id": "M-4Zuc3AwfWO",
        "outputId": "bc6ce6c3-a824-4f16-e70e-0a2d395c7ccb",
        "colab": {
          "base_uri": "https://localhost:8080/"
        }
      },
      "execution_count": 12,
      "outputs": [
        {
          "output_type": "stream",
          "name": "stdout",
          "text": [
            "Traceback (most recent call last):\n",
            "  File \"inference.py\", line 12, in <module>\n",
            "    from model import Generator\n",
            "  File \"/content/PoseStyle/model.py\", line 11, in <module>\n",
            "    from op import FusedLeakyReLU, fused_leaky_relu, upfirdn2d, conv2d_gradfix\n",
            "  File \"/content/PoseStyle/op/__init__.py\", line 1, in <module>\n",
            "    from .fused_act import FusedLeakyReLU, fused_leaky_relu\n",
            "  File \"/content/PoseStyle/op/fused_act.py\", line 15, in <module>\n",
            "    os.path.join(module_path, \"fused_bias_act_kernel.cu\"),\n",
            "  File \"/usr/local/lib/python3.7/dist-packages/torch/utils/cpp_extension.py\", line 1092, in load\n",
            "    keep_intermediates=keep_intermediates)\n",
            "  File \"/usr/local/lib/python3.7/dist-packages/torch/utils/cpp_extension.py\", line 1303, in _jit_compile\n",
            "    is_standalone=is_standalone)\n",
            "  File \"/usr/local/lib/python3.7/dist-packages/torch/utils/cpp_extension.py\", line 1374, in _write_ninja_file_and_build_library\n",
            "    verify_ninja_availability()\n",
            "  File \"/usr/local/lib/python3.7/dist-packages/torch/utils/cpp_extension.py\", line 1430, in verify_ninja_availability\n",
            "    raise RuntimeError(\"Ninja is required to load C++ extensions\")\n",
            "RuntimeError: Ninja is required to load C++ extensions\n"
          ]
        }
      ]
    }
  ]
}