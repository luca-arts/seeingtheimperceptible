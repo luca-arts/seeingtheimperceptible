{
  "nbformat": 4,
  "nbformat_minor": 0,
  "metadata": {
    "colab": {
      "name": "Synthetic Image Generation.ipynb",
      "provenance": [],
      "authorship_tag": "ABX9TyPgnKYaAx7JE1ss89lAtw36",
      "include_colab_link": true
    },
    "kernelspec": {
      "name": "python3",
      "display_name": "Python 3"
    },
    "language_info": {
      "name": "python"
    }
  },
  "cells": [
    {
      "cell_type": "markdown",
      "metadata": {
        "id": "view-in-github",
        "colab_type": "text"
      },
      "source": [
        "<a href=\"https://colab.research.google.com/github/luca-arts/seeingtheimperceptible/blob/main/notebooks/syntheticPoseImageGeneration/tests/Synthetic_Image_Generation.ipynb\" target=\"_parent\"><img src=\"https://colab.research.google.com/assets/colab-badge.svg\" alt=\"Open In Colab\"/></a>"
      ]
    },
    {
      "cell_type": "markdown",
      "source": [
        "# Synthetic Image Generation\n",
        "\n",
        "[Github](https://github.com/notjayasurya/synthetic_image_generation)"
      ],
      "metadata": {
        "id": "hfNm0qWNnNwc"
      }
    },
    {
      "cell_type": "markdown",
      "source": [
        "## 1. Preparations\n",
        "\n",
        "Before start, make sure that you choose\n",
        "\n",
        "Runtime Type = Python 3\n",
        "Hardware Accelerator = GPU"
      ],
      "metadata": {
        "id": "C8mhD-xqnw7Q"
      }
    },
    {
      "cell_type": "code",
      "execution_count": null,
      "metadata": {
        "id": "ndXL49-PnH2c"
      },
      "outputs": [],
      "source": [
        "!nvidia-smi"
      ]
    },
    {
      "cell_type": "markdown",
      "source": [
        "## 2. linking nextcloud\n",
        "\n",
        "Connecting to the external NextCloud drive "
      ],
      "metadata": {
        "id": "1J3D0T19n1dx"
      }
    },
    {
      "cell_type": "code",
      "source": [
        "# we'll link the dataset from next-cloud\n",
        "!curl https://raw.githubusercontent.com/luca-arts/seeingtheimperceptible/main/notebooks/database_mod.py -o /content/database_mod.py\n",
        "\n",
        "from database_mod import *\n",
        "\n",
        "link_nextcloud()\n",
        "\n",
        "nextcloud = '/content/database/'\n",
        "\n",
        "input_folder, output_folder = create_io(database=nextcloud,topic='syntheticPoseImageGeneration',library='SIG')"
      ],
      "metadata": {
        "id": "bZy76hBln2NU"
      },
      "execution_count": null,
      "outputs": []
    },
    {
      "cell_type": "markdown",
      "source": [
        "## 3. clone GIT repo"
      ],
      "metadata": {
        "id": "mVu3ItknoF8s"
      }
    },
    {
      "cell_type": "code",
      "source": [
        "import os\n",
        "root_path = '/content/SIG'\n",
        "\n",
        "# clone the repository\n",
        "if not os.path.exists(root_path):\n",
        "  !git clone https://github.com/notjayasurya/synthetic_image_generation {root_path}\n",
        "\n",
        "%ls"
      ],
      "metadata": {
        "id": "K8-Zs-HroHir"
      },
      "execution_count": null,
      "outputs": []
    },
    {
      "cell_type": "markdown",
      "source": [
        "## 4. Setting up the environment"
      ],
      "metadata": {
        "id": "i1xDrXCsoWX8"
      }
    },
    {
      "cell_type": "code",
      "source": [
        ""
      ],
      "metadata": {
        "id": "_kWKExPhoXTd"
      },
      "execution_count": null,
      "outputs": []
    }
  ]
}