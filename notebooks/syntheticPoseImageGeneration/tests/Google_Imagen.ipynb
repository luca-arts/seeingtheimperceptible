{
  "nbformat": 4,
  "nbformat_minor": 0,
  "metadata": {
    "colab": {
      "name": "Google-Imagen.ipynb",
      "provenance": [],
      "authorship_tag": "ABX9TyODT28Qqw/OkiUyyZec/YH3",
      "include_colab_link": true
    },
    "kernelspec": {
      "name": "python3",
      "display_name": "Python 3"
    },
    "language_info": {
      "name": "python"
    },
    "accelerator": "GPU",
    "gpuClass": "standard"
  },
  "cells": [
    {
      "cell_type": "markdown",
      "metadata": {
        "id": "view-in-github",
        "colab_type": "text"
      },
      "source": [
        "<a href=\"https://colab.research.google.com/github/luca-arts/seeingtheimperceptible/blob/main/notebooks/syntheticPoseImageGeneration/tests/Google_Imagen.ipynb\" target=\"_parent\"><img src=\"https://colab.research.google.com/assets/colab-badge.svg\" alt=\"Open In Colab\"/></a>"
      ]
    },
    {
      "cell_type": "markdown",
      "source": [
        "# Recreation of Google's Imagen\n",
        "\n",
        "\n",
        "[github](https://github.com/lucidrains/imagen-pytorch)\n"
      ],
      "metadata": {
        "id": "fBnnFAz0pXEq"
      }
    },
    {
      "cell_type": "markdown",
      "source": [
        "## 1. preparations\n",
        "\n",
        "Before start, make sure that you choose\n",
        "\n",
        "Runtime Type = Python 3\n",
        "Hardware Accelerator = GPU"
      ],
      "metadata": {
        "id": "_F--Uf2spwDs"
      }
    },
    {
      "cell_type": "code",
      "execution_count": null,
      "metadata": {
        "id": "-gDs3Zr8oxX7"
      },
      "outputs": [],
      "source": [
        "!nvidia-smi"
      ]
    },
    {
      "cell_type": "markdown",
      "source": [
        "## 2. linking nextcloud\n",
        "\n",
        "Connecting to the external NextCloud drive"
      ],
      "metadata": {
        "id": "Jn3N1ZjFp3g-"
      }
    },
    {
      "cell_type": "code",
      "source": [
        "# we'll link the dataset from next-cloud\n",
        "!curl https://raw.githubusercontent.com/luca-arts/seeingtheimperceptible/main/notebooks/database_mod.py -o /content/database_mod.py\n",
        "\n",
        "from database_mod import *\n",
        "\n",
        "link_nextcloud()\n",
        "\n",
        "nextcloud = '/content/database/'\n",
        "\n",
        "input_folder, output_folder = create_io(database=nextcloud,topic='syntheticPoseImageGeneration',library='GoogleImagen')"
      ],
      "metadata": {
        "id": "pYtHejoep3Su"
      },
      "execution_count": null,
      "outputs": []
    },
    {
      "cell_type": "markdown",
      "source": [
        "## 3. clone GIT repo"
      ],
      "metadata": {
        "id": "wZJ7w67PqETa"
      }
    },
    {
      "cell_type": "code",
      "source": [
        "import os\n",
        "root_path = '/content/GoogleImagen'\n",
        "\n",
        "# clone the repository\n",
        "if not os.path.exists(root_path):\n",
        "  !git clone https://github.com/lucidrains/imagen-pytorch {root_path}\n",
        "\n",
        "%ls"
      ],
      "metadata": {
        "id": "azjqIdfqqFTb"
      },
      "execution_count": null,
      "outputs": []
    },
    {
      "cell_type": "markdown",
      "source": [
        "## 4. setting up the environment"
      ],
      "metadata": {
        "id": "Enal8lJLqThO"
      }
    },
    {
      "cell_type": "code",
      "source": [
        "# install Imagen Pytorch\n",
        "!pip install imagen-pytorch"
      ],
      "metadata": {
        "id": "STMgxxXVqUYG"
      },
      "execution_count": null,
      "outputs": []
    },
    {
      "cell_type": "markdown",
      "source": [
        ""
      ],
      "metadata": {
        "id": "e-vTndqsqxW1"
      }
    },
    {
      "cell_type": "code",
      "source": [
        "import torch\n",
        "from imagen_pytorch import Unet, Imagen\n",
        "\n",
        "# unet for imagen\n",
        "\n",
        "unet1 = Unet(\n",
        "    dim = 32,\n",
        "    cond_dim = 512,\n",
        "    dim_mults = (1, 2, 4, 8),\n",
        "    num_resnet_blocks = 3,\n",
        "    layer_attns = (False, True, True, True),\n",
        "    layer_cross_attns = (False, True, True, True)\n",
        ")\n",
        "\n",
        "unet2 = Unet(\n",
        "    dim = 32,\n",
        "    cond_dim = 512,\n",
        "    dim_mults = (1, 2, 4, 8),\n",
        "    num_resnet_blocks = (2, 4, 8, 8),\n",
        "    layer_attns = (False, False, False, True),\n",
        "    layer_cross_attns = (False, False, False, True)\n",
        ")\n",
        "\n",
        "# imagen, which contains the unets above (base unet and super resoluting ones)\n",
        "\n",
        "imagen = Imagen(\n",
        "    unets = (unet1, unet2),\n",
        "    image_sizes = (64, 256),\n",
        "    timesteps = 1000,\n",
        "    cond_drop_prob = 0.1\n",
        ").cuda()\n",
        "\n",
        "# mock images (get a lot of this) and text encodings from large T5\n",
        "\n",
        "text_embeds = torch.randn(4, 256, 768).cuda()\n",
        "images = torch.randn(4, 3, 256, 256).cuda()\n",
        "\n",
        "# feed images into imagen, training each unet in the cascade\n",
        "\n",
        "for i in (1, 2):\n",
        "    loss = imagen(images, text_embeds = text_embeds, unet_number = i)\n",
        "    loss.backward()\n",
        "\n",
        "# do the above for many many many many steps\n",
        "# now you can sample an image based on the text embeddings from the cascading ddpm\n",
        "\n",
        "images = imagen.sample(texts = [\n",
        "    'a whale breaching from afar',\n",
        "    'young girl blowing out candles on her birthday cake',\n",
        "    'fireworks with blue and green sparkles'\n",
        "], cond_scale = 3.)\n",
        "\n",
        "images.shape # (3, 3, 256, 256)"
      ],
      "metadata": {
        "id": "STZenbNQqx0m"
      },
      "execution_count": null,
      "outputs": []
    }
  ]
}