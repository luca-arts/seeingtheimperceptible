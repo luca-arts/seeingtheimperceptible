{
  "cells": [
    {
      "cell_type": "markdown",
      "metadata": {
        "id": "view-in-github",
        "colab_type": "text"
      },
      "source": [
        "<a href=\"https://colab.research.google.com/github/luca-arts/seeingtheimperceptible/blob/main/notebooks/ImageEditing/tests/LaMa_inpainting.ipynb\" target=\"_parent\"><img src=\"https://colab.research.google.com/assets/colab-badge.svg\" alt=\"Open In Colab\"/></a>"
      ]
    },
    {
      "cell_type": "markdown",
      "metadata": {
        "id": "_pRpIwnaOnb3"
      },
      "source": [
        "µ# 🦙 **LaMa: Resolution-robust Large Mask Inpainting with Fourier Convolutions**\n",
        "\n",
        "[[Project page](https://saic-mdal.github.io/lama-project/)] [[GitHub](https://github.com/saic-mdal/lama)] [[arXiv](https://arxiv.org/abs/2109.07161)] [[Supplementary](https://ashukha.com/projects/lama_21/lama_supmat_2021.pdf)] [[BibTeX](https://senya-ashukha.github.io/projects/lama_21/paper.txt)]\n",
        "\n",
        "\n",
        "Our model generalizes surprisingly well to much higher resolutions (~2k) than it saw during training (256x256), and achieves the excellent performance even in challenging scenarios, e.g. completion of periodic structures."
      ]
    },
    {
      "cell_type": "markdown",
      "source": [
        "# 1. Preparations\n",
        "\n",
        "Before start, make sure that you choose\n",
        "\n",
        "- Runtime Type = Python 3\n",
        "- Hardware Accelerator = GPU"
      ],
      "metadata": {
        "id": "nJpXEpuZXZg9"
      }
    },
    {
      "cell_type": "code",
      "source": [
        "!nvidia-smi"
      ],
      "metadata": {
        "id": "D9bGsNW3XfOd",
        "colab": {
          "base_uri": "https://localhost:8080/"
        },
        "outputId": "e3ef9dd6-d07a-4ef4-98ce-3f6b4d47f181"
      },
      "execution_count": 1,
      "outputs": [
        {
          "output_type": "stream",
          "name": "stdout",
          "text": [
            "Wed Apr 20 14:00:18 2022       \n",
            "+-----------------------------------------------------------------------------+\n",
            "| NVIDIA-SMI 460.32.03    Driver Version: 460.32.03    CUDA Version: 11.2     |\n",
            "|-------------------------------+----------------------+----------------------+\n",
            "| GPU  Name        Persistence-M| Bus-Id        Disp.A | Volatile Uncorr. ECC |\n",
            "| Fan  Temp  Perf  Pwr:Usage/Cap|         Memory-Usage | GPU-Util  Compute M. |\n",
            "|                               |                      |               MIG M. |\n",
            "|===============================+======================+======================|\n",
            "|   0  Tesla K80           Off  | 00000000:00:04.0 Off |                    0 |\n",
            "| N/A   39C    P8    28W / 149W |      0MiB / 11441MiB |      0%      Default |\n",
            "|                               |                      |                  N/A |\n",
            "+-------------------------------+----------------------+----------------------+\n",
            "                                                                               \n",
            "+-----------------------------------------------------------------------------+\n",
            "| Processes:                                                                  |\n",
            "|  GPU   GI   CI        PID   Type   Process name                  GPU Memory |\n",
            "|        ID   ID                                                   Usage      |\n",
            "|=============================================================================|\n",
            "|  No running processes found                                                 |\n",
            "+-----------------------------------------------------------------------------+\n"
          ]
        }
      ]
    },
    {
      "cell_type": "markdown",
      "source": [
        "1. linking next cloud"
      ],
      "metadata": {
        "id": "TO65fwVaX0NR"
      }
    },
    {
      "cell_type": "code",
      "source": [
        "# we'll link the dataset from next-cloud\n",
        "!curl https://raw.githubusercontent.com/luca-arts/seeingtheimperceptible/main/notebooks/database_mod.py -o /content/database_mod.py\n",
        "\n",
        "from database_mod import *\n",
        "\n",
        "link_nextcloud()\n",
        "\n",
        "nextcloud = '/content/database/'\n",
        "\n",
        "input_folder, output_folder = create_io(database=nextcloud,topic='ImageEditing',library='LaMa')"
      ],
      "metadata": {
        "id": "AgrPWeCBX2X2",
        "colab": {
          "base_uri": "https://localhost:8080/"
        },
        "outputId": "1a047247-c67f-4228-9369-17579f204084"
      },
      "execution_count": 2,
      "outputs": [
        {
          "output_type": "stream",
          "name": "stdout",
          "text": [
            "  % Total    % Received % Xferd  Average Speed   Time    Time     Time  Current\n",
            "                                 Dload  Upload   Total   Spent    Left  Speed\n",
            "\r  0     0    0     0    0     0      0      0 --:--:-- --:--:-- --:--:--     0\r100  2235  100  2235    0     0  13070      0 --:--:-- --:--:-- --:--:-- 13147\n",
            "what's the username for nextcloud? colab\n",
            "what's the password for user colab? ··········\n",
            "0\n",
            "Please enter the username to authenticate with server\n",
            "https://cloud.bxlab.net/remote.php/dav/files/colab/colabfiles/ or hit enter for none.\n",
            "  Username: Please enter the password to authenticate user colab with server\n",
            "https://cloud.bxlab.net/remote.php/dav/files/colab/colabfiles/ or hit enter for none.\n",
            "  Password:  \n",
            "content of /etc/fstab: https://cloud.bxlab.net/remote.php/dav/files/colab/colabfiles/ /content/database davfs user,rw,auto 0 0\n"
          ]
        }
      ]
    },
    {
      "cell_type": "markdown",
      "source": [
        "2. Clone Git repository"
      ],
      "metadata": {
        "id": "GZKm1rPiX-so"
      }
    },
    {
      "cell_type": "code",
      "source": [
        "import os\n",
        "root_path = '/content/LaMa'\n",
        "\n",
        "# clone the repository\n",
        "if not os.path.exists('LaMa'):\n",
        "  !git clone https://github.com/saic-mdal/lama {root_path}\n",
        "\n",
        "%ls"
      ],
      "metadata": {
        "id": "BVpg25zTYD87",
        "colab": {
          "base_uri": "https://localhost:8080/"
        },
        "outputId": "6888f775-2d63-419d-a53f-750c58a45c67"
      },
      "execution_count": 3,
      "outputs": [
        {
          "output_type": "stream",
          "name": "stdout",
          "text": [
            "Cloning into '/content/LaMa'...\n",
            "remote: Enumerating objects: 306, done.\u001b[K\n",
            "remote: Counting objects: 100% (306/306), done.\u001b[K\n",
            "remote: Compressing objects: 100% (219/219), done.\u001b[K\n",
            "remote: Total 306 (delta 88), reused 279 (delta 75), pack-reused 0\u001b[K\n",
            "Receiving objects: 100% (306/306), 6.50 MiB | 16.97 MiB/s, done.\n",
            "Resolving deltas: 100% (88/88), done.\n",
            "\u001b[0m\u001b[01;34mdatabase\u001b[0m/  database_mod.py  \u001b[01;34mLaMa\u001b[0m/  \u001b[01;34m__pycache__\u001b[0m/  \u001b[01;34msample_data\u001b[0m/\n"
          ]
        }
      ]
    },
    {
      "cell_type": "markdown",
      "source": [
        "3. Set up the environment"
      ],
      "metadata": {
        "id": "QMdbYLaSYcUg"
      }
    },
    {
      "cell_type": "code",
      "source": [
        "# setup req_path\n",
        "req_path = '/content/database/ImageEditing'\n",
        "%cd {req_path}\n",
        "\n",
        "# Set up the environment\n",
        "print('\\n> Install dependencies')\n",
        "!pip install -r requirements-LaMa.txt --quiet\n",
        "\n",
        "# do we need the wget?\n",
        "!pip install wget --quiet\n",
        "\n",
        "#print('\\n> Changing the dir to:')\n"
      ],
      "metadata": {
        "id": "Itt2haV7YhVT",
        "colab": {
          "base_uri": "https://localhost:8080/"
        },
        "outputId": "42bc147a-981c-4269-9365-7c66471b0ad5"
      },
      "execution_count": 4,
      "outputs": [
        {
          "output_type": "stream",
          "name": "stdout",
          "text": [
            "/content/database/ImageEditing\n",
            "\n",
            "> Install dependencies\n",
            "\u001b[K     |████████████████████████████████| 12.5 MB 5.3 MB/s \n",
            "\u001b[K     |████████████████████████████████| 72 kB 623 kB/s \n",
            "\u001b[K     |████████████████████████████████| 144 kB 52.0 MB/s \n",
            "\u001b[K     |████████████████████████████████| 841 kB 36.5 MB/s \n",
            "\u001b[K     |████████████████████████████████| 271 kB 48.5 MB/s \n",
            "\u001b[K     |████████████████████████████████| 46 kB 3.1 MB/s \n",
            "\u001b[K     |████████████████████████████████| 23.1 MB 1.2 MB/s \n",
            "\u001b[K     |████████████████████████████████| 948 kB 43.6 MB/s \n",
            "\u001b[K     |████████████████████████████████| 47.8 MB 47 kB/s \n",
            "\u001b[K     |████████████████████████████████| 74 kB 3.0 MB/s \n",
            "\u001b[K     |████████████████████████████████| 112 kB 54.9 MB/s \n",
            "\u001b[K     |████████████████████████████████| 829 kB 45.0 MB/s \n",
            "\u001b[K     |████████████████████████████████| 176 kB 49.9 MB/s \n",
            "\u001b[K     |████████████████████████████████| 596 kB 48.6 MB/s \n",
            "\u001b[K     |████████████████████████████████| 136 kB 57.7 MB/s \n",
            "\u001b[K     |████████████████████████████████| 1.1 MB 44.9 MB/s \n",
            "\u001b[K     |████████████████████████████████| 462 kB 47.8 MB/s \n",
            "\u001b[K     |████████████████████████████████| 271 kB 48.8 MB/s \n",
            "\u001b[K     |████████████████████████████████| 144 kB 45.7 MB/s \n",
            "\u001b[K     |████████████████████████████████| 94 kB 2.8 MB/s \n",
            "\u001b[?25h  Building wheel for antlr4-python3-runtime (setup.py) ... \u001b[?25l\u001b[?25hdone\n",
            "  Building wheel for future (setup.py) ... \u001b[?25l\u001b[?25hdone\n",
            "  Building wheel for wget (setup.py) ... \u001b[?25l\u001b[?25hdone\n"
          ]
        }
      ]
    },
    {
      "cell_type": "markdown",
      "source": [
        "4. Download the pre-trained model"
      ],
      "metadata": {
        "id": "5EQKhr1CZBIN"
      }
    },
    {
      "cell_type": "code",
      "source": [
        "%cd {root_path}\n",
        "\n",
        "# download the model\n",
        "print('\\n> Download the model')\n",
        "!curl -L $(yadisk-direct https://disk.yandex.ru/d/ouP6l8VJ0HpMZg) -o big-lama.zip\n",
        "!unzip big-lama.zip\n",
        "\n",
        "# fixing openCV\n",
        "print('>fixing opencv')\n",
        "!pip uninstall opencv-python-headless -y --quiet\n",
        "!pip install opencv-python-headless==4.1.2.30 --quiet"
      ],
      "metadata": {
        "id": "nZbAYKu_ZcCE",
        "colab": {
          "base_uri": "https://localhost:8080/"
        },
        "outputId": "8de17d46-502c-4fea-a456-98b849ac07f8"
      },
      "execution_count": 5,
      "outputs": [
        {
          "output_type": "stream",
          "name": "stdout",
          "text": [
            "/content/LaMa\n",
            "\n",
            "> Download the model\n",
            "  % Total    % Received % Xferd  Average Speed   Time    Time     Time  Current\n",
            "                                 Dload  Upload   Total   Spent    Left  Speed\n",
            "  0     0    0     0    0     0      0      0 --:--:--  0:00:01 --:--:--     0\n",
            "100  363M    0  363M    0     0  9899k      0 --:--:--  0:00:37 --:--:-- 10.1M\n",
            "Archive:  big-lama.zip\n",
            "  inflating: big-lama/config.yaml    \n",
            "  inflating: big-lama/models/best.ckpt  \n",
            ">fixing opencv\n",
            "\u001b[K     |████████████████████████████████| 21.8 MB 1.5 MB/s \n",
            "\u001b[?25h"
          ]
        }
      ]
    },
    {
      "cell_type": "markdown",
      "source": [
        "5. Init mask-drawing code"
      ],
      "metadata": {
        "id": "0mFwQjQgZdDy"
      }
    },
    {
      "cell_type": "code",
      "execution_count": 6,
      "metadata": {
        "id": "RwXRMaNHW4r5",
        "colab": {
          "base_uri": "https://localhost:8080/"
        },
        "outputId": "41ec6d9c-d292-4fde-ee5d-4140dea6c693"
      },
      "outputs": [
        {
          "output_type": "stream",
          "name": "stdout",
          "text": [
            "\n",
            "> Init mask-drawing code\n"
          ]
        }
      ],
      "source": [
        "print('\\n> Init mask-drawing code')\n",
        "import base64, os\n",
        "from IPython.display import HTML, Image\n",
        "from google.colab.output import eval_js\n",
        "from base64 import b64decode\n",
        "import matplotlib.pyplot as plt\n",
        "import numpy as np\n",
        "import wget\n",
        "from shutil import copyfile\n",
        "import shutil\n",
        "\n",
        "\n",
        "\n",
        "canvas_html = \"\"\"\n",
        "<style>\n",
        ".button {\n",
        "  background-color: #4CAF50;\n",
        "  border: none;\n",
        "  color: white;\n",
        "  padding: 15px 32px;\n",
        "  text-align: center;\n",
        "  text-decoration: none;\n",
        "  display: inline-block;\n",
        "  font-size: 16px;\n",
        "  margin: 4px 2px;\n",
        "  cursor: pointer;\n",
        "}\n",
        "</style>\n",
        "<canvas1 width=%d height=%d>\n",
        "</canvas1>\n",
        "<canvas width=%d height=%d>\n",
        "</canvas>\n",
        "\n",
        "<button class=\"button\">Finish</button>\n",
        "<script>\n",
        "var canvas = document.querySelector('canvas')\n",
        "var ctx = canvas.getContext('2d')\n",
        "\n",
        "var canvas1 = document.querySelector('canvas1')\n",
        "var ctx1 = canvas.getContext('2d')\n",
        "\n",
        "\n",
        "ctx.strokeStyle = 'red';\n",
        "\n",
        "var img = new Image();\n",
        "img.src = \"data:image/%s;charset=utf-8;base64,%s\";\n",
        "console.log(img)\n",
        "img.onload = function() {\n",
        "  ctx1.drawImage(img, 0, 0);\n",
        "};\n",
        "img.crossOrigin = 'Anonymous';\n",
        "\n",
        "ctx.clearRect(0, 0, canvas.width, canvas.height);\n",
        "\n",
        "ctx.lineWidth = %d\n",
        "var button = document.querySelector('button')\n",
        "var mouse = {x: 0, y: 0}\n",
        "\n",
        "canvas.addEventListener('mousemove', function(e) {\n",
        "  mouse.x = e.pageX - this.offsetLeft\n",
        "  mouse.y = e.pageY - this.offsetTop\n",
        "})\n",
        "canvas.onmousedown = ()=>{\n",
        "  ctx.beginPath()\n",
        "  ctx.moveTo(mouse.x, mouse.y)\n",
        "  canvas.addEventListener('mousemove', onPaint)\n",
        "}\n",
        "canvas.onmouseup = ()=>{\n",
        "  canvas.removeEventListener('mousemove', onPaint)\n",
        "}\n",
        "var onPaint = ()=>{\n",
        "  ctx.lineTo(mouse.x, mouse.y)\n",
        "  ctx.stroke()\n",
        "}\n",
        "\n",
        "var data = new Promise(resolve=>{\n",
        "  button.onclick = ()=>{\n",
        "    resolve(canvas.toDataURL('image/png'))\n",
        "  }\n",
        "})\n",
        "</script>\n",
        "\"\"\"\n",
        "\n",
        "def draw(imgm, filename='drawing.png', w=400, h=200, line_width=1):\n",
        "  display(HTML(canvas_html % (w, h, w,h, filename.split('.')[-1], imgm, line_width)))\n",
        "  data = eval_js(\"data\")\n",
        "  binary = b64decode(data.split(',')[1])\n",
        "  with open(filename, 'wb') as f:\n",
        "    f.write(binary)"
      ]
    },
    {
      "cell_type": "markdown",
      "metadata": {
        "id": "23WaUHiJeyBO"
      },
      "source": [
        "2. Inference"
      ]
    },
    {
      "cell_type": "code",
      "source": [
        "%ls"
      ],
      "metadata": {
        "colab": {
          "base_uri": "https://localhost:8080/"
        },
        "id": "ubuqEz3OPU_v",
        "outputId": "7ace6e59-8fa2-427e-81d3-6962ed9e64f8"
      },
      "execution_count": 7,
      "outputs": [
        {
          "output_type": "stream",
          "name": "stdout",
          "text": [
            "\u001b[0m\u001b[01;34mbig-lama\u001b[0m/     \u001b[01;34mcolab\u001b[0m/         \u001b[01;34mdocker\u001b[0m/      \u001b[01;34mmodels\u001b[0m/           \u001b[01;34msaicinpainting\u001b[0m/\n",
            "big-lama.zip  conda_env.yml  \u001b[01;34mfetch_data\u001b[0m/  README.md\n",
            "\u001b[01;34mbin\u001b[0m/          \u001b[01;34mconfigs\u001b[0m/       LICENSE      requirements.txt\n"
          ]
        }
      ]
    },
    {
      "cell_type": "code",
      "execution_count": 8,
      "metadata": {
        "id": "IFIDDD4IhPXd"
      },
      "outputs": [],
      "source": [
        "fname = None\n",
        "#fname = '/content/database/ImageEditing/input'\n",
        "\n",
        "# fname = 'https://ic.pics.livejournal.com/mostovoy/28566193/1224276/1224276_original.jpg' # <-in the example\n",
        "# fname = 'https://raw.githubusercontent.com/senya-ashukha/senya-ashukha.github.io/master/images/1010286.jpeg'\n",
        "# fname = 'https://raw.githubusercontent.com/senya-ashukha/senya-ashukha.github.io/master/images/1010287.jpeg'\n",
        "# fname = \"https://raw.githubusercontent.com/senya-ashukha/senya-ashukha.github.io/master/images/alex.jpg\""
      ]
    },
    {
      "cell_type": "code",
      "execution_count": 12,
      "metadata": {
        "id": "-VZWySTMeGDM",
        "colab": {
          "base_uri": "https://localhost:8080/"
        },
        "outputId": "48ba6612-e126-42c4-a1f6-618b69506e96"
      },
      "outputs": [
        {
          "output_type": "stream",
          "name": "stdout",
          "text": [
            "3.jpg\n",
            "8.jpg\n",
            "4.jpg\n",
            "7.jpg\n",
            "5.jpg\n",
            "6.jpg\n"
          ]
        }
      ],
      "source": [
        "#@title Draw a Mask, Press Finish, Wait for Inpainting\n",
        "\n",
        "# needs to direct to the input folder on nextcloud\n",
        "\n",
        "# if fname is None:\n",
        "#   from google.colab import files\n",
        "#   files = files.upload()\n",
        "#   fname = list(files.keys())[0]\n",
        "# else:\n",
        "#   fname = wget.download(fname)\n",
        "\n",
        "# Read input images from folder\n",
        "\n",
        "'''import glob\n",
        "\n",
        "fname = None\n",
        "\n",
        "if fname is None:\n",
        "  LM_files = glob.glob(input_folder + '/*.jpg')\n",
        "  LM_files.sort()\n",
        "  \n",
        "  fname = LM_files[0]\n",
        "\n",
        "  for file in LM_files:\n",
        "    print(\"Reading Image ::: \" + file)\n",
        "else:\n",
        "  print ('nothing to read/show')\n",
        "\n",
        "shutil.rmtree('data_for_prediction', ignore_errors=True)\n",
        "!mkdir data_for_prediction\n",
        "\n",
        "# trim the path to image name\n",
        "img_name = LM_files[0][-5:]\n",
        "\n",
        "print('img_name ::: ', img_name)\n",
        "\n",
        "copyfile(fname, f'data_for_prediction/{img_name}')\n",
        "os.remove(fname)\n",
        "fname = f'data_for_prediction/{img_name}'\n",
        "\n",
        "print('fname2 ::: ', fname)\n",
        "'''\n",
        "import shutil, os, glob\n",
        "data_path = 'data_for_prediction'\n",
        "#create directory\n",
        "os.makedirs(data_path, exist_ok=True)\n",
        "#look inside the source folder and copy only the jpgs\n",
        "for filename in glob.glob(os.path.join(input_folder, '*.jpg')):\n",
        "  shutil.copy(filename, data_path)\n",
        "\n",
        "# print copied images:\n",
        "for i in os.listdir(data_path):\n",
        "  print(i)\n",
        "\n",
        "# image64 = base64.b64encode(open(fname, 'rb').read())\n",
        "# image64 = image64.decode('utf-8')\n",
        "\n",
        "# print(f'Will use {fname} for inpainting')\n",
        "# img = np.array(plt.imread(f'{fname}')[:,:,:3])\n",
        "\n",
        "# draw(image64, filename=f\"./{fname.split('.')[1]}_mask.png\", w=img.shape[1], h=img.shape[0], line_width=0.04*img.shape[1])\n",
        "# #@title Show a masked image and save a mask\n",
        "\n",
        "# import matplotlib.pyplot as plt\n",
        "# plt.rcParams[\"figure.figsize\"] = (15,5)\n",
        "# plt.rcParams['figure.dpi'] = 200\n",
        "# plt.subplot(131)\n",
        "# with_mask = np.array(plt.imread(f\"./{fname.split('.')[1]}_mask.png\")[:,:,:3])\n",
        "# mask = (with_mask[:,:,0]==1)*(with_mask[:,:,1]==0)*(with_mask[:,:,2]==0)\n",
        "# plt.imshow(mask, cmap='gray')\n",
        "# plt.axis('off')\n",
        "# plt.title('mask')\n",
        "# plt.imsave(f\"./{fname.split('.')[1]}_mask.png\",mask, cmap='gray')\n",
        "\n",
        "# plt.subplot(132)\n",
        "# img = np.array(plt.imread(f'{fname}')[:,:,:3])\n",
        "# plt.imshow(img)\n",
        "# plt.axis('off')\n",
        "# plt.title('img')\n",
        "\n",
        "# plt.subplot(133)\n",
        "# img = np.array((1-mask.reshape(mask.shape[0], mask.shape[1], -1))*plt.imread(fname)[:,:,:3])\n",
        "# _=plt.imshow(img)\n",
        "# _=plt.axis('off')\n",
        "# _=plt.title('img * mask')\n",
        "# plt.show()\n",
        "\n",
        "# print('Run inpainting')\n",
        "# if '.jpeg' in fname:\n",
        "#   !PYTHONPATH=. TORCH_HOME=$(pwd) python3 bin/predict.py model.path=$(pwd)/big-lama indir=$(pwd)/data_for_prediction outdir=/content/output dataset.img_suffix=.jpeg > /dev/null\n",
        "# elif '.jpg' in fname:\n",
        "#   !PYTHONPATH=. TORCH_HOME=$(pwd) python3 bin/predict.py model.path=$(pwd)/big-lama indir=$(pwd)/data_for_prediction outdir=/content/output  dataset.img_suffix=.jpg > /dev/null\n",
        "# elif '.png' in fname:\n",
        "#   !PYTHONPATH=. TORCH_HOME=$(pwd) python3 bin/predict.py model.path=$(pwd)/big-lama indir=$(pwd)/data_for_prediction outdir=/content/output  dataset.img_suffix=.png > /dev/null\n",
        "# else:\n",
        "#   print(f'Error: unknown suffix .{fname.split(\".\")[-1]} use [.png, .jpeg, .jpg]')\n",
        "\n",
        "# plt.rcParams['figure.dpi'] = 200\n",
        "# plt.imshow(plt.imread(f\"/content/output/{fname.split('.')[1].split('/')[2]}_mask.png\"))\n",
        "# _=plt.axis('off')\n",
        "# _=plt.title('inpainting result')\n",
        "# plt.show()\n",
        "\n",
        "# fname = None"
      ]
    },
    {
      "cell_type": "code",
      "source": [
        "\n"
      ],
      "metadata": {
        "id": "yDwoFh1zUyxC"
      },
      "execution_count": null,
      "outputs": []
    }
  ],
  "metadata": {
    "accelerator": "GPU",
    "colab": {
      "collapsed_sections": [],
      "name": "LaMa-inpainting.ipynb",
      "provenance": [],
      "include_colab_link": true
    },
    "kernelspec": {
      "display_name": "Python 3 (ipykernel)",
      "language": "python",
      "name": "python3"
    },
    "language_info": {
      "codemirror_mode": {
        "name": "ipython",
        "version": 3
      },
      "file_extension": ".py",
      "mimetype": "text/x-python",
      "name": "python",
      "nbconvert_exporter": "python",
      "pygments_lexer": "ipython3",
      "version": "3.9.7"
    }
  },
  "nbformat": 4,
  "nbformat_minor": 0
}