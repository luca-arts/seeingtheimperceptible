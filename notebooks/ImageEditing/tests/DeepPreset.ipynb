{
  "cells": [
    {
      "cell_type": "markdown",
      "metadata": {
        "id": "view-in-github",
        "colab_type": "text"
      },
      "source": [
        "<a href=\"https://colab.research.google.com/github/luca-arts/seeingtheimperceptible/blob/main/notebooks/ImageEditing/tests/DeepPreset.ipynb\" target=\"_parent\"><img src=\"https://colab.research.google.com/assets/colab-badge.svg\" alt=\"Open In Colab\"/></a>"
      ]
    },
    {
      "cell_type": "markdown",
      "metadata": {
        "id": "IRDbDYYMQt_Y"
      },
      "source": [
        "# Deep Preset : Blending and Retouching Photos with Color Style Transfer\n",
        "\n",
        "[![arXiv](https://img.shields.io/badge/arXiv-Paper-<COLOR>.svg)](https://arxiv.org/abs/2007.10701)\n",
        "[![GitHub Stars](https://img.shields.io/github/stars/minhmanho/deep_preset?style=social)](https://github.com/minhmanho/deep_preset)\n"
      ]
    },
    {
      "cell_type": "markdown",
      "metadata": {
        "id": "6BPxh_VmVVIu"
      },
      "source": [
        "# 1. Preparations\n",
        "Before start, make sure that you choose\n",
        "* Runtime Type = Python 3\n",
        "* Hardware Accelerator = GPU"
      ]
    },
    {
      "cell_type": "code",
      "execution_count": null,
      "metadata": {
        "id": "eG32AZrxHT2B"
      },
      "outputs": [],
      "source": [
        "!nvidia-smi"
      ]
    },
    {
      "cell_type": "markdown",
      "metadata": {
        "id": "MrS5x4WMwuJ1"
      },
      "source": [
        "1. linking next cloud"
      ]
    },
    {
      "cell_type": "code",
      "execution_count": null,
      "metadata": {
        "id": "HjFBXlliwxCC"
      },
      "outputs": [],
      "source": [
        "# we'll link the dataset from next-cloud\n",
        "!curl https://raw.githubusercontent.com/luca-arts/seeingtheimperceptible/main/notebooks/database_mod.py -o /content/database_mod.py\n",
        "\n",
        "from database_mod import *\n",
        "\n",
        "link_nextcloud()\n",
        "\n",
        "nextcloud = '/content/database/'\n",
        "\n",
        "input_folder, output_folder = create_io(database=nextcloud,topic='ImageEditing',library='DeepPreset')"
      ]
    },
    {
      "cell_type": "markdown",
      "metadata": {
        "id": "dA7OMfF-w9Vi"
      },
      "source": [
        "2. Clone Git repository"
      ]
    },
    {
      "cell_type": "code",
      "execution_count": null,
      "metadata": {
        "id": "GnpnrLfMV2jU"
      },
      "outputs": [],
      "source": [
        "import os\n",
        "root_path = '/content/DeepPreset'\n",
        "\n",
        "# clone the repository\n",
        "if not os.path.exists('DeepPreset'):\n",
        "  !git clone https://github.com/minhmanho/deep_preset {root_path}\n",
        "\n",
        "%ls"
      ]
    },
    {
      "cell_type": "markdown",
      "metadata": {
        "id": "Ubgvi9dxxBLw"
      },
      "source": [
        "3. Set up the environment"
      ]
    },
    {
      "cell_type": "code",
      "execution_count": null,
      "metadata": {
        "id": "vzQR4ywXxE45"
      },
      "outputs": [],
      "source": [
        "%cd {root_path}\n",
        "\n",
        "# Set up the environment\n",
        "!pip install basicsr\n",
        "!pip install facexlib\n",
        "!pip install gfpgan\n",
        "!pip install -r requirements.txt\n",
        "!python setup.py develop"
      ]
    },
    {
      "cell_type": "markdown",
      "metadata": {
        "id": "GhImaHv9jDah"
      },
      "source": [
        "Only needed when we have to \"**restart the Runtime**\", otherwise \n",
        "the variables aren't defined."
      ]
    },
    {
      "cell_type": "code",
      "execution_count": null,
      "metadata": {
        "id": "aaE70KSvNfba"
      },
      "outputs": [],
      "source": [
        "# populate vars when runtime restart is needed\n",
        "input_folder = '/content/database/ImageEditing/input'\n",
        "output_folder = '/content/database/ImageEditing/DeepPreset'\n",
        "root_path = '/content/DeepPreset'\n",
        "\n",
        "print ('input ::: ' , input_folder)\n",
        "print ('output ::: ' , output_folder)\n",
        "print ('root ::: ' , root_path)"
      ]
    },
    {
      "cell_type": "markdown",
      "metadata": {
        "id": "mHmSlCNRy5Zq"
      },
      "source": [
        "4. Download the pre-trained model"
      ]
    },
    {
      "cell_type": "code",
      "execution_count": null,
      "metadata": {
        "id": "G7u-Wh8GzHTK"
      },
      "outputs": [],
      "source": [
        "# Download the pre-trained model\n",
        "!wget https://github.com/xinntao/Real-ESRGAN/releases/download/v0.1.0/RealESRGAN_x4plus.pth -P /content/BasicSR/experiments/pretrained_models"
      ]
    },
    {
      "cell_type": "markdown",
      "metadata": {
        "id": "rqiEtaOYXnrt"
      },
      "source": [
        "# 2. Inference\n"
      ]
    },
    {
      "cell_type": "code",
      "execution_count": null,
      "metadata": {
        "id": "XTVL4m_zXqBU"
      },
      "outputs": [],
      "source": [
        "# vars\n",
        "print (input_folder)\n",
        "print (output_folder)\n",
        "\n",
        "# change dir\n",
        "%cd {root_path}\n",
        "\n",
        "# Arguments\n",
        "# -n, --model_name: Model names\n",
        "# -i, --input: input folder or image\n",
        "# -o, --output: output folder or image\n",
        "# -s, --outscale: Output scale, can be arbitrary scale factor (ex. 3.5).\n",
        "# -t, --tile: if out of memory, try to use this option. Tile size, 0 for no tile during testing\n",
        "\n",
        "#!python inference_realesrgan.py -n RealESRGAN_x4plus -i {input_folder} -o {output_folder} --outscale 3.5 --half --face_enhance\n",
        "!python inference_realesrgan.py -n RealESRGAN_x4plus -i {input_folder} -o {output_folder} --outscale 3.5 --face_enhance"
      ]
    },
    {
      "cell_type": "markdown",
      "metadata": {
        "id": "dUJ_0fQ5YYm2"
      },
      "source": [
        "# 3. Visualization"
      ]
    },
    {
      "cell_type": "code",
      "execution_count": null,
      "metadata": {
        "id": "7IMD5vhOYp68"
      },
      "outputs": [],
      "source": [
        "# utils for visualization\n",
        "import os\n",
        "import glob\n",
        "import cv2\n",
        "import matplotlib.pyplot as plt\n",
        "\n",
        "def display(img1, img2):\n",
        "  fig = plt.figure(figsize=(25, 10))\n",
        "  ax1 = fig.add_subplot(1, 2, 1) \n",
        "  plt.title('Input image', fontsize=16)\n",
        "  ax1.axis('off')\n",
        "  ax2 = fig.add_subplot(1, 2, 2)\n",
        "  plt.title('Real-ESRGAN output', fontsize=16)\n",
        "  ax2.axis('off')\n",
        "  ax1.imshow(img1)\n",
        "  ax2.imshow(img2)\n",
        "\n",
        "def imread(img_path):\n",
        "  img = cv2.imread(img_path)\n",
        "  img = cv2.cvtColor(img, cv2.COLOR_BGR2RGB)\n",
        "  return img\n",
        "\n",
        "# making a list of both I/O folders\n",
        "input_list = sorted(glob.glob(os.path.join(input_folder, '*.jpg')))\n",
        "output_list = sorted(glob.glob(os.path.join(output_folder, '*.jpg')))\n",
        "\n",
        "# display each image in the upload folder\n",
        "for input_path, output_path in zip(input_list, output_list):\n",
        "  img_input = imread(input_path)\n",
        "  img_output = imread(output_path)\n",
        "  display(img_input, img_output)"
      ]
    },
    {
      "cell_type": "markdown",
      "metadata": {
        "id": "nKH0syu9ZAwV"
      },
      "source": [
        "# 4. Download Results\n"
      ]
    },
    {
      "cell_type": "code",
      "execution_count": null,
      "metadata": {
        "colab": {
          "base_uri": "https://localhost:8080/",
          "height": 17
        },
        "id": "lHNHoP8PZJQ7",
        "outputId": "4bbe892a-b5f1-4300-9624-6d8af3b3eef8"
      },
      "outputs": [
        {
          "data": {
            "application/javascript": [
              "\n",
              "    async function download(id, filename, size) {\n",
              "      if (!google.colab.kernel.accessAllowed) {\n",
              "        return;\n",
              "      }\n",
              "      const div = document.createElement('div');\n",
              "      const label = document.createElement('label');\n",
              "      label.textContent = `Downloading \"${filename}\": `;\n",
              "      div.appendChild(label);\n",
              "      const progress = document.createElement('progress');\n",
              "      progress.max = size;\n",
              "      div.appendChild(progress);\n",
              "      document.body.appendChild(div);\n",
              "\n",
              "      const buffers = [];\n",
              "      let downloaded = 0;\n",
              "\n",
              "      const channel = await google.colab.kernel.comms.open(id);\n",
              "      // Send a message to notify the kernel that we're ready.\n",
              "      channel.send({})\n",
              "\n",
              "      for await (const message of channel.messages) {\n",
              "        // Send a message to notify the kernel that we're ready.\n",
              "        channel.send({})\n",
              "        if (message.buffers) {\n",
              "          for (const buffer of message.buffers) {\n",
              "            buffers.push(buffer);\n",
              "            downloaded += buffer.byteLength;\n",
              "            progress.value = downloaded;\n",
              "          }\n",
              "        }\n",
              "      }\n",
              "      const blob = new Blob(buffers, {type: 'application/binary'});\n",
              "      const a = document.createElement('a');\n",
              "      a.href = window.URL.createObjectURL(blob);\n",
              "      a.download = filename;\n",
              "      div.appendChild(a);\n",
              "      a.click();\n",
              "      div.remove();\n",
              "    }\n",
              "  "
            ],
            "text/plain": [
              "<IPython.core.display.Javascript object>"
            ]
          },
          "metadata": {},
          "output_type": "display_data"
        },
        {
          "data": {
            "application/javascript": [
              "download(\"download_d5aa5413-3797-4f54-8ec2-0be1701069fb\", \"Real-ESRGAN_result.zip\", 1925629)"
            ],
            "text/plain": [
              "<IPython.core.display.Javascript object>"
            ]
          },
          "metadata": {},
          "output_type": "display_data"
        }
      ],
      "source": [
        "# Download the results\n",
        "zip_filename = 'Real-ESRGAN_result.zip'\n",
        "\n",
        "download_zip(zip_filename, output_folder)"
      ]
    }
  ],
  "metadata": {
    "accelerator": "GPU",
    "colab": {
      "collapsed_sections": [],
      "name": "Real-ESRGAN Inference Demo.ipynb",
      "provenance": [],
      "include_colab_link": true
    },
    "kernelspec": {
      "display_name": "Python 3",
      "name": "python3"
    },
    "language_info": {
      "name": "python"
    }
  },
  "nbformat": 4,
  "nbformat_minor": 0
}