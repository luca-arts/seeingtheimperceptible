{
  "nbformat": 4,
  "nbformat_minor": 0,
  "metadata": {
    "kernelspec": {
      "display_name": "Python 3",
      "name": "python3"
    },
    "language_info": {
      "name": "python"
    },
    "colab": {
      "name": "face_smoothing.ipynb",
      "provenance": [],
      "collapsed_sections": [],
      "include_colab_link": true
    },
    "accelerator": "GPU"
  },
  "cells": [
    {
      "cell_type": "markdown",
      "metadata": {
        "id": "view-in-github",
        "colab_type": "text"
      },
      "source": [
        "<a href=\"https://colab.research.google.com/github/luca-arts/seeingtheimperceptible/blob/main/notebooks/skinRetouching/tests/face_smoothing.ipynb\" target=\"_parent\"><img src=\"https://colab.research.google.com/assets/colab-badge.svg\" alt=\"Open In Colab\"/></a>"
      ]
    },
    {
      "cell_type": "markdown",
      "source": [
        "## Face Smoothing Detection and Beautification\n",
        "\n",
        "\n",
        "https://github.com/5starkarma/face-smoothing"
      ],
      "metadata": {
        "id": "P049K3yioHDa"
      }
    },
    {
      "cell_type": "markdown",
      "source": [
        "1. Linking next cloud"
      ],
      "metadata": {
        "id": "jgCkrpQFo5yj"
      }
    },
    {
      "cell_type": "code",
      "source": [
        "# we'll link the dataset from next-cloud\n",
        "!curl https://raw.githubusercontent.com/luca-arts/seeingtheimperceptible/main/notebooks/database_mod.py -o /content/database_mod.py\n",
        "\n",
        "from database_mod import *\n",
        "\n",
        "link_nextcloud()\n",
        "\n",
        "nextcloud = '/content/database/'\n",
        "\n",
        "input_folder, output_folder = create_io(database=nextcloud,topic='skinRetouching',library='FS')"
      ],
      "metadata": {
        "colab": {
          "base_uri": "https://localhost:8080/"
        },
        "id": "KSAXszTNpAgU",
        "outputId": "90a40e60-e65b-43c0-8f72-8a83d27a11b3"
      },
      "execution_count": 2,
      "outputs": [
        {
          "output_type": "stream",
          "name": "stdout",
          "text": [
            "  % Total    % Received % Xferd  Average Speed   Time    Time     Time  Current\n",
            "                                 Dload  Upload   Total   Spent    Left  Speed\n",
            "\r  0     0    0     0    0     0      0      0 --:--:-- --:--:-- --:--:--     0\r100  2235  100  2235    0     0  12081      0 --:--:-- --:--:-- --:--:-- 12081\n",
            "what's the username for nextcloud? colab\n",
            "what's the password for user colab? ··········\n",
            "0\n",
            "Please enter the username to authenticate with server\n",
            "https://cloud.bxlab.net/remote.php/dav/files/colab/colabfiles/ or hit enter for none.\n",
            "  Username: Please enter the password to authenticate user colab with server\n",
            "https://cloud.bxlab.net/remote.php/dav/files/colab/colabfiles/ or hit enter for none.\n",
            "  Password:  \n",
            "content of /etc/fstab: https://cloud.bxlab.net/remote.php/dav/files/colab/colabfiles/ /content/database davfs user,rw,auto 0 0\n"
          ]
        }
      ]
    },
    {
      "cell_type": "markdown",
      "source": [
        "2. Clone Git repository"
      ],
      "metadata": {
        "id": "p_GIodQxqSMj"
      }
    },
    {
      "cell_type": "code",
      "metadata": {
        "id": "kWHNWsIwJCx2",
        "colab": {
          "base_uri": "https://localhost:8080/"
        },
        "outputId": "7c302b07-289f-4a16-d182-6d6662cf41b9"
      },
      "source": [
        "import os\n",
        "root_path = '/content/FS'\n",
        "\n",
        "# clone the repository\n",
        "if not os.path.exists('FS'):\n",
        "  !git clone https://github.com/luca-arts/face-smoothing/ {root_path} #forked repository with patches"
      ],
      "execution_count": 3,
      "outputs": [
        {
          "output_type": "stream",
          "name": "stdout",
          "text": [
            "Cloning into '/content/FS'...\n",
            "remote: Enumerating objects: 661, done.\u001b[K\n",
            "remote: Counting objects: 100% (235/235), done.\u001b[K\n",
            "remote: Compressing objects: 100% (113/113), done.\u001b[K\n",
            "remote: Total 661 (delta 119), reused 218 (delta 109), pack-reused 426\u001b[K\n",
            "Receiving objects: 100% (661/661), 39.85 MiB | 43.23 MiB/s, done.\n",
            "Resolving deltas: 100% (331/331), done.\n"
          ]
        }
      ]
    },
    {
      "cell_type": "markdown",
      "source": [
        "4. configuration file\n",
        "\n",
        "we read the yaml config file and set the wanted `conf_threshold` "
      ],
      "metadata": {
        "id": "9Z16xfyHqw4N"
      }
    },
    {
      "cell_type": "code",
      "metadata": {
        "id": "1U3JHKHD8M9o",
        "outputId": "27000b98-fd50-4186-dc5c-e747a2826045",
        "colab": {
          "base_uri": "https://localhost:8080/"
        }
      },
      "source": [
        "!pip install -U PyYAML\n",
        "import yaml\n",
        "from yaml.loader import SafeLoader\n",
        "config_path =  root_path + '/configs/configs.yaml'\n",
        "\n",
        "conf_threshold = 0.5\n",
        "\n",
        "# Open the file and load the file\n",
        "with open(config_path) as f:\n",
        "    data = yaml.load(f, Loader=yaml.Loader)\n",
        "    #update conf_threshold\n",
        "    data['net']['conf_threshold'] = conf_threshold\n",
        "    sorted_data = yaml.dump(data, sort_keys=True)\n",
        "    #print(sorted_data)\n",
        "#write the updated yml file back\n",
        "with open(config_path, 'w') as f:\n",
        "    yaml.dump(data, f)    "
      ],
      "execution_count": 4,
      "outputs": [
        {
          "output_type": "stream",
          "name": "stdout",
          "text": [
            "Requirement already satisfied: PyYAML in /usr/local/lib/python3.7/dist-packages (3.13)\n",
            "Collecting PyYAML\n",
            "  Downloading PyYAML-6.0-cp37-cp37m-manylinux_2_5_x86_64.manylinux1_x86_64.manylinux_2_12_x86_64.manylinux2010_x86_64.whl (596 kB)\n",
            "\u001b[K     |████████████████████████████████| 596 kB 2.6 MB/s \n",
            "\u001b[?25hInstalling collected packages: PyYAML\n",
            "  Attempting uninstall: PyYAML\n",
            "    Found existing installation: PyYAML 3.13\n",
            "    Uninstalling PyYAML-3.13:\n",
            "      Successfully uninstalled PyYAML-3.13\n",
            "Successfully installed PyYAML-6.0\n"
          ]
        }
      ]
    },
    {
      "cell_type": "markdown",
      "source": [
        "5. execute script"
      ],
      "metadata": {
        "id": "Oxrp3oRqrBLc"
      }
    },
    {
      "cell_type": "code",
      "metadata": {
        "id": "BXsIMd_ymFtq",
        "outputId": "56774c57-6cea-498c-87a3-5b9cae2fb17a",
        "colab": {
          "base_uri": "https://localhost:8080/"
        }
      },
      "source": [
        "%cd /content/FS\n",
        "!python3 '/content/FS/infer.py' --input {input_folder} --output {output_folder} --config {config_path} --show-detections\n"
      ],
      "execution_count": 5,
      "outputs": [
        {
          "output_type": "stream",
          "name": "stdout",
          "text": [
            "/content/FS\n",
            "next image:  LB_0001.jpg\n",
            "Face detected: [308, 109, 381, 211]\n",
            "saving image  /content/database/skinRetouching/input/LB_0001.jpg\n",
            "/content/database/skinRetouching/FS/output_LB_0001.jpg\n",
            "next image:  LB_0002.jpg\n",
            "next image:  LB_0003.jpg\n",
            "next image:  LB_0004.jpg\n",
            "Face detected: [313, 147, 381, 251]\n",
            "saving image  /content/database/skinRetouching/input/LB_0004.jpg\n",
            "/content/database/skinRetouching/FS/output_LB_0004.jpg\n",
            "next image:  LB_0005.jpg\n",
            "Face detected: [319, 110, 394, 216]\n",
            "saving image  /content/database/skinRetouching/input/LB_0005.jpg\n",
            "/content/database/skinRetouching/FS/output_LB_0005.jpg\n",
            "next image:  LB_0006.jpg\n",
            "Face detected: [283, 109, 359, 214]\n",
            "saving image  /content/database/skinRetouching/input/LB_0006.jpg\n",
            "/content/database/skinRetouching/FS/output_LB_0006.jpg\n",
            "next image:  LB_0007.jpg\n",
            "next image:  LB_0008.jpg\n",
            "Face detected: [246, 88, 319, 192]\n",
            "saving image  /content/database/skinRetouching/input/LB_0008.jpg\n",
            "/content/database/skinRetouching/FS/output_LB_0008.jpg\n",
            "next image:  LB_0009.jpg\n",
            "next image:  LB_0010.jpg\n",
            "next image:  LB_0011.jpg\n",
            "next image:  LB_0012.jpg\n",
            "next image:  LB_0013.jpg\n",
            "next image:  LB_0014.jpg\n",
            "Face detected: [317, 85, 396, 199]\n",
            "saving image  /content/database/skinRetouching/input/LB_0014.jpg\n",
            "/content/database/skinRetouching/FS/output_LB_0014.jpg\n",
            "next image:  LB_0015.jpg\n",
            "next image:  LB_0016.jpg\n",
            "Face detected: [310, 104, 387, 226]\n",
            "saving image  /content/database/skinRetouching/input/LB_0016.jpg\n",
            "/content/database/skinRetouching/FS/output_LB_0016.jpg\n",
            "next image:  LB_0017.jpg\n",
            "next image:  LB_0018.jpg\n",
            "next image:  LB_0019.jpg\n",
            "next image:  LB_0020.jpg\n",
            "next image:  LB_0021.jpg\n",
            "Face detected: [291, 107, 364, 214]\n",
            "saving image  /content/database/skinRetouching/input/LB_0021.jpg\n",
            "/content/database/skinRetouching/FS/output_LB_0021.jpg\n",
            "next image:  LB_0022.jpg\n",
            "next image:  LB_0023.jpg\n",
            "next image:  LB_0024.jpg\n",
            "Face detected: [304, 136, 373, 247]\n",
            "saving image  /content/database/skinRetouching/input/LB_0024.jpg\n",
            "/content/database/skinRetouching/FS/output_LB_0024.jpg\n",
            "next image:  LB_0025.jpg\n",
            "Face detected: [300, 68, 382, 177]\n",
            "saving image  /content/database/skinRetouching/input/LB_0025.jpg\n",
            "/content/database/skinRetouching/FS/output_LB_0025.jpg\n",
            "next image:  LB_0026.jpg\n",
            "Face detected: [253, 143, 334, 266]\n",
            "saving image  /content/database/skinRetouching/input/LB_0026.jpg\n",
            "/content/database/skinRetouching/FS/output_LB_0026.jpg\n",
            "next image:  LB_0027.jpg\n",
            "next image:  LB_0028.jpg\n",
            "Face detected: [163, 54, 203, 115]\n",
            "saving image  /content/database/skinRetouching/input/LB_0028.jpg\n",
            "/content/database/skinRetouching/FS/output_LB_0028.jpg\n",
            "next image:  LB_0029.jpg\n",
            "Face detected: [159, 53, 202, 113]\n",
            "saving image  /content/database/skinRetouching/input/LB_0029.jpg\n",
            "/content/database/skinRetouching/FS/output_LB_0029.jpg\n",
            "next image:  LB_0030.jpg\n",
            "next image:  LB_0031.jpg\n",
            "next image:  LB_0032.jpg\n",
            "next image:  LB_0033.jpg\n",
            "Face detected: [163, 59, 209, 124]\n",
            "saving image  /content/database/skinRetouching/input/LB_0033.jpg\n",
            "/content/database/skinRetouching/FS/output_LB_0033.jpg\n",
            "next image:  LB_0034.jpg\n",
            "next image:  LB_0035.jpg\n",
            "next image:  LB_0036.jpg\n",
            "next image:  LB_0037.jpg\n",
            "next image:  LB_0038.jpg\n",
            "next image:  LB_0039.jpg\n",
            "next image:  LB_0040.jpg\n",
            "next image:  LB_0041.jpg\n",
            "next image:  LB_0042.jpg\n",
            "next image:  LB_0043.jpg\n",
            "next image:  LB_0044.jpg\n",
            "next image:  LB_0045.jpg\n",
            "next image:  LB_0046.jpg\n",
            "Face detected: [269, 138, 343, 252]\n",
            "saving image  /content/database/skinRetouching/input/LB_0046.jpg\n",
            "/content/database/skinRetouching/FS/output_LB_0046.jpg\n",
            "next image:  LB_0047.jpg\n",
            "next image:  LB_0048.jpg\n",
            "next image:  LB_0049.jpg\n",
            "next image:  LB_0050.jpg\n",
            "Operation ran in 204.6031 seconds\n"
          ]
        }
      ]
    },
    {
      "cell_type": "code",
      "metadata": {
        "id": "hWmhTm2wclAr",
        "colab": {
          "base_uri": "https://localhost:8080/",
          "height": 265
        },
        "outputId": "746512eb-2b6a-4630-bd1a-bb6d2608599a"
      },
      "source": [
        "# recursive removal of directory\n",
        "# do we need this command??\n",
        "#! rm -r {output}\n",
        "\n",
        "# inits\n",
        "import glob\n",
        "#from IPython.display import Image\n",
        "\n",
        "import matplotlib.pyplot as plt\n",
        "import matplotlib.image as mpimg\n",
        "\n",
        "\n",
        "# Comparing the I/O folder\n",
        "#import filecmp\n",
        "#directory_cmp = filecmp.dircmp(input_folder, output_folder)\n",
        "#print(\"=========== Comparison Report =========== \\n\")\n",
        "#directory_cmp.report()\n",
        "\n",
        "# making lists for I/O folder\n",
        "iFS_files = glob.glob(input_folder + '/*.jpg')\n",
        "iFS_files.sort()\n",
        "\n",
        "oFS_files = glob.glob(output_folder + '/*.jpg')\n",
        "oFS_files.sort()\n",
        "\n",
        "# Visualising the I/O folder\n",
        "def combined_display(input, output):\n",
        "  # calculate display resolution\n",
        "  w, h = image.width, image.height\n",
        "  rw, rh = 800, int(h * 800 / (3 * w))\n",
        "    \n",
        "  # combine image, foreground, and alpha into one line\n",
        "  combined = np.concatenate((image, foreground, matte * 255), axis=1)\n",
        "  combined = Image.fromarray(np.uint8(combined)).resize((rw, rh))\n",
        "  return combined\n",
        "\n",
        "# visualize all images\n",
        "print (len(oFS_files))\n",
        "\n",
        "for i in range(len(oFS_files)):\n",
        "  #iname = Image.open(os.path.join(input_folder, file))\n",
        "  #oname = Image.open(os.path.join(output_folder, file))\n",
        "  #display(combined_display(iname, oname))\n",
        "\n",
        "  # needs some subplots for rows / columns\n",
        "  # best practice would be visualising the input images from the input folder\n",
        "  # next to the output images -> since both are in a list it's more diffivult to get\n",
        "  # an image when it's not present. \n",
        "  # the lists are build upon [0, 1, ...] maybe creating the lists when into the face detection algo\n",
        "  img = mpimg.imread(oFS_files[i])\n",
        "  plt.imshow(img)\n",
        "  plt.axis('off')\n",
        "  plt.show()\n",
        "\n",
        "  \n"
      ],
      "execution_count": 26,
      "outputs": [
        {
          "output_type": "stream",
          "name": "stdout",
          "text": [
            "15\n"
          ]
        },
        {
          "output_type": "display_data",
          "data": {
            "text/plain": [
              "<Figure size 432x288 with 1 Axes>"
            ],
            "image/png": "[encoded data removed]"
          },
          "metadata": {
            "needs_background": "light"
          }
        }
      ]
    }
  ]
}