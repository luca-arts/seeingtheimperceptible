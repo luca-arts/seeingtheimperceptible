{
  "nbformat": 4,
  "nbformat_minor": 0,
  "metadata": {
    "kernelspec": {
      "display_name": "Python 3",
      "name": "python3"
    },
    "language_info": {
      "name": "python"
    },
    "colab": {
      "name": "face_smoothing.ipynb",
      "provenance": [],
      "collapsed_sections": [],
      "include_colab_link": true
    }
  },
  "cells": [
    {
      "cell_type": "markdown",
      "metadata": {
        "id": "view-in-github",
        "colab_type": "text"
      },
      "source": [
        "<a href=\"https://colab.research.google.com/github/luca-arts/seeingtheimperceptible/blob/main/notebooks/skinRetouching/tests/face_smoothing.ipynb\" target=\"_parent\"><img src=\"https://colab.research.google.com/assets/colab-badge.svg\" alt=\"Open In Colab\"/></a>"
      ]
    },
    {
      "cell_type": "markdown",
      "source": [
        "## Face Smoothing Detection and Beautification\n",
        "\n",
        "\n",
        "https://github.com/5starkarma/face-smoothing"
      ],
      "metadata": {
        "id": "P049K3yioHDa"
      }
    },
    {
      "cell_type": "markdown",
      "source": [
        "1. Linking next cloud"
      ],
      "metadata": {
        "id": "jgCkrpQFo5yj"
      }
    },
    {
      "cell_type": "code",
      "source": [
        "# we'll link the dataset from next-cloud\n",
        "!curl https://raw.githubusercontent.com/luca-arts/seeingtheimperceptible/main/notebooks/database_mod.py -o /content/database_mod.py\n",
        "\n",
        "from database_mod import *\n",
        "\n",
        "link_nextcloud()\n",
        "\n",
        "nextcloud = '/content/database/'\n",
        "\n",
        "input_folder, output_folder = create_io(database=nextcloud,topic='skinRetouching',library='FS')"
      ],
      "metadata": {
        "id": "KSAXszTNpAgU"
      },
      "execution_count": null,
      "outputs": []
    },
    {
      "cell_type": "markdown",
      "source": [
        "2. Clone Git repository"
      ],
      "metadata": {
        "id": "p_GIodQxqSMj"
      }
    },
    {
      "cell_type": "code",
      "metadata": {
        "id": "kWHNWsIwJCx2"
      },
      "source": [
        "import os\n",
        "root_path = '/content/FS'\n",
        "\n",
        "# clone the repository\n",
        "if not os.path.exists('FS'):\n",
        "  !git clone https://github.com/5starkarma/face-smoothing {root_path}"
      ],
      "execution_count": null,
      "outputs": []
    },
    {
      "cell_type": "markdown",
      "source": [
        "3. install dependencies"
      ],
      "metadata": {
        "id": "GKY5THJT4PYa"
      }
    },
    {
      "cell_type": "code",
      "source": [
        "# some libs need another version, manually install necessary for the moment.\n",
        "#!pip install -qr {root_path}/requirements.txt\n",
        "\n",
        "!pip install matplotlib==3.2.2 numpy==1.20 opencv-contrib-python==4.1.2.30 opencv-python==4.1.2.30\n"
      ],
      "metadata": {
        "id": "3gNXgp2Y4QRe"
      },
      "execution_count": null,
      "outputs": []
    },
    {
      "cell_type": "markdown",
      "source": [
        "4. install pyYAML"
      ],
      "metadata": {
        "id": "9Z16xfyHqw4N"
      }
    },
    {
      "cell_type": "code",
      "metadata": {
        "id": "1U3JHKHD8M9o"
      },
      "source": [
        "!pip install -U PyYAML"
      ],
      "execution_count": null,
      "outputs": []
    },
    {
      "cell_type": "markdown",
      "source": [
        "5. I/O folder"
      ],
      "metadata": {
        "id": "Oxrp3oRqrBLc"
      }
    },
    {
      "cell_type": "code",
      "metadata": {
        "id": "BXsIMd_ymFtq"
      },
      "source": [
        "input = '/content/database/skinRetouching/input'\n",
        "#model = '/content/FS/infer.py'\n",
        "\n",
        "#! python3 infer.py --input '/content/drive/My Drive/Colab Notebooks/face-smoothing/data/images'\n",
        "!python3 {root_path}/infer.py --input {input}"
      ],
      "execution_count": null,
      "outputs": []
    },
    {
      "cell_type": "code",
      "metadata": {
        "id": "hWmhTm2wclAr"
      },
      "source": [
        "output = '/content/database/skinRetouching/FS'\n",
        "\n",
        "#! rm -r /content/drive/My\\ Drive/Colab\\ Notebooks/face-smoothing/data/output\n",
        "! rm -r {output}"
      ],
      "execution_count": null,
      "outputs": []
    }
  ]
}