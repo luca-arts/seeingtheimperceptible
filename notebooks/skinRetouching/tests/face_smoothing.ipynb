{
  "nbformat": 4,
  "nbformat_minor": 0,
  "metadata": {
    "kernelspec": {
      "display_name": "Face Smoothing Virtual Env",
      "language": "python",
      "name": "face_smoothing_venv"
    },
    "language_info": {
      "codemirror_mode": {
        "name": "ipython",
        "version": 2
      },
      "file_extension": ".py",
      "mimetype": "text/x-python",
      "name": "python",
      "nbconvert_exporter": "python",
      "pygments_lexer": "ipython2",
      "version": "2.7.17"
    },
    "colab": {
      "name": "face_smoothing.ipynb",
      "provenance": [],
      "collapsed_sections": [],
      "include_colab_link": true
    }
  },
  "cells": [
    {
      "cell_type": "markdown",
      "metadata": {
        "id": "view-in-github",
        "colab_type": "text"
      },
      "source": [
        "<a href=\"https://colab.research.google.com/github/luca-arts/seeingtheimperceptible/blob/main/notebooks/skinRetouching/tests/face_smoothing.ipynb\" target=\"_parent\"><img src=\"https://colab.research.google.com/assets/colab-badge.svg\" alt=\"Open In Colab\"/></a>"
      ]
    },
    {
      "cell_type": "markdown",
      "source": [
        "## Face Smoothing\n",
        "\n",
        "\n",
        "https://github.com/5starkarma/face-smoothing"
      ],
      "metadata": {
        "id": "P049K3yioHDa"
      }
    },
    {
      "cell_type": "markdown",
      "source": [
        "1. Linking next cloud"
      ],
      "metadata": {
        "id": "jgCkrpQFo5yj"
      }
    },
    {
      "cell_type": "code",
      "source": [
        "# we'll link the dataset from next-cloud\n",
        "!curl https://raw.githubusercontent.com/luca-arts/seeingtheimperceptible/main/notebooks/database_mod.py -o /content/database_mod.py\n",
        "\n",
        "from database_mod import *\n",
        "\n",
        "link_nextcloud()\n",
        "\n",
        "nextcloud = '/content/database/'\n",
        "\n",
        "input_folder, output_folder = create_io(database=nextcloud,topic='skinRetouching',library='FS')"
      ],
      "metadata": {
        "id": "KSAXszTNpAgU"
      },
      "execution_count": null,
      "outputs": []
    },
    {
      "cell_type": "markdown",
      "source": [
        "2. Clone Git repository"
      ],
      "metadata": {
        "id": "p_GIodQxqSMj"
      }
    },
    {
      "cell_type": "code",
      "metadata": {
        "id": "kWHNWsIwJCx2"
      },
      "source": [
        "import os\n",
        "root_path = '/content/FS'\n",
        "\n",
        "# clone the repository\n",
        "if not os.path.exists('FS'):\n",
        "  #!git clone https://github.com/csjliang/LPTN {root_path}\n",
        "  !git clone https://github.com/5starkarma/face-smoothing.git"
      ],
      "execution_count": null,
      "outputs": []
    },
    {
      "cell_type": "markdown",
      "source": [
        "3. install pyYAML"
      ],
      "metadata": {
        "id": "9Z16xfyHqw4N"
      }
    },
    {
      "cell_type": "code",
      "metadata": {
        "id": "1U3JHKHD8M9o"
      },
      "source": [
        "pip install -U PyYAML"
      ],
      "execution_count": null,
      "outputs": []
    },
    {
      "cell_type": "markdown",
      "source": [
        "4. I/O folder"
      ],
      "metadata": {
        "id": "Oxrp3oRqrBLc"
      }
    },
    {
      "cell_type": "code",
      "metadata": {
        "id": "BXsIMd_ymFtq"
      },
      "source": [
        "! python3 infer.py --input '/content/drive/My Drive/Colab Notebooks/face-smoothing/data/images'"
      ],
      "execution_count": null,
      "outputs": []
    },
    {
      "cell_type": "code",
      "metadata": {
        "id": "hWmhTm2wclAr"
      },
      "source": [
        "! rm -r /content/drive/My\\ Drive/Colab\\ Notebooks/face-smoothing/data/output"
      ],
      "execution_count": null,
      "outputs": []
    }
  ]
}