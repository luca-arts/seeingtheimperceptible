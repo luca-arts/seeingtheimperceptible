{
  "nbformat": 4,
  "nbformat_minor": 0,
  "metadata": {
    "kernelspec": {
      "display_name": "Python 3",
      "name": "python3"
    },
    "language_info": {
      "name": "python"
    },
    "colab": {
      "name": "face_smoothing.ipynb",
      "provenance": [],
      "collapsed_sections": [],
      "include_colab_link": true
    }
  },
  "cells": [
    {
      "cell_type": "markdown",
      "metadata": {
        "id": "view-in-github",
        "colab_type": "text"
      },
      "source": [
        "<a href=\"https://colab.research.google.com/github/luca-arts/seeingtheimperceptible/blob/main/notebooks/skinRetouching/tests/face_smoothing.ipynb\" target=\"_parent\"><img src=\"https://colab.research.google.com/assets/colab-badge.svg\" alt=\"Open In Colab\"/></a>"
      ]
    },
    {
      "cell_type": "markdown",
      "source": [
        "## Face Smoothing Detection and Beautification\n",
        "\n",
        "\n",
        "https://github.com/5starkarma/face-smoothing"
      ],
      "metadata": {
        "id": "P049K3yioHDa"
      }
    },
    {
      "cell_type": "markdown",
      "source": [
        "1. Linking next cloud"
      ],
      "metadata": {
        "id": "jgCkrpQFo5yj"
      }
    },
    {
      "cell_type": "code",
      "source": [
        "# we'll link the dataset from next-cloud\n",
        "!curl https://raw.githubusercontent.com/luca-arts/seeingtheimperceptible/main/notebooks/database_mod.py -o /content/database_mod.py\n",
        "\n",
        "from database_mod import *\n",
        "\n",
        "link_nextcloud()\n",
        "\n",
        "nextcloud = '/content/database/'\n",
        "\n",
        "input_folder, output_folder = create_io(database=nextcloud,topic='skinRetouching',library='FS')"
      ],
      "metadata": {
        "colab": {
          "base_uri": "https://localhost:8080/"
        },
        "id": "KSAXszTNpAgU",
        "outputId": "273b666a-1e48-4ce9-c519-b8b8d9641910"
      },
      "execution_count": 1,
      "outputs": [
        {
          "output_type": "stream",
          "name": "stdout",
          "text": [
            "  % Total    % Received % Xferd  Average Speed   Time    Time     Time  Current\n",
            "                                 Dload  Upload   Total   Spent    Left  Speed\n",
            "100  2235  100  2235    0     0  16313      0 --:--:-- --:--:-- --:--:-- 16313\n",
            "what's the username for nextcloud? colab\n",
            "what's the password for user colab? ··········\n",
            "0\n",
            "Please enter the username to authenticate with server\n",
            "https://cloud.bxlab.net/remote.php/dav/files/colab/colabfiles/ or hit enter for none.\n",
            "  Username: Please enter the password to authenticate user colab with server\n",
            "https://cloud.bxlab.net/remote.php/dav/files/colab/colabfiles/ or hit enter for none.\n",
            "  Password:  \n",
            "content of /etc/fstab: https://cloud.bxlab.net/remote.php/dav/files/colab/colabfiles/ /content/database davfs user,rw,auto 0 0\n"
          ]
        }
      ]
    },
    {
      "cell_type": "markdown",
      "source": [
        "2. Clone Git repository"
      ],
      "metadata": {
        "id": "p_GIodQxqSMj"
      }
    },
    {
      "cell_type": "code",
      "metadata": {
        "id": "kWHNWsIwJCx2",
        "colab": {
          "base_uri": "https://localhost:8080/"
        },
        "outputId": "b4ab03e6-8a9f-4607-f63c-375d05124265"
      },
      "source": [
        "import os\n",
        "root_path = '/content/FS'\n",
        "\n",
        "# clone the repository\n",
        "if not os.path.exists('FS'):\n",
        "  !git clone https://github.com/5starkarma/face-smoothing {root_path}"
      ],
      "execution_count": 2,
      "outputs": [
        {
          "output_type": "stream",
          "name": "stdout",
          "text": [
            "Cloning into '/content/FS'...\n",
            "remote: Enumerating objects: 641, done.\u001b[K\n",
            "remote: Counting objects: 100% (215/215), done.\u001b[K\n",
            "remote: Compressing objects: 100% (151/151), done.\u001b[K\n",
            "remote: Total 641 (delta 105), reused 140 (delta 51), pack-reused 426\u001b[K\n",
            "Receiving objects: 100% (641/641), 39.84 MiB | 43.31 MiB/s, done.\n",
            "Resolving deltas: 100% (317/317), done.\n"
          ]
        }
      ]
    },
    {
      "cell_type": "markdown",
      "source": [
        "3. install dependencies"
      ],
      "metadata": {
        "id": "GKY5THJT4PYa"
      }
    },
    {
      "cell_type": "code",
      "source": [
        "# some libs need another version, manually install necessary for the moment.\n",
        "# numpy still gives an error but with restarting runtime it seems OK...\n",
        "#!pip install -qr {root_path}/requirements.txt\n",
        "\n",
        "!pip install matplotlib==3.2.2 numpy==1.20 opencv-contrib-python==4.1.2.30 opencv-python==4.1.2.30\n"
      ],
      "metadata": {
        "colab": {
          "base_uri": "https://localhost:8080/"
        },
        "id": "3gNXgp2Y4QRe",
        "outputId": "8234058e-4bf8-467a-984b-dd549de45567"
      },
      "execution_count": 1,
      "outputs": [
        {
          "output_type": "stream",
          "name": "stdout",
          "text": [
            "Requirement already satisfied: matplotlib==3.2.2 in /usr/local/lib/python3.7/dist-packages (3.2.2)\n",
            "Requirement already satisfied: numpy==1.20 in /usr/local/lib/python3.7/dist-packages (1.20.0)\n",
            "Requirement already satisfied: opencv-contrib-python==4.1.2.30 in /usr/local/lib/python3.7/dist-packages (4.1.2.30)\n",
            "Requirement already satisfied: opencv-python==4.1.2.30 in /usr/local/lib/python3.7/dist-packages (4.1.2.30)\n",
            "Requirement already satisfied: kiwisolver>=1.0.1 in /usr/local/lib/python3.7/dist-packages (from matplotlib==3.2.2) (1.3.2)\n",
            "Requirement already satisfied: python-dateutil>=2.1 in /usr/local/lib/python3.7/dist-packages (from matplotlib==3.2.2) (2.8.2)\n",
            "Requirement already satisfied: pyparsing!=2.0.4,!=2.1.2,!=2.1.6,>=2.0.1 in /usr/local/lib/python3.7/dist-packages (from matplotlib==3.2.2) (3.0.7)\n",
            "Requirement already satisfied: cycler>=0.10 in /usr/local/lib/python3.7/dist-packages (from matplotlib==3.2.2) (0.11.0)\n",
            "Requirement already satisfied: six>=1.5 in /usr/local/lib/python3.7/dist-packages (from python-dateutil>=2.1->matplotlib==3.2.2) (1.15.0)\n"
          ]
        }
      ]
    },
    {
      "cell_type": "markdown",
      "source": [
        "4. install pyYAML"
      ],
      "metadata": {
        "id": "9Z16xfyHqw4N"
      }
    },
    {
      "cell_type": "code",
      "metadata": {
        "id": "1U3JHKHD8M9o",
        "outputId": "8a3b981a-a99c-41a5-aea8-c57b58d3ce60",
        "colab": {
          "base_uri": "https://localhost:8080/"
        }
      },
      "source": [
        "!pip install -U PyYAML"
      ],
      "execution_count": 2,
      "outputs": [
        {
          "output_type": "stream",
          "name": "stdout",
          "text": [
            "Requirement already satisfied: PyYAML in /usr/local/lib/python3.7/dist-packages (3.13)\n",
            "Collecting PyYAML\n",
            "  Downloading PyYAML-6.0-cp37-cp37m-manylinux_2_5_x86_64.manylinux1_x86_64.manylinux_2_12_x86_64.manylinux2010_x86_64.whl (596 kB)\n",
            "\u001b[K     |████████████████████████████████| 596 kB 4.0 MB/s \n",
            "\u001b[?25hInstalling collected packages: PyYAML\n",
            "  Attempting uninstall: PyYAML\n",
            "    Found existing installation: PyYAML 3.13\n",
            "    Uninstalling PyYAML-3.13:\n",
            "      Successfully uninstalled PyYAML-3.13\n",
            "Successfully installed PyYAML-6.0\n"
          ]
        }
      ]
    },
    {
      "cell_type": "markdown",
      "source": [
        "5. I/O folder"
      ],
      "metadata": {
        "id": "Oxrp3oRqrBLc"
      }
    },
    {
      "cell_type": "code",
      "metadata": {
        "id": "BXsIMd_ymFtq",
        "outputId": "5c9474b7-f605-4db2-d690-6754fcc32bb2",
        "colab": {
          "base_uri": "https://localhost:8080/"
        }
      },
      "source": [
        "input = '/content/database/skinRetouching/input/'\n",
        "output = '/content/database/skinRetouching/FS'\n",
        "\n",
        "#! python3 infer.py --input '/content/drive/My Drive/Colab Notebooks/face-smoothing/data/images'\n",
        "#!python3 '/content/FS/infer.py' --input {input}\n",
        "\n",
        "# the infer.py gives an error since it directs to an external user Gdrive - how to fix this??\n",
        "!python3 '/content/FS/infer.py' --input {input} --output {output} --show-detections\n",
        "\n",
        "#!python3 '/content/FS/infer.py' --input '/content/database/skinRetouching/input' --output '/content/FS/data/output' --show-detections\n",
        "  #--save_steps 'path/to/file.jpg'"
      ],
      "execution_count": 4,
      "outputs": [
        {
          "output_type": "stream",
          "name": "stdout",
          "text": [
            "Traceback (most recent call last):\n",
            "  File \"/content/FS/infer.py\", line 147, in <module>\n",
            "    main(args)\n",
            "  File \"/content/FS/infer.py\", line 82, in main\n",
            "    cfg['net']['cfg_file'])\n",
            "cv2.error: OpenCV(4.1.2) /io/opencv/modules/dnn/src/caffe/caffe_io.cpp:1132: error: (-2:Unspecified error) FAILED: fs.is_open(). Can't open \"models/opencv_face_detector_uint8.pb\" in function 'ReadProtoFromBinaryFile'\n",
            "\n"
          ]
        }
      ]
    },
    {
      "cell_type": "code",
      "metadata": {
        "id": "hWmhTm2wclAr"
      },
      "source": [
        "#output = '/content/database/skinRetouching/FS'\n",
        "\n",
        "#! rm -r /content/drive/My\\ Drive/Colab\\ Notebooks/face-smoothing/data/output\n",
        "#! rm -r {output}"
      ],
      "execution_count": null,
      "outputs": []
    }
  ]
}