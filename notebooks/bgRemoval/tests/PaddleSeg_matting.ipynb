{
  "nbformat": 4,
  "nbformat_minor": 0,
  "metadata": {
    "colab": {
      "name": "PaddleSeg-matting.ipynb",
      "provenance": [],
      "authorship_tag": "ABX9TyOtiYZjLUjJIv4UthHAizmC",
      "include_colab_link": true
    },
    "kernelspec": {
      "name": "python3",
      "display_name": "Python 3"
    },
    "language_info": {
      "name": "python"
    }
  },
  "cells": [
    {
      "cell_type": "markdown",
      "metadata": {
        "id": "view-in-github",
        "colab_type": "text"
      },
      "source": [
        "<a href=\"https://colab.research.google.com/github/luca-arts/seeingtheimperceptible/blob/main/notebooks/bgRemoval/tests/PaddleSeg_matting.ipynb\" target=\"_parent\"><img src=\"https://colab.research.google.com/assets/colab-badge.svg\" alt=\"Open In Colab\"/></a>"
      ]
    },
    {
      "cell_type": "markdown",
      "source": [
        "## PaddleSeg - matting + BG-inpainting\n",
        "\n",
        "[GitHub](https://github.com/PaddlePaddle/PaddleSeg/tree/release/2.5/Matting)\n"
      ],
      "metadata": {
        "id": "NLneEHFCApdZ"
      }
    },
    {
      "cell_type": "markdown",
      "source": [
        "# 1. linking nextcloud\n",
        "\n",
        "Connecting to the external NextCloud drive "
      ],
      "metadata": {
        "id": "V0MQlGrZBpxu"
      }
    },
    {
      "cell_type": "code",
      "execution_count": null,
      "metadata": {
        "id": "q2x_BWxQAcew"
      },
      "outputs": [],
      "source": [
        "# we'll link the dataset from next-cloud\n",
        "!curl https://raw.githubusercontent.com/luca-arts/seeingtheimperceptible/main/notebooks/database_mod.py -o /content/database_mod.py\n",
        "\n",
        "from database_mod import *\n",
        "\n",
        "link_nextcloud()\n",
        "\n",
        "nextcloud = '/content/database/'\n",
        "\n",
        "input_folder, output_folder = create_io(database=nextcloud,topic='bgRemoval',library='MODNet')"
      ]
    },
    {
      "cell_type": "markdown",
      "source": [
        "# 2. Clone the GIT repo and download the model"
      ],
      "metadata": {
        "id": "AkY2y9z8B1XK"
      }
    },
    {
      "cell_type": "code",
      "source": [
        ""
      ],
      "metadata": {
        "id": "qp3rGrU1CGeY"
      },
      "execution_count": null,
      "outputs": []
    }
  ]
}