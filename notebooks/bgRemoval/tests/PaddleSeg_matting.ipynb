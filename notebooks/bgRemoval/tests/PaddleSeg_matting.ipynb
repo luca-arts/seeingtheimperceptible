{
  "nbformat": 4,
  "nbformat_minor": 0,
  "metadata": {
    "colab": {
      "name": "PaddleSeg-matting.ipynb",
      "provenance": [],
      "include_colab_link": true
    },
    "kernelspec": {
      "name": "python3",
      "display_name": "Python 3"
    },
    "language_info": {
      "name": "python"
    },
    "accelerator": "GPU"
  },
  "cells": [
    {
      "cell_type": "markdown",
      "metadata": {
        "id": "view-in-github",
        "colab_type": "text"
      },
      "source": [
        "<a href=\"https://colab.research.google.com/github/luca-arts/seeingtheimperceptible/blob/main/notebooks/bgRemoval/tests/PaddleSeg_matting.ipynb\" target=\"_parent\"><img src=\"https://colab.research.google.com/assets/colab-badge.svg\" alt=\"Open In Colab\"/></a>"
      ]
    },
    {
      "cell_type": "markdown",
      "source": [
        "## PaddleSeg - matting + BG-inpainting\n",
        "\n",
        "[GitHub](https://github.com/PaddlePaddle/PaddleSeg/tree/release/2.5/Matting)\n"
      ],
      "metadata": {
        "id": "NLneEHFCApdZ"
      }
    },
    {
      "cell_type": "markdown",
      "source": [
        "## 1. Preparations\n",
        "\n",
        "Before start, make sure that you choose\n",
        "\n",
        "Runtime Type = Python 3\n",
        "Hardware Accelerator = GPU"
      ],
      "metadata": {
        "id": "khoHlmWcDiqt"
      }
    },
    {
      "cell_type": "code",
      "source": [
        "!nvidia-smi"
      ],
      "metadata": {
        "colab": {
          "base_uri": "https://localhost:8080/"
        },
        "id": "5citXkAXD0Mn",
        "outputId": "72171095-d862-4f31-ff43-deb1bc900e1d"
      },
      "execution_count": 1,
      "outputs": [
        {
          "output_type": "stream",
          "name": "stdout",
          "text": [
            "NVIDIA-SMI has failed because it couldn't communicate with the NVIDIA driver. Make sure that the latest NVIDIA driver is installed and running.\n",
            "\n"
          ]
        }
      ]
    },
    {
      "cell_type": "markdown",
      "source": [
        "## 2. linking nextcloud\n",
        "\n",
        "Connecting to the external NextCloud drive "
      ],
      "metadata": {
        "id": "V0MQlGrZBpxu"
      }
    },
    {
      "cell_type": "code",
      "execution_count": null,
      "metadata": {
        "id": "q2x_BWxQAcew"
      },
      "outputs": [],
      "source": [
        "# we'll link the dataset from next-cloud\n",
        "!curl https://raw.githubusercontent.com/luca-arts/seeingtheimperceptible/main/notebooks/database_mod.py -o /content/database_mod.py\n",
        "\n",
        "from database_mod import *\n",
        "\n",
        "link_nextcloud()\n",
        "\n",
        "nextcloud = '/content/database/'\n",
        "\n",
        "input_folder, output_folder = create_io(database=nextcloud,topic='bgRemoval',library='PaddleSeg')"
      ]
    },
    {
      "cell_type": "markdown",
      "source": [
        "## 3. install PaddlePaddle"
      ],
      "metadata": {
        "id": "bMRYxt0sLTqT"
      }
    },
    {
      "cell_type": "code",
      "source": [
        "!pip install -q PaddlePaddle"
      ],
      "metadata": {
        "id": "5_9xoAyOLYaC",
        "outputId": "1bca49ff-cf90-4399-f23d-6547d4041b7d",
        "colab": {
          "base_uri": "https://localhost:8080/"
        }
      },
      "execution_count": 4,
      "outputs": [
        {
          "output_type": "stream",
          "name": "stdout",
          "text": [
            "\u001b[K     |████████████████████████████████| 108.4 MB 25 kB/s \n",
            "\u001b[?25h"
          ]
        }
      ]
    },
    {
      "cell_type": "markdown",
      "source": [
        "## 4. clone GIT repo"
      ],
      "metadata": {
        "id": "AkY2y9z8B1XK"
      }
    },
    {
      "cell_type": "code",
      "source": [
        "import os\n",
        "root_path = '/content/PaddleSeg'\n",
        "\n",
        "# clone the repository\n",
        "if not os.path.exists(root_path):\n",
        "  !git clone https://github.com/PaddlePaddle/PaddleSeg {root_path}\n",
        "\n",
        "%ls"
      ],
      "metadata": {
        "colab": {
          "base_uri": "https://localhost:8080/"
        },
        "id": "qp3rGrU1CGeY",
        "outputId": "f36807cf-64e2-4e07-a979-14aca3e0e4d0"
      },
      "execution_count": 5,
      "outputs": [
        {
          "output_type": "stream",
          "name": "stdout",
          "text": [
            "Cloning into '/content/PaddleSeg'...\n",
            "remote: Enumerating objects: 17638, done.\u001b[K\n",
            "remote: Counting objects: 100% (120/120), done.\u001b[K\n",
            "remote: Compressing objects: 100% (84/84), done.\u001b[K\n",
            "remote: Total 17638 (delta 53), reused 92 (delta 35), pack-reused 17518\u001b[K\n",
            "Receiving objects: 100% (17638/17638), 341.87 MiB | 35.45 MiB/s, done.\n",
            "Resolving deltas: 100% (11256/11256), done.\n",
            "\u001b[0m\u001b[01;34mdatabase\u001b[0m/  database_mod.py  \u001b[01;34mPaddleSeg\u001b[0m/  \u001b[01;34m__pycache__\u001b[0m/  \u001b[01;34msample_data\u001b[0m/\n"
          ]
        }
      ]
    },
    {
      "cell_type": "markdown",
      "source": [
        "## 5. Setting up the environment"
      ],
      "metadata": {
        "id": "3sRL53XpHgPP"
      }
    },
    {
      "cell_type": "code",
      "source": [
        "# installing PaddleSeg\n",
        "%cd {root_path}\n",
        "!pip install -q -r requirements.txt\n",
        "!pip install -e .\n",
        "\n",
        "# installing Matting\n",
        "%cd Matting\n",
        "!pip install -q -r requirements.txt"
      ],
      "metadata": {
        "colab": {
          "base_uri": "https://localhost:8080/"
        },
        "id": "rXz3PdFEI2YS",
        "outputId": "7aacf0f0-592c-43b0-ff4f-28267c6209b5"
      },
      "execution_count": 6,
      "outputs": [
        {
          "output_type": "stream",
          "name": "stdout",
          "text": [
            "/content/PaddleSeg\n",
            "\u001b[31mERROR: Could not open requirements file: [Errno 2] No such file or directory: '-q'\u001b[0m\n",
            "Obtaining file:///content/PaddleSeg\n",
            "Collecting pyyaml>=5.1\n",
            "  Downloading PyYAML-6.0-cp37-cp37m-manylinux_2_5_x86_64.manylinux1_x86_64.manylinux_2_12_x86_64.manylinux2010_x86_64.whl (596 kB)\n",
            "\u001b[K     |████████████████████████████████| 596 kB 5.2 MB/s \n",
            "\u001b[?25hCollecting visualdl>=2.0.0\n",
            "  Downloading visualdl-2.2.3-py3-none-any.whl (2.7 MB)\n",
            "\u001b[K     |████████████████████████████████| 2.7 MB 42.9 MB/s \n",
            "\u001b[?25hRequirement already satisfied: opencv-python in /usr/local/lib/python3.7/dist-packages (from paddleseg==2.5.0) (4.1.2.30)\n",
            "Requirement already satisfied: tqdm in /usr/local/lib/python3.7/dist-packages (from paddleseg==2.5.0) (4.64.0)\n",
            "Requirement already satisfied: filelock in /usr/local/lib/python3.7/dist-packages (from paddleseg==2.5.0) (3.6.0)\n",
            "Requirement already satisfied: scipy in /usr/local/lib/python3.7/dist-packages (from paddleseg==2.5.0) (1.4.1)\n",
            "Requirement already satisfied: prettytable in /usr/local/lib/python3.7/dist-packages (from paddleseg==2.5.0) (3.2.0)\n",
            "Requirement already satisfied: sklearn in /usr/local/lib/python3.7/dist-packages (from paddleseg==2.5.0) (0.0)\n",
            "Collecting pre-commit\n",
            "  Downloading pre_commit-2.18.1-py2.py3-none-any.whl (197 kB)\n",
            "\u001b[K     |████████████████████████████████| 197 kB 58.6 MB/s \n",
            "\u001b[?25hRequirement already satisfied: protobuf>=3.11.0 in /usr/local/lib/python3.7/dist-packages (from visualdl>=2.0.0->paddleseg==2.5.0) (3.17.3)\n",
            "Requirement already satisfied: flask>=1.1.1 in /usr/local/lib/python3.7/dist-packages (from visualdl>=2.0.0->paddleseg==2.5.0) (1.1.4)\n",
            "Collecting bce-python-sdk\n",
            "  Downloading bce-python-sdk-0.8.64.tar.gz (127 kB)\n",
            "\u001b[K     |████████████████████████████████| 127 kB 4.0 MB/s \n",
            "\u001b[?25hCollecting Flask-Babel>=1.0.0\n",
            "  Downloading Flask_Babel-2.0.0-py3-none-any.whl (9.3 kB)\n",
            "Requirement already satisfied: pandas in /usr/local/lib/python3.7/dist-packages (from visualdl>=2.0.0->paddleseg==2.5.0) (1.3.5)\n",
            "Requirement already satisfied: numpy in /usr/local/lib/python3.7/dist-packages (from visualdl>=2.0.0->paddleseg==2.5.0) (1.21.6)\n",
            "Requirement already satisfied: six>=1.14.0 in /usr/local/lib/python3.7/dist-packages (from visualdl>=2.0.0->paddleseg==2.5.0) (1.15.0)\n",
            "Requirement already satisfied: matplotlib in /usr/local/lib/python3.7/dist-packages (from visualdl>=2.0.0->paddleseg==2.5.0) (3.2.2)\n",
            "Collecting shellcheck-py\n",
            "  Downloading shellcheck_py-0.8.0.4-py2.py3-none-manylinux_2_5_x86_64.manylinux1_x86_64.manylinux_2_17_x86_64.manylinux2014_x86_64.whl (2.1 MB)\n",
            "\u001b[K     |████████████████████████████████| 2.1 MB 29.3 MB/s \n",
            "\u001b[?25hCollecting flake8>=3.7.9\n",
            "  Downloading flake8-4.0.1-py2.py3-none-any.whl (64 kB)\n",
            "\u001b[K     |████████████████████████████████| 64 kB 2.3 MB/s \n",
            "\u001b[?25hRequirement already satisfied: requests in /usr/local/lib/python3.7/dist-packages (from visualdl>=2.0.0->paddleseg==2.5.0) (2.23.0)\n",
            "Requirement already satisfied: Pillow>=7.0.0 in /usr/local/lib/python3.7/dist-packages (from visualdl>=2.0.0->paddleseg==2.5.0) (7.1.2)\n",
            "Collecting pycodestyle<2.9.0,>=2.8.0\n",
            "  Downloading pycodestyle-2.8.0-py2.py3-none-any.whl (42 kB)\n",
            "\u001b[K     |████████████████████████████████| 42 kB 674 kB/s \n",
            "\u001b[?25hCollecting mccabe<0.7.0,>=0.6.0\n",
            "  Downloading mccabe-0.6.1-py2.py3-none-any.whl (8.6 kB)\n",
            "Collecting pyflakes<2.5.0,>=2.4.0\n",
            "  Downloading pyflakes-2.4.0-py2.py3-none-any.whl (69 kB)\n",
            "\u001b[K     |████████████████████████████████| 69 kB 6.2 MB/s \n",
            "\u001b[?25hCollecting importlib-metadata<4.3\n",
            "  Downloading importlib_metadata-4.2.0-py3-none-any.whl (16 kB)\n",
            "Requirement already satisfied: click<8.0,>=5.1 in /usr/local/lib/python3.7/dist-packages (from flask>=1.1.1->visualdl>=2.0.0->paddleseg==2.5.0) (7.1.2)\n",
            "Requirement already satisfied: Werkzeug<2.0,>=0.15 in /usr/local/lib/python3.7/dist-packages (from flask>=1.1.1->visualdl>=2.0.0->paddleseg==2.5.0) (1.0.1)\n",
            "Requirement already satisfied: itsdangerous<2.0,>=0.24 in /usr/local/lib/python3.7/dist-packages (from flask>=1.1.1->visualdl>=2.0.0->paddleseg==2.5.0) (1.1.0)\n",
            "Requirement already satisfied: Jinja2<3.0,>=2.10.1 in /usr/local/lib/python3.7/dist-packages (from flask>=1.1.1->visualdl>=2.0.0->paddleseg==2.5.0) (2.11.3)\n",
            "Requirement already satisfied: pytz in /usr/local/lib/python3.7/dist-packages (from Flask-Babel>=1.0.0->visualdl>=2.0.0->paddleseg==2.5.0) (2022.1)\n",
            "Requirement already satisfied: Babel>=2.3 in /usr/local/lib/python3.7/dist-packages (from Flask-Babel>=1.0.0->visualdl>=2.0.0->paddleseg==2.5.0) (2.10.1)\n",
            "Requirement already satisfied: typing-extensions>=3.6.4 in /usr/local/lib/python3.7/dist-packages (from importlib-metadata<4.3->flake8>=3.7.9->visualdl>=2.0.0->paddleseg==2.5.0) (4.2.0)\n",
            "Requirement already satisfied: zipp>=0.5 in /usr/local/lib/python3.7/dist-packages (from importlib-metadata<4.3->flake8>=3.7.9->visualdl>=2.0.0->paddleseg==2.5.0) (3.8.0)\n",
            "Requirement already satisfied: MarkupSafe>=0.23 in /usr/local/lib/python3.7/dist-packages (from Jinja2<3.0,>=2.10.1->flask>=1.1.1->visualdl>=2.0.0->paddleseg==2.5.0) (2.0.1)\n",
            "Collecting pycryptodome>=3.8.0\n",
            "  Downloading pycryptodome-3.14.1-cp35-abi3-manylinux2010_x86_64.whl (2.0 MB)\n",
            "\u001b[K     |████████████████████████████████| 2.0 MB 58.6 MB/s \n",
            "\u001b[?25hRequirement already satisfied: future>=0.6.0 in /usr/local/lib/python3.7/dist-packages (from bce-python-sdk->visualdl>=2.0.0->paddleseg==2.5.0) (0.16.0)\n",
            "Requirement already satisfied: pyparsing!=2.0.4,!=2.1.2,!=2.1.6,>=2.0.1 in /usr/local/lib/python3.7/dist-packages (from matplotlib->visualdl>=2.0.0->paddleseg==2.5.0) (3.0.8)\n",
            "Requirement already satisfied: python-dateutil>=2.1 in /usr/local/lib/python3.7/dist-packages (from matplotlib->visualdl>=2.0.0->paddleseg==2.5.0) (2.8.2)\n",
            "Requirement already satisfied: kiwisolver>=1.0.1 in /usr/local/lib/python3.7/dist-packages (from matplotlib->visualdl>=2.0.0->paddleseg==2.5.0) (1.4.2)\n",
            "Requirement already satisfied: cycler>=0.10 in /usr/local/lib/python3.7/dist-packages (from matplotlib->visualdl>=2.0.0->paddleseg==2.5.0) (0.11.0)\n",
            "Collecting identify>=1.0.0\n",
            "  Downloading identify-2.5.0-py2.py3-none-any.whl (98 kB)\n",
            "\u001b[K     |████████████████████████████████| 98 kB 5.8 MB/s \n",
            "\u001b[?25hCollecting nodeenv>=0.11.1\n",
            "  Downloading nodeenv-1.6.0-py2.py3-none-any.whl (21 kB)\n",
            "Collecting toml\n",
            "  Downloading toml-0.10.2-py2.py3-none-any.whl (16 kB)\n",
            "Collecting virtualenv>=20.0.8\n",
            "  Downloading virtualenv-20.14.1-py2.py3-none-any.whl (8.8 MB)\n",
            "\u001b[K     |████████████████████████████████| 8.8 MB 39.7 MB/s \n",
            "\u001b[?25hCollecting cfgv>=2.0.0\n",
            "  Downloading cfgv-3.3.1-py2.py3-none-any.whl (7.3 kB)\n",
            "Collecting platformdirs<3,>=2\n",
            "  Downloading platformdirs-2.5.2-py3-none-any.whl (14 kB)\n",
            "Collecting distlib<1,>=0.3.1\n",
            "  Downloading distlib-0.3.4-py2.py3-none-any.whl (461 kB)\n",
            "\u001b[K     |████████████████████████████████| 461 kB 55.5 MB/s \n",
            "\u001b[?25hRequirement already satisfied: wcwidth in /usr/local/lib/python3.7/dist-packages (from prettytable->paddleseg==2.5.0) (0.2.5)\n",
            "Requirement already satisfied: idna<3,>=2.5 in /usr/local/lib/python3.7/dist-packages (from requests->visualdl>=2.0.0->paddleseg==2.5.0) (2.10)\n",
            "Requirement already satisfied: urllib3!=1.25.0,!=1.25.1,<1.26,>=1.21.1 in /usr/local/lib/python3.7/dist-packages (from requests->visualdl>=2.0.0->paddleseg==2.5.0) (1.24.3)\n",
            "Requirement already satisfied: certifi>=2017.4.17 in /usr/local/lib/python3.7/dist-packages (from requests->visualdl>=2.0.0->paddleseg==2.5.0) (2021.10.8)\n",
            "Requirement already satisfied: chardet<4,>=3.0.2 in /usr/local/lib/python3.7/dist-packages (from requests->visualdl>=2.0.0->paddleseg==2.5.0) (3.0.4)\n",
            "Requirement already satisfied: scikit-learn in /usr/local/lib/python3.7/dist-packages (from sklearn->paddleseg==2.5.0) (1.0.2)\n",
            "Requirement already satisfied: joblib>=0.11 in /usr/local/lib/python3.7/dist-packages (from scikit-learn->sklearn->paddleseg==2.5.0) (1.1.0)\n",
            "Requirement already satisfied: threadpoolctl>=2.0.0 in /usr/local/lib/python3.7/dist-packages (from scikit-learn->sklearn->paddleseg==2.5.0) (3.1.0)\n",
            "Building wheels for collected packages: bce-python-sdk\n",
            "  Building wheel for bce-python-sdk (setup.py) ... \u001b[?25l\u001b[?25hdone\n",
            "  Created wheel for bce-python-sdk: filename=bce_python_sdk-0.8.64-py3-none-any.whl size=202973 sha256=d99244eb0e27a66d0d011a92e6305ccea4fcb06b0bf9d3cfa9c9b70c31c6e29b\n",
            "  Stored in directory: /root/.cache/pip/wheels/fd/ee/a5/4ad3bdc0e60b48e892e8bd6f661a3201d7e76dccfa9e968b34\n",
            "Successfully built bce-python-sdk\n",
            "Installing collected packages: platformdirs, importlib-metadata, distlib, virtualenv, toml, pyyaml, pyflakes, pycryptodome, pycodestyle, nodeenv, mccabe, identify, cfgv, shellcheck-py, pre-commit, Flask-Babel, flake8, bce-python-sdk, visualdl, paddleseg\n",
            "  Attempting uninstall: importlib-metadata\n",
            "    Found existing installation: importlib-metadata 4.11.3\n",
            "    Uninstalling importlib-metadata-4.11.3:\n",
            "      Successfully uninstalled importlib-metadata-4.11.3\n",
            "  Attempting uninstall: pyyaml\n",
            "    Found existing installation: PyYAML 3.13\n",
            "    Uninstalling PyYAML-3.13:\n",
            "      Successfully uninstalled PyYAML-3.13\n",
            "  Running setup.py develop for paddleseg\n",
            "\u001b[31mERROR: pip's dependency resolver does not currently take into account all the packages that are installed. This behaviour is the source of the following dependency conflicts.\n",
            "markdown 3.3.6 requires importlib-metadata>=4.4; python_version < \"3.10\", but you have importlib-metadata 4.2.0 which is incompatible.\u001b[0m\n",
            "Successfully installed Flask-Babel-2.0.0 bce-python-sdk-0.8.64 cfgv-3.3.1 distlib-0.3.4 flake8-4.0.1 identify-2.5.0 importlib-metadata-4.2.0 mccabe-0.6.1 nodeenv-1.6.0 paddleseg-2.5.0 platformdirs-2.5.2 pre-commit-2.18.1 pycodestyle-2.8.0 pycryptodome-3.14.1 pyflakes-2.4.0 pyyaml-6.0 shellcheck-py-0.8.0.4 toml-0.10.2 virtualenv-20.14.1 visualdl-2.2.3\n",
            "/content/PaddleSeg/Matting\n",
            "\u001b[31mERROR: Could not open requirements file: [Errno 2] No such file or directory: '-q'\u001b[0m\n"
          ]
        }
      ]
    },
    {
      "cell_type": "markdown",
      "source": [
        "## 6. downloading the dataset"
      ],
      "metadata": {
        "id": "zgXbTNu1iAWN"
      }
    },
    {
      "cell_type": "code",
      "source": [
        "# download model checkpoint \n",
        "model_path = root_path + '/Matting/data/model'\n",
        "model_params = 'https://paddleseg.bj.bcebos.com/matting/models/human_matting-resnet34_vd.pdparams'\n",
        "model_inf = 'https://paddleseg.bj.bcebos.com/matting/models/deploy/pp-humanmatting-resnet34_vd.zip'\n",
        "# make folders\n",
        "os.makedirs(model_path, exist_ok=True)\n",
        "if not os.path.exists(os.path.join(model_path,'human_matting.pdparams')):\n",
        "  print('\\n> Download the model params')\n",
        "  !curl {model_params} -o {os.path.join(model_path,'human_matting.pdparams')}\n",
        "else:\n",
        "  print ('\\n> File already downloaded')\n",
        "if not os.path.exists(os.path.join(model_path,'human_matting-resnet.zip')):\n",
        "  print('\\n> Download the model')\n",
        "  !curl {model_inf} -o {os.path.join(model_path,'human_matting-resnet.zip')}\n",
        "  !unzip -q {os.path.join(model_path,'human_matting-resnet.zip')} -d {os.path.join(model_path)}\n",
        "else:\n",
        "  print ('\\n> File already downloaded')"
      ],
      "metadata": {
        "id": "_gvd1m5nd0cH",
        "outputId": "853b884b-ed13-431f-e56a-b87c34992f00",
        "colab": {
          "base_uri": "https://localhost:8080/"
        }
      },
      "execution_count": 14,
      "outputs": [
        {
          "output_type": "stream",
          "name": "stdout",
          "text": [
            "\n",
            "> File already downloaded\n",
            "\n",
            "> File already downloaded\n"
          ]
        }
      ]
    },
    {
      "cell_type": "markdown",
      "source": [
        "## 7. Deploy"
      ],
      "metadata": {
        "id": "o6_ANZEo4fDu"
      }
    },
    {
      "cell_type": "code",
      "source": [
        "# infer\n",
        "# !python deploy/python/infer.py \\\n",
        "#     --config output/export/deploy.yaml \\\n",
        "#     --image_path data/PPM-100/val/fg/ \\\n",
        "#     --save_dir output/results \\\n",
        "#     --fg_estimate True\n",
        "\n",
        "mode = 'predict' #@param ['predict','bgremoval']\n",
        "if(mode=='predict'):\n",
        "# predict\n",
        "  !export CUDA_VISIBLE_DEVICES=0\n",
        "  !python predict.py \\\n",
        "      --config configs/human_matting/human_matting-resnet34_vd.yml \\\n",
        "      --model_path data/model/human_matting.pdparams \\\n",
        "      --image_path {input_folder} \\\n",
        "      --save_dir {output_folder} \\\n",
        "      --fg_estimate True\n",
        "else:\n",
        "  # bg replacement\n",
        "  background = 'r' #@param ['r','g','b','w'] {allow-input: true}\n",
        "  !export CUDA_VISIBLE_DEVICES=0\n",
        "  !python bg_replace.py \\\n",
        "      --config configs/human_matting/human_matting-resnet34_vd.yml \\\n",
        "      --model_path data/model/human_matting.pdparams \\\n",
        "      --image_path {input_folder} \\\n",
        "      --background path/to/your/background/image \\\n",
        "      --save_dir {output_folder} \\\n",
        "      --fg_estimate True"
      ],
      "metadata": {
        "id": "ibyxp1GlXw-W",
        "cellView": "form",
        "outputId": "89664b91-3635-43e2-c3d6-d322db446fe1",
        "colab": {
          "base_uri": "https://localhost:8080/"
        }
      },
      "execution_count": null,
      "outputs": [
        {
          "output_type": "stream",
          "name": "stdout",
          "text": [
            "/usr/local/lib/python3.7/dist-packages/scipy/fft/__init__.py:97: DeprecationWarning: The module numpy.dual is deprecated.  Instead of using dual, use the functions directly from numpy or scipy.\n",
            "  from numpy.dual import register_func\n",
            "/usr/local/lib/python3.7/dist-packages/scipy/sparse/sputils.py:17: DeprecationWarning: `np.typeDict` is a deprecated alias for `np.sctypeDict`.\n",
            "  supported_dtypes = [np.typeDict[x] for x in supported_dtypes]\n",
            "/usr/local/lib/python3.7/dist-packages/scipy/special/orthogonal.py:81: DeprecationWarning: `np.int` is a deprecated alias for the builtin `int`. To silence this warning, use `int` by itself. Doing this will not modify any behavior and is safe. When replacing `np.int`, you may wish to use e.g. `np.int64` or `np.int32` to specify the precision. If you wish to review your current use, check the release note link for additional information.\n",
            "Deprecated in NumPy 1.20; for more details and guidance: https://numpy.org/devdocs/release/1.20.0-notes.html#deprecations\n",
            "  from numpy import (exp, inf, pi, sqrt, floor, sin, cos, around, int,\n",
            "/usr/local/lib/python3.7/dist-packages/numba/core/types/__init__.py:108: DeprecationWarning: `np.long` is a deprecated alias for `np.compat.long`. To silence this warning, use `np.compat.long` by itself. In the likely event your code does not need to work on Python 2 you can use the builtin `int` for which `np.compat.long` is itself an alias. Doing this will not modify any behaviour and is safe. When replacing `np.long`, you may wish to use e.g. `np.int64` or `np.int32` to specify the precision. If you wish to review your current use, check the release note link for additional information.\n",
            "Deprecated in NumPy 1.20; for more details and guidance: https://numpy.org/devdocs/release/1.20.0-notes.html#deprecations\n",
            "  long_ = _make_signed(np.long)\n",
            "/usr/local/lib/python3.7/dist-packages/numba/core/types/__init__.py:109: DeprecationWarning: `np.long` is a deprecated alias for `np.compat.long`. To silence this warning, use `np.compat.long` by itself. In the likely event your code does not need to work on Python 2 you can use the builtin `int` for which `np.compat.long` is itself an alias. Doing this will not modify any behaviour and is safe. When replacing `np.long`, you may wish to use e.g. `np.int64` or `np.int32` to specify the precision. If you wish to review your current use, check the release note link for additional information.\n",
            "Deprecated in NumPy 1.20; for more details and guidance: https://numpy.org/devdocs/release/1.20.0-notes.html#deprecations\n",
            "  ulong = _make_unsigned(np.long)\n",
            "/usr/local/lib/python3.7/dist-packages/numba/np/ufunc/parallel.py:363: NumbaWarning: The TBB threading layer requires TBB version 2019.5 or later i.e., TBB_INTERFACE_VERSION >= 11005. Found TBB_INTERFACE_VERSION = 9107. The TBB threading layer is disabled.\n",
            "  warnings.warn(problem)\n",
            "/content/PaddleSeg/paddleseg/cvlibs/manager.py:114: UserWarning: ResNet18_vd exists already! It is now updated to <function ResNet18_vd at 0x7fc9234487a0> !!!\n",
            "  format(component_name, component))\n",
            "/content/PaddleSeg/paddleseg/cvlibs/manager.py:114: UserWarning: ResNet50_vd exists already! It is now updated to <function ResNet50_vd at 0x7fc923454200> !!!\n",
            "  format(component_name, component))\n",
            "/content/PaddleSeg/paddleseg/cvlibs/manager.py:114: UserWarning: ResNet101_vd exists already! It is now updated to <function ResNet101_vd at 0x7fc923454320> !!!\n",
            "  format(component_name, component))\n",
            "/content/PaddleSeg/paddleseg/cvlibs/manager.py:114: UserWarning: MobileNetV2 exists already! It is now updated to <function MobileNetV2 at 0x7fc923448cb0> !!!\n",
            "  format(component_name, component))\n",
            "/content/PaddleSeg/paddleseg/cvlibs/manager.py:114: UserWarning: HRNet_W18_Small_V1 exists already! It is now updated to <function HRNet_W18_Small_V1 at 0x7fc9234549e0> !!!\n",
            "  format(component_name, component))\n",
            "/content/PaddleSeg/paddleseg/cvlibs/manager.py:114: UserWarning: HRNet_W18_Small_V2 exists already! It is now updated to <function HRNet_W18_Small_V2 at 0x7fc923465440> !!!\n",
            "  format(component_name, component))\n",
            "/content/PaddleSeg/paddleseg/cvlibs/manager.py:114: UserWarning: HRNet_W18 exists already! It is now updated to <function HRNet_W18 at 0x7fc9234654d0> !!!\n",
            "  format(component_name, component))\n",
            "/content/PaddleSeg/paddleseg/cvlibs/manager.py:114: UserWarning: HRNet_W30 exists already! It is now updated to <function HRNet_W30 at 0x7fc9234655f0> !!!\n",
            "  format(component_name, component))\n",
            "/content/PaddleSeg/paddleseg/cvlibs/manager.py:114: UserWarning: HRNet_W32 exists already! It is now updated to <function HRNet_W32 at 0x7fc923465710> !!!\n",
            "  format(component_name, component))\n",
            "/content/PaddleSeg/paddleseg/cvlibs/manager.py:114: UserWarning: HRNet_W40 exists already! It is now updated to <function HRNet_W40 at 0x7fc923465830> !!!\n",
            "  format(component_name, component))\n",
            "/content/PaddleSeg/paddleseg/cvlibs/manager.py:114: UserWarning: HRNet_W44 exists already! It is now updated to <function HRNet_W44 at 0x7fc923465950> !!!\n",
            "  format(component_name, component))\n",
            "/content/PaddleSeg/paddleseg/cvlibs/manager.py:114: UserWarning: HRNet_W48 exists already! It is now updated to <function HRNet_W48 at 0x7fc923465a70> !!!\n",
            "  format(component_name, component))\n",
            "/content/PaddleSeg/paddleseg/cvlibs/manager.py:114: UserWarning: HRNet_W60 exists already! It is now updated to <function HRNet_W60 at 0x7fc923465b90> !!!\n",
            "  format(component_name, component))\n",
            "/content/PaddleSeg/paddleseg/cvlibs/manager.py:114: UserWarning: HRNet_W64 exists already! It is now updated to <function HRNet_W64 at 0x7fc923465cb0> !!!\n",
            "  format(component_name, component))\n",
            "/content/PaddleSeg/paddleseg/cvlibs/manager.py:114: UserWarning: Compose exists already! It is now updated to <class 'transforms.Compose'> !!!\n",
            "  format(component_name, component))\n",
            "/content/PaddleSeg/paddleseg/cvlibs/manager.py:114: UserWarning: Resize exists already! It is now updated to <class 'transforms.Resize'> !!!\n",
            "  format(component_name, component))\n",
            "/content/PaddleSeg/paddleseg/cvlibs/manager.py:114: UserWarning: ResizeByLong exists already! It is now updated to <class 'transforms.ResizeByLong'> !!!\n",
            "  format(component_name, component))\n",
            "/content/PaddleSeg/paddleseg/cvlibs/manager.py:114: UserWarning: ResizeByShort exists already! It is now updated to <class 'transforms.ResizeByShort'> !!!\n",
            "  format(component_name, component))\n",
            "/content/PaddleSeg/paddleseg/cvlibs/manager.py:114: UserWarning: Normalize exists already! It is now updated to <class 'transforms.Normalize'> !!!\n",
            "  format(component_name, component))\n",
            "/content/PaddleSeg/paddleseg/cvlibs/manager.py:114: UserWarning: LimitLong exists already! It is now updated to <class 'transforms.LimitLong'> !!!\n",
            "  format(component_name, component))\n",
            "/content/PaddleSeg/paddleseg/cvlibs/manager.py:114: UserWarning: RandomHorizontalFlip exists already! It is now updated to <class 'transforms.RandomHorizontalFlip'> !!!\n",
            "  format(component_name, component))\n",
            "/content/PaddleSeg/paddleseg/cvlibs/manager.py:114: UserWarning: RandomBlur exists already! It is now updated to <class 'transforms.RandomBlur'> !!!\n",
            "  format(component_name, component))\n",
            "/content/PaddleSeg/paddleseg/cvlibs/manager.py:114: UserWarning: RandomDistort exists already! It is now updated to <class 'transforms.RandomDistort'> !!!\n",
            "  format(component_name, component))\n",
            "/content/PaddleSeg/paddleseg/cvlibs/manager.py:114: UserWarning: Padding exists already! It is now updated to <class 'transforms.Padding'> !!!\n",
            "  format(component_name, component))\n",
            "/content/PaddleSeg/paddleseg/cvlibs/manager.py:114: UserWarning: RandomNoise exists already! It is now updated to <class 'transforms.RandomNoise'> !!!\n",
            "  format(component_name, component))\n",
            "2022-05-02 16:15:40 [INFO]\t\n",
            "---------------Config Information---------------\n",
            "batch_size: 4\n",
            "iters: 50000\n",
            "lr_scheduler:\n",
            "  boundaries:\n",
            "  - 30000\n",
            "  - 40000\n",
            "  type: PiecewiseDecay\n",
            "  values:\n",
            "  - 0.001\n",
            "  - 0.0001\n",
            "  - 1.0e-05\n",
            "model:\n",
            "  backbone:\n",
            "    pretrained: https://paddleseg.bj.bcebos.com/matting/models/ResNet34_vd_pretrained/model.pdparams\n",
            "    type: ResNet34_vd\n",
            "  if_refine: true\n",
            "  pretrained: null\n",
            "  type: HumanMatting\n",
            "optimizer:\n",
            "  momentum: 0.9\n",
            "  type: sgd\n",
            "  weight_decay: 4.0e-05\n",
            "train_dataset:\n",
            "  dataset_root: data/PPM-100\n",
            "  mode: train\n",
            "  train_file: train.txt\n",
            "  transforms:\n",
            "  - type: LoadImages\n",
            "  - scale:\n",
            "    - 0.3\n",
            "    - 1.5\n",
            "    size:\n",
            "    - 2048\n",
            "    - 2048\n",
            "    type: RandomResize\n",
            "  - crop_size:\n",
            "    - 2048\n",
            "    - 2048\n",
            "    type: RandomCrop\n",
            "  - type: RandomDistort\n",
            "  - prob: 0.1\n",
            "    type: RandomBlur\n",
            "  - type: RandomHorizontalFlip\n",
            "  - target_size:\n",
            "    - 2048\n",
            "    - 2048\n",
            "    type: Padding\n",
            "  - type: Normalize\n",
            "  type: MattingDataset\n",
            "val_dataset:\n",
            "  dataset_root: data/PPM-100\n",
            "  get_trimap: false\n",
            "  mode: val\n",
            "  transforms:\n",
            "  - type: LoadImages\n",
            "  - short_size: 2048\n",
            "    type: ResizeByShort\n",
            "  - mult_int: 128\n",
            "    type: ResizeToIntMult\n",
            "  - type: Normalize\n",
            "  type: MattingDataset\n",
            "  val_file: val.txt\n",
            "------------------------------------------------\n",
            "/content/PaddleSeg/paddleseg/cvlibs/config.py:332: UserWarning: `dataset_root` is not found. Is it correct?\n",
            "  warnings.warn(\"`dataset_root` is not found. Is it correct?\")\n",
            "2022-05-02 16:15:41 [INFO]\tLoading pretrained model from https://paddleseg.bj.bcebos.com/matting/models/ResNet34_vd_pretrained/model.pdparams\n",
            "2022-05-02 16:15:42 [INFO]\tThere are 195/195 variables loaded into ResNet_vd.\n",
            "2022-05-02 16:15:44 [INFO]\tNumber of predict images = 50\n",
            "2022-05-02 16:15:44 [INFO]\tLoading pretrained model from data/model/human_matting.pdparams\n",
            "2022-05-02 16:15:45 [INFO]\tThere are 486/486 variables loaded into HumanMatting.\n",
            "2022-05-02 16:15:45 [INFO]\tStart to predict...\n",
            "tcmalloc: large alloc 2222702592 bytes == 0x7b610000 @  0x7fc95b94bb6b 0x7fc95b96b379 0x7fc94ee97d8c 0x7fc94ee99967 0x7fc94ee8faa3 0x7fc94ee90700 0x7fc94ee82b91 0x7fc94ee838f8 0x7fc94ee7bbdb 0x7fc94ee7b4fc 0x7fc94b50ce40 0x7fc94cbdd8dc 0x7fc94cbf04ff 0x7fc94cbf0f40 0x7fc94ec32deb 0x7fc94ec3331d 0x7fc94b4b825d 0x7fc94b4c255b 0x7fc94b4c3050 0x7fc94b21bc0d 0x517553 0x549576 0x593fce 0x548ae9 0x5127f1 0x4bc98a 0x59c019 0x595ef6 0x5134a6 0x549576 0x4bcb19\n",
            "tcmalloc: large alloc 1363386368 bytes == 0x94be8000 @  0x7fc95b94bb6b 0x7fc95b96b379 0x7fc94ee97d8c 0x7fc94ee99967 0x7fc94ee8faa3 0x7fc94ee90700 0x7fc94ee82b91 0x7fc94ee838f8 0x7fc94ee7bbdb 0x7fc94ee7b4fc 0x7fc94b50ce40 0x7fc94cbdd8dc 0x7fc94cbf04ff 0x7fc94cbf0f40 0x7fc94ec32deb 0x7fc94ec3331d 0x7fc94b4b825d 0x7fc94b4c255b 0x7fc94b4c3050 0x7fc94b21bc0d 0x517553 0x549576 0x593fce 0x548ae9 0x5127f1 0x4bc98a 0x59c019 0x595ef6 0x5134a6 0x549576 0x4bcb19\n",
            "tcmalloc: large alloc 4310368256 bytes == 0xb1566000 @  0x7fc95b94bb6b 0x7fc95b96b379 0x7fc94ee97d8c 0x7fc94ee99967 0x7fc94ee8faa3 0x7fc94ee90700 0x7fc94ee82b91 0x7fc94ee838f8 0x7fc94ee7bbdb 0x7fc94ee7b4fc 0x7fc94b50ce40 0x7fc94cbdd8dc 0x7fc94cbf04ff 0x7fc94cbf0f40 0x7fc94ec32deb 0x7fc94ec3331d 0x7fc94b4b825d 0x7fc94b4c255b 0x7fc94b4c3050 0x7fc94b21bc0d 0x517553 0x549576 0x593fce 0x548ae9 0x5127f1 0x4bc98a 0x59c019 0x595ef6 0x5134a6 0x549576 0x4bcb19\n",
            "tcmalloc: large alloc 2717917184 bytes == 0xcab3e000 @  0x7fc95b94bb6b 0x7fc95b96b379 0x7fc94ee97d8c 0x7fc94ee99967 0x7fc94ee8faa3 0x7fc94ee90700 0x7fc94ee82b91 0x7fc94ee838f8 0x7fc94ee7bbdb 0x7fc94ee7b4fc 0x7fc94b50ce40 0x7fc94cbdd8dc 0x7fc94cbf04ff 0x7fc94cbf0f40 0x7fc94ec32deb 0x7fc94ec3331d 0x7fc94b4b825d 0x7fc94b4c255b 0x7fc94b4c3050 0x7fc94b21bc0d 0x517553 0x549576 0x593fce 0x548ae9 0x5127f1 0x4bc98a 0x59c019 0x595ef6 0x5134a6 0x549576 0x4bcb19\n",
            " 1/50 [..............................] - ETA: 25:57 - preprocess_cost: 2.5789 - infer_cost cost: 24.4874 - postprocess_cost: 4.7157tcmalloc: large alloc 2222702592 bytes == 0xcab3e000 @  0x7fc95b94bb6b 0x7fc95b96b379 0x7fc94ee97d8c 0x7fc94ee99967 0x7fc94ee8faa3 0x7fc94ee90700 0x7fc94ee82b91 0x7fc94ee838f8 0x7fc94ee7bbdb 0x7fc94ee7b4fc 0x7fc94b50ce40 0x7fc94cbdd8dc 0x7fc94cbf04ff 0x7fc94cbf0f40 0x7fc94ec32deb 0x7fc94ec3331d 0x7fc94b4b825d 0x7fc94b4c255b 0x7fc94b4c3050 0x7fc94b21bc0d 0x517553 0x549576 0x593fce 0x548ae9 0x5127f1 0x4bc98a 0x59c019 0x595ef6 0x5134a6 0x549576 0x4bcb19\n",
            "tcmalloc: large alloc 4310368256 bytes == 0xcab3e000 @  0x7fc95b94bb6b 0x7fc95b96b379 0x7fc94ee97d8c 0x7fc94ee99967 0x7fc94ee8faa3 0x7fc94ee90700 0x7fc94ee82b91 0x7fc94ee838f8 0x7fc94ee7bbdb 0x7fc94ee7b4fc 0x7fc94b50ce40 0x7fc94cbdd8dc 0x7fc94cbf04ff 0x7fc94cbf0f40 0x7fc94ec32deb 0x7fc94ec3331d 0x7fc94b4b825d 0x7fc94b4c255b 0x7fc94b4c3050 0x7fc94b21bc0d 0x517553 0x549576 0x593fce 0x548ae9 0x5127f1 0x4bc98a 0x59c019 0x595ef6 0x5134a6 0x549576 0x4bcb19\n",
            "tcmalloc: large alloc 2717917184 bytes == 0xcab3e000 @  0x7fc95b94bb6b 0x7fc95b96b379 0x7fc94ee97d8c 0x7fc94ee99967 0x7fc94ee8faa3 0x7fc94ee90700 0x7fc94ee82b91 0x7fc94ee838f8 0x7fc94ee7bbdb 0x7fc94ee7b4fc 0x7fc94b50ce40 0x7fc94cbdd8dc 0x7fc94cbf04ff 0x7fc94cbf0f40 0x7fc94ec32deb 0x7fc94ec3331d 0x7fc94b4b825d 0x7fc94b4c255b 0x7fc94b4c3050 0x7fc94b21bc0d 0x517553 0x549576 0x593fce 0x548ae9 0x5127f1 0x4bc98a 0x59c019 0x595ef6 0x5134a6 0x549576 0x4bcb19\n",
            " 2/50 [>.............................] - ETA: 25:22 - preprocess_cost: 3.1851 - infer_cost cost: 23.0523 - postprocess_cost: 5.4738tcmalloc: large alloc 4310368256 bytes == 0xcab3e000 @  0x7fc95b94bb6b 0x7fc95b96b379 0x7fc94ee97d8c 0x7fc94ee99967 0x7fc94ee8faa3 0x7fc94ee90700 0x7fc94ee82b91 0x7fc94ee838f8 0x7fc94ee7bbdb 0x7fc94ee7b4fc 0x7fc94b50ce40 0x7fc94cbdd8dc 0x7fc94cbf04ff 0x7fc94cbf0f40 0x7fc94ec32deb 0x7fc94ec3331d 0x7fc94b4b825d 0x7fc94b4c255b 0x7fc94b4c3050 0x7fc94b21bc0d 0x517553 0x549576 0x593fce 0x548ae9 0x5127f1 0x4bc98a 0x59c019 0x595ef6 0x5134a6 0x549576 0x4bcb19\n",
            " 3/50 [>.............................] - ETA: 24:02 - preprocess_cost: 2.9149 - infer_cost cost: 22.6540 - postprocess_cost: 5.1116tcmalloc: large alloc 4310368256 bytes == 0xcab3e000 @  0x7fc95b94bb6b 0x7fc95b96b379 0x7fc94ee97d8c 0x7fc94ee99967 0x7fc94ee8faa3 0x7fc94ee90700 0x7fc94ee82b91 0x7fc94ee838f8 0x7fc94ee7bbdb 0x7fc94ee7b4fc 0x7fc94b50ce40 0x7fc94cbdd8dc 0x7fc94cbf04ff 0x7fc94cbf0f40 0x7fc94ec32deb 0x7fc94ec3331d 0x7fc94b4b825d 0x7fc94b4c255b 0x7fc94b4c3050 0x7fc94b21bc0d 0x517553 0x549576 0x593fce 0x548ae9 0x5127f1 0x4bc98a 0x59c019 0x595ef6 0x5134a6 0x549576 0x4bcb19\n",
            " 4/50 [=>............................] - ETA: 22:55 - preprocess_cost: 2.7713 - infer_cost cost: 22.3894 - postprocess_cost: 4.7472tcmalloc: large alloc 4310368256 bytes == 0xcab3e000 @  0x7fc95b94bb6b 0x7fc95b96b379 0x7fc94ee97d8c 0x7fc94ee99967 0x7fc94ee8faa3 0x7fc94ee90700 0x7fc94ee82b91 0x7fc94ee838f8 0x7fc94ee7bbdb 0x7fc94ee7b4fc 0x7fc94b50ce40 0x7fc94cbdd8dc 0x7fc94cbf04ff 0x7fc94cbf0f40 0x7fc94ec32deb 0x7fc94ec3331d 0x7fc94b4b825d 0x7fc94b4c255b 0x7fc94b4c3050 0x7fc94b21bc0d 0x517553 0x549576 0x593fce 0x548ae9 0x5127f1 0x4bc98a 0x59c019 0x595ef6 0x5134a6 0x549576 0x4bcb19\n",
            " 5/50 [==>...........................] - ETA: 22:42 - preprocess_cost: 3.2188 - infer_cost cost: 22.3146 - postprocess_cost: 4.7537tcmalloc: large alloc 4310368256 bytes == 0xcab3e000 @  0x7fc95b94bb6b 0x7fc95b96b379 0x7fc94ee97d8c 0x7fc94ee99967 0x7fc94ee8faa3 0x7fc94ee90700 0x7fc94ee82b91 0x7fc94ee838f8 0x7fc94ee7bbdb 0x7fc94ee7b4fc 0x7fc94b50ce40 0x7fc94cbdd8dc 0x7fc94cbf04ff 0x7fc94cbf0f40 0x7fc94ec32deb 0x7fc94ec3331d 0x7fc94b4b825d 0x7fc94b4c255b 0x7fc94b4c3050 0x7fc94b21bc0d 0x517553 0x549576 0x593fce 0x548ae9 0x5127f1 0x4bc98a 0x59c019 0x595ef6 0x5134a6 0x549576 0x4bcb19\n",
            " 6/50 [==>...........................] - ETA: 22:05 - preprocess_cost: 3.0808 - infer_cost cost: 22.3701 - postprocess_cost: 4.6784tcmalloc: large alloc 4310368256 bytes == 0xcab3e000 @  0x7fc95b94bb6b 0x7fc95b96b379 0x7fc94ee97d8c 0x7fc94ee99967 0x7fc94ee8faa3 0x7fc94ee90700 0x7fc94ee82b91 0x7fc94ee838f8 0x7fc94ee7bbdb 0x7fc94ee7b4fc 0x7fc94b50ce40 0x7fc94cbdd8dc 0x7fc94cbf04ff 0x7fc94cbf0f40 0x7fc94ec32deb 0x7fc94ec3331d 0x7fc94b4b825d 0x7fc94b4c255b 0x7fc94b4c3050 0x7fc94b21bc0d 0x517553 0x549576 0x593fce 0x548ae9 0x5127f1 0x4bc98a 0x59c019 0x595ef6 0x5134a6 0x549576 0x4bcb19\n",
            "27/50 [===============>..............] - ETA: 11:41 - preprocess_cost: 3.3302 - infer_cost cost: 21.7081 - postprocess_cost: 5.4705"
          ]
        }
      ]
    },
    {
      "cell_type": "code",
      "source": [
        ""
      ],
      "metadata": {
        "id": "qg9GS84cjCcy"
      },
      "execution_count": null,
      "outputs": []
    }
  ]
}