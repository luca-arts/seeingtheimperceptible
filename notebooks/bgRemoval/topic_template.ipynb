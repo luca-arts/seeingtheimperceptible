{
  "cells": [
    {
      "cell_type": "markdown",
      "metadata": {
        "id": "GMFQ8h6pY_iy"
      },
      "source": [
        "# template title\n",
        "\n",
        "<a href=\"https://colab.research.google.com/github/luca-arts/seeingtheimperceptible/blob/main/notebooks/template/topic_template.ipynb\" target=\"_parent\"><img src=\"https://colab.research.google.com/assets/colab-badge.svg\" alt=\"Open In Colab\"/></a>\n",
        "\n",
        "In this notebook we'll line up the succesful libraries we we're able to test."
      ]
    },
    {
      "cell_type": "code",
      "execution_count": null,
      "metadata": {},
      "outputs": [],
      "source": [
        "# we'll link the dataset from next-cloud\n",
        "import os\n",
        "!apt install -y davfs2  > /dev/null\n",
        "\n",
        "nextcloud = \"/content/nextcloud\"\n",
        "Nextcloud_URL = \"https://cloud.bxlab.net/remote.php/dav/files/colab/\" #@param {type:\"string\"}\n",
        "\n",
        "os.makedirs(nextcloud, exist_ok=True)\n",
        "\n",
        "\n",
        "if os.path.isfile(\"/etc/fstab\"):\n",
        "  os.remove(\"/etc/fstab\")\n",
        "with open(\"/etc/fstab\" , \"a\") as f:\n",
        "  f.write(Nextcloud_URL + \" \" + nextcloud + \" davfs user,rw,auto 0 0\")\n",
        "!mount {nextcloud}\n",
        "\n",
        "# open existing text file\n",
        "txt = \"/etc/fstab\"\n",
        "viewTxt = open(txt, \"r\")\n",
        "txtContent = viewTxt.read()\n",
        "print(\"txtContent: {}\".format(txtContent))"
      ]
    },
    {
      "cell_type": "markdown",
      "metadata": {},
      "source": [
        "## library 1\n",
        "\n",
        "### context\n",
        "\n",
        "Where in the process of optimizing our flow is this library situated or could this be of use?\n",
        "\n",
        "### expected result\n",
        "\n",
        "What are we expecting to get from this? \n",
        "\n",
        "### result\n",
        "\n",
        "What is the expected result, in terms of quality, speed, what needs to be improved etc. \n",
        "\n",
        "How well-maintained is the library?\n",
        "\n",
        "### gaps \n",
        "\n",
        "what do we see as additional musts to answer the research question?"
      ]
    },
    {
      "cell_type": "code",
      "execution_count": null,
      "metadata": {},
      "outputs": [],
      "source": [
        "#specify the imports necessary for this library\n",
        "#try to add them in environment.yml WITH library version!\n",
        "import os"
      ]
    },
    {
      "cell_type": "code",
      "execution_count": null,
      "metadata": {},
      "outputs": [],
      "source": [
        "#use the library"
      ]
    }
  ],
  "metadata": {
    "colab": {
      "authorship_tag": "ABX9TyO9YfphDP3mVXuZzcuFzrWl",
      "include_colab_link": true,
      "name": "topic_template.ipynb",
      "provenance": []
    },
    "kernelspec": {
      "display_name": "Python 3",
      "name": "python3"
    },
    "language_info": {
      "name": "python"
    }
  },
  "nbformat": 4,
  "nbformat_minor": 0
}
