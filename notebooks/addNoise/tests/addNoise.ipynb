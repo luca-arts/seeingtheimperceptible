{
  "nbformat": 4,
  "nbformat_minor": 0,
  "metadata": {
    "colab": {
      "name": "addNoise.ipynb",
      "provenance": [],
      "authorship_tag": "ABX9TyP4Oiz98r89vpMujQljMPoP",
      "include_colab_link": true
    },
    "kernelspec": {
      "name": "python3",
      "display_name": "Python 3"
    },
    "language_info": {
      "name": "python"
    }
  },
  "cells": [
    {
      "cell_type": "markdown",
      "metadata": {
        "id": "view-in-github",
        "colab_type": "text"
      },
      "source": [
        "<a href=\"https://colab.research.google.com/github/luca-arts/seeingtheimperceptible/blob/main/notebooks/addNoise/tests/addNoise.ipynb\" target=\"_parent\"><img src=\"https://colab.research.google.com/assets/colab-badge.svg\" alt=\"Open In Colab\"/></a>"
      ]
    },
    {
      "cell_type": "markdown",
      "source": [
        "## Adding Different Noise Types.\n",
        "\n",
        "[GitHub](https://github.com/xieKKKi/image_noise_denoise)\n",
        "\n",
        "- Gaussian Noise\n",
        "- Rayleigh Noise\n",
        "- Gamma Noise\n",
        "- Exponent Noise\n",
        "- Average Noise\n",
        "- Salt & Pepper Noise (not the best one)\n"
      ],
      "metadata": {
        "id": "Za73brGCN8eB"
      }
    },
    {
      "cell_type": "markdown",
      "source": [
        "## 1. Preparations\n",
        "\n",
        "Before start, make sure that you choose\n",
        "\n",
        "Runtime Type = Python 3\n",
        "Hardware Accelerator = GPU"
      ],
      "metadata": {
        "id": "phboB-EpOOU6"
      }
    },
    {
      "cell_type": "code",
      "source": [
        "!nvidia-smi"
      ],
      "metadata": {
        "id": "bj8EsXN9OO9H"
      },
      "execution_count": null,
      "outputs": []
    },
    {
      "cell_type": "markdown",
      "source": [
        "## 2. linking nextcloud\n",
        "\n",
        "Connecting to the external NextCloud drive "
      ],
      "metadata": {
        "id": "CaNQB_ICPG6p"
      }
    },
    {
      "cell_type": "code",
      "source": [
        "# we'll link the dataset from next-cloud\n",
        "!curl https://raw.githubusercontent.com/luca-arts/seeingtheimperceptible/main/notebooks/database_mod.py -o /content/database_mod.py\n",
        "\n",
        "from database_mod import *\n",
        "\n",
        "link_nextcloud()\n",
        "\n",
        "nextcloud = '/content/database/'\n",
        "\n",
        "input_folder, output_folder = create_io(database=nextcloud,topic='addNoise',library='addNoise')"
      ],
      "metadata": {
        "id": "PUsVHZOiPHYv"
      },
      "execution_count": null,
      "outputs": []
    },
    {
      "cell_type": "markdown",
      "source": [
        "## 3. clone GIT repo"
      ],
      "metadata": {
        "id": "VhsIfTrPPfXD"
      }
    },
    {
      "cell_type": "code",
      "source": [
        "import os\n",
        "root_path = '/content/addNoise'\n",
        "\n",
        "# clone the repository\n",
        "if not os.path.exists(root_path):\n",
        "  !git clone https://github.com/xieKKKi/image_noise_denoise {root_path}\n",
        "\n",
        "%ls"
      ],
      "metadata": {
        "id": "Rizxp8YNPghk"
      },
      "execution_count": null,
      "outputs": []
    },
    {
      "cell_type": "markdown",
      "source": [
        "## 4. Setting up the different Noise functions"
      ],
      "metadata": {
        "id": "Q4H8k4zbKpUq"
      }
    },
    {
      "cell_type": "code",
      "execution_count": null,
      "metadata": {
        "id": "5ZaRiJRbKnHg"
      },
      "outputs": [],
      "source": [
        "# init\n",
        "import cv2\n",
        "import numpy as np\n",
        "import os\n",
        "\n",
        "# functions for different noise-types\n",
        "def normalize(mask):\n",
        "    return (mask - mask.min()) / (mask.max() - mask.min())\n",
        "\n",
        "\n",
        "def add_gaussian_noise(img, mu=0, sigma=0.1):\n",
        "    image = np.array(img, dtype=float)\n",
        "    noise = np.random.normal(mu, sigma, image.shape)\n",
        "    image_out = image + noise\n",
        "    image_out = np.uint8(normalize(image_out) * 255)\n",
        "    return image_out\n",
        "\n",
        "\n",
        "def add_rayleigh_noise(img, a=15):\n",
        "    image = np.array(img, dtype=float)\n",
        "    noise = np.random.rayleigh(a, size=image.shape)\n",
        "    image_out = image + noise\n",
        "    image_out = np.uint8(normalize(image_out) * 255)\n",
        "    return image_out\n",
        "\n",
        "\n",
        "def add_gamma_noise(img, scale=1):\n",
        "    image = np.array(img, dtype=float)\n",
        "    noise = np.random.gamma(shape=1, scale=scale, size=image.shape)\n",
        "    image_out = image + noise\n",
        "    image_out = np.uint8(normalize(image_out) * 255)\n",
        "    return image_out\n",
        "\n",
        "\n",
        "def add_exponent_noise(img, scale=1.0):\n",
        "    image = np.array(img, dtype=float)\n",
        "    noise = np.random.exponential(scale=scale, size=image.shape)\n",
        "    image_out = image + noise\n",
        "    image_out = np.uint8(normalize(image_out) * 255)\n",
        "    return image_out\n",
        "\n",
        "\n",
        "def add_average_noise(img, mean=0, sigma=100):\n",
        "    image = np.array(img, dtype=float)\n",
        "    a = 2 * mean - np.sqrt(12 * sigma)\n",
        "    b = 2 * mean + np.sqrt(12 * sigma)\n",
        "    noise = np.random.uniform(a, b, image.shape)\n",
        "    image_out = image + noise\n",
        "    image_out = np.uint8(normalize(image_out) * 255)\n",
        "    return image_out\n",
        "\n",
        "\n",
        "def add_salt_pepper(img, ps=0.01, pp=0.01):\n",
        "    h, w = img.shape[:2]\n",
        "    mask = np.random.choice((0, 0.5, 1), size=(h, w), p=[pp, (1 - ps - pp), ps])\n",
        "    img_out = img.copy()\n",
        "    img_out[mask == 1] = 255\n",
        "    img_out[mask == 0] = 0\n",
        "    return img_out\n"
      ]
    },
    {
      "cell_type": "markdown",
      "source": [
        "# 5. Run the code"
      ],
      "metadata": {
        "id": "yk7IaUolQFKT"
      }
    },
    {
      "cell_type": "code",
      "source": [
        "# defining the paths\n",
        "imgPath = \"./origin.png\"\n",
        "noiseImgPath = './result/noiseImg/'\n",
        "denoiseImgPath = './result/denoiseImg/'\n",
        "\n",
        "# run code\n",
        "if __name__ == \"__main__\":\n",
        "    img = cv2.imread(imgPath)\n",
        "    if not os.path.exists(noiseImgPath):\n",
        "        os.makedirs(noiseImgPath)\n",
        "    if not os.path.exists(denoiseImgPath):\n",
        "        os.makedirs(denoiseImgPath)\n",
        "\n",
        "    gauss_noiseImg = add_gaussian_noise(img, 0, 10)\n",
        "    salt_pepper_noiseImg = add_salt_pepper(img, 0.01, 0.01)\n",
        "    rayleigh_noiseImg = add_rayleigh_noise(img, 15)\n",
        "    gamma_noiseImg = add_gamma_noise(img, 10)\n",
        "    exponent_noiseImg = add_exponent_noise(img, 10)\n",
        "    average_noiseImg = add_average_noise(img, 0, 50)\n",
        "    cv2.imwrite(noiseImgPath + 'gauss_noiseImg.jpg', gauss_noiseImg)\n",
        "    cv2.imwrite(noiseImgPath + 'salt_pepper_noiseImg.jpg', salt_pepper_noiseImg)\n",
        "    cv2.imwrite(noiseImgPath + 'rayleigh_noiseImg.jpg', rayleigh_noiseImg)\n",
        "    cv2.imwrite(noiseImgPath + 'gamma_noiseImg.jpg', gamma_noiseImg)\n",
        "    cv2.imwrite(noiseImgPath + 'exponent_noiseImg.jpg', exponent_noiseImg)\n",
        "    cv2.imwrite(noiseImgPath + 'average_noiseImg.jpg', average_noiseImg)\n",
        "\n",
        "    denoise_method = ['meanBlur', 'boxFilter', 'GaussianBlur', 'medianBlur', 'NonLocalMeans']\n",
        "    for method in denoise_method:\n",
        "        if method == 'meanBlur':\n",
        "            gauss_denoiseImg = cv2.blur(gauss_noiseImg, (5, 5))\n",
        "            salt_pepper_denoiseImg = cv2.blur(salt_pepper_noiseImg, (5, 5))\n",
        "            rayleigh_denoiseImg = cv2.blur(rayleigh_noiseImg, (5, 5))\n",
        "            gamma_denoiseImg = cv2.blur(gamma_noiseImg, (5, 5))\n",
        "            exponent_denoiseImg = cv2.blur(exponent_noiseImg, (5, 5))\n",
        "            average_denoiseImg = cv2.blur(average_noiseImg, (5, 5))\n",
        "        elif method == 'boxFilter':\n",
        "            gauss_denoiseImg = cv2.boxFilter(gauss_noiseImg, -1, (5, 5), normalize=1)\n",
        "            salt_pepper_denoiseImg = cv2.boxFilter(salt_pepper_noiseImg, -1, (5, 5), normalize=1)\n",
        "            rayleigh_denoiseImg = cv2.boxFilter(rayleigh_noiseImg, -1, (5, 5), normalize=1)\n",
        "            gamma_denoiseImg = cv2.boxFilter(gamma_noiseImg, -1, (5, 5), normalize=1)\n",
        "            exponent_denoiseImg = cv2.boxFilter(exponent_noiseImg, -1, (5, 5), normalize=1)\n",
        "            average_denoiseImg = cv2.boxFilter(average_noiseImg, -1, (5, 5), normalize=1)\n",
        "        elif method == 'GaussianBlur':\n",
        "            gauss_denoiseImg = cv2.GaussianBlur(gauss_noiseImg, (5, 5), 0)\n",
        "            salt_pepper_denoiseImg = cv2.GaussianBlur(salt_pepper_noiseImg, (5, 5), 0)\n",
        "            rayleigh_denoiseImg = cv2.GaussianBlur(rayleigh_noiseImg, (5, 5), 0)\n",
        "            gamma_denoiseImg = cv2.GaussianBlur(gamma_noiseImg, (5, 5), 0)\n",
        "            exponent_denoiseImg = cv2.GaussianBlur(exponent_noiseImg, (5, 5), 0)\n",
        "            average_denoiseImg = cv2.GaussianBlur(average_noiseImg, (5, 5), 0)\n",
        "        elif method == 'medianBlur':\n",
        "            gauss_denoiseImg = cv2.medianBlur(gauss_noiseImg, 5)\n",
        "            salt_pepper_denoiseImg = cv2.medianBlur(salt_pepper_noiseImg, 5)\n",
        "            rayleigh_denoiseImg = cv2.medianBlur(rayleigh_noiseImg, 5)\n",
        "            gamma_denoiseImg = cv2.medianBlur(gamma_noiseImg, 5)\n",
        "            exponent_denoiseImg = cv2.medianBlur(exponent_noiseImg, 5)\n",
        "            average_denoiseImg = cv2.medianBlur(average_noiseImg, 5)\n",
        "        # elif method == 'Non-Local Means':\n",
        "        else:\n",
        "            gauss_denoiseImg = cv2.fastNlMeansDenoisingColored(gauss_noiseImg)\n",
        "            salt_pepper_denoiseImg = cv2.fastNlMeansDenoisingColored(salt_pepper_noiseImg)\n",
        "            rayleigh_denoiseImg = cv2.fastNlMeansDenoisingColored(rayleigh_noiseImg)\n",
        "            gamma_denoiseImg = cv2.fastNlMeansDenoisingColored(gamma_noiseImg)\n",
        "            exponent_denoiseImg = cv2.fastNlMeansDenoisingColored(exponent_noiseImg)\n",
        "            average_denoiseImg = cv2.fastNlMeansDenoisingColored(average_noiseImg)\n",
        "        cv2.imwrite(denoiseImgPath + method + '_' + 'gauss_denoiseImg.jpg', gauss_denoiseImg)\n",
        "        cv2.imwrite(denoiseImgPath + method + '_' + 'salt_pepper_denoiseImg.jpg', salt_pepper_denoiseImg)\n",
        "        cv2.imwrite(denoiseImgPath + method + '_' + 'rayleigh_denoiseImg.jpg', rayleigh_denoiseImg)\n",
        "        cv2.imwrite(denoiseImgPath + method + '_' + 'gamma_denoiseImg.jpg', gamma_denoiseImg)\n",
        "        cv2.imwrite(denoiseImgPath + method + '_' + 'exponent_denoiseImg.jpg', exponent_denoiseImg)\n",
        "        cv2.imwrite(denoiseImgPath + method + '_' + 'average_denoiseImg.jpg', average_denoiseImg)"
      ],
      "metadata": {
        "id": "VEirSqcHQKrf"
      },
      "execution_count": null,
      "outputs": []
    }
  ]
}