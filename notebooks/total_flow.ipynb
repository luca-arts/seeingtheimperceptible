{
  "nbformat": 4,
  "nbformat_minor": 0,
  "metadata": {
    "colab": {
      "name": "Untitled12.ipynb",
      "provenance": [],
      "collapsed_sections": [],
      "authorship_tag": "ABX9TyO0iMzwBwwG+cTtUWK1KJta",
      "include_colab_link": true
    },
    "kernelspec": {
      "name": "python3",
      "display_name": "Python 3"
    },
    "language_info": {
      "name": "python"
    }
  },
  "cells": [
    {
      "cell_type": "markdown",
      "metadata": {
        "id": "view-in-github",
        "colab_type": "text"
      },
      "source": [
        "<a href=\"https://colab.research.google.com/github/luca-arts/seeingtheimperceptible/blob/main/notebooks/total_flow.ipynb\" target=\"_parent\"><img src=\"https://colab.research.google.com/assets/colab-badge.svg\" alt=\"Open In Colab\"/></a>"
      ]
    },
    {
      "cell_type": "markdown",
      "source": [
        "# Seeing the imperceptible: total flow\n",
        "\n",
        "this is a notebook which is used to have a set of images move through the processing steps which can individually be found in the topic related folders.\n",
        "\n",
        "A **batch** of images will be processed and all intermediate steps will be saved. This is not an optimized flow, yet a flow allowing the user to intervene where necessary and have updated images continue throughout the flow.\n",
        "\n",
        "This flow is created to test with some experts and capture their feedback, it is not intended for day-to-day usage. One testing day will be organized in which this notebook will be used with some unique images.\n",
        "\n",
        "Open questions: how do we tackle versioning of images? If we manually adapt an image, should we care if someone overwrites the images? I think not for the testing purpose.\n",
        "\n",
        "## steps\n",
        "\n",
        "1. Sensor dust removal\n",
        "2. Image Editing (LaMa)\n",
        "3. Background Removal\n",
        "4. Background Recoloring: not yet\n",
        "5. Clothes recoloring: not yet\n",
        "6. Skin retouching\n",
        "7. Face Detection\n",
        "8. optional: Color Corrections: not yet\n",
        "9. Color Grading: \n",
        "10. Image upscaling"
      ],
      "metadata": {
        "id": "auv1_Ky6GZlc"
      }
    },
    {
      "cell_type": "code",
      "execution_count": 1,
      "metadata": {
        "colab": {
          "base_uri": "https://localhost:8080/"
        },
        "id": "JrpFLD9BGU3q",
        "outputId": "7748c36b-fa90-40f1-9439-5b5e91443ff3"
      },
      "outputs": [
        {
          "output_type": "stream",
          "name": "stdout",
          "text": [
            "  % Total    % Received % Xferd  Average Speed   Time    Time     Time  Current\n",
            "                                 Dload  Upload   Total   Spent    Left  Speed\n",
            "\r  0     0    0     0    0     0      0      0 --:--:-- --:--:-- --:--:--     0\r100  2469  100  2469    0     0  21102      0 --:--:-- --:--:-- --:--:-- 21102\n",
            "what's the username for nextcloud? colab\n",
            "what's the password for user colab? ··········\n",
            "0\n",
            "Please enter the username to authenticate with server\n",
            "https://cloud.bxlab.net/remote.php/dav/files/colab/colabfiles/ or hit enter for none.\n",
            "  Username: Please enter the password to authenticate user colab with server\n",
            "https://cloud.bxlab.net/remote.php/dav/files/colab/colabfiles/ or hit enter for none.\n",
            "  Password:  \n",
            "content of /etc/fstab: https://cloud.bxlab.net/remote.php/dav/files/colab/colabfiles/ /content/database davfs user,rw,auto 0 0\n"
          ]
        }
      ],
      "source": [
        "# first we'll link a database connection:\n",
        "!curl https://raw.githubusercontent.com/luca-arts/seeingtheimperceptible/main/notebooks/database_mod.py -o /content/database_mod.py\n",
        "from database_mod import *\n",
        "\n",
        "link_nextcloud()\n",
        "\n",
        "nextcloud = '/content/database/'"
      ]
    },
    {
      "cell_type": "markdown",
      "source": [
        "## Step 1: Sensor dust removal\n",
        "\n",
        "we'll link the main input folder and write the output images in the output folder of step 1."
      ],
      "metadata": {
        "id": "fB5-jsXmItCP"
      }
    },
    {
      "cell_type": "code",
      "source": [
        "input_step1, output_step1 = create_io(database=nextcloud,topic='total',library='step1_sensor_dust')"
      ],
      "metadata": {
        "id": "9gvKTWPdHkHN"
      },
      "execution_count": 2,
      "outputs": []
    },
    {
      "cell_type": "code",
      "source": [
        "# execute sensordust model"
      ],
      "metadata": {
        "id": "5UWZFZUVI36H"
      },
      "execution_count": 3,
      "outputs": []
    },
    {
      "cell_type": "markdown",
      "source": [
        "### verification\n",
        "\n",
        "Now it's time to go to the database and verify the results. If needed we adapt the images locally. \n",
        "\n",
        "TODO: how easily can we **sync** the images to allow the experts to intervene? Is it possible with nextcloud?"
      ],
      "metadata": {
        "id": "YfTsfHmAI6R4"
      }
    },
    {
      "cell_type": "markdown",
      "source": [
        "## step 2: Minor retouching: image editing LaMa \n",
        "Once verified we want to continue with the next step, being image editing (LaMa model)\n",
        "\n",
        "therefore we link the output folder of previous step to the inputfolder of this step."
      ],
      "metadata": {
        "id": "b0UVWDfIJmUS"
      }
    },
    {
      "cell_type": "code",
      "source": [
        "input_step2, output_step2 = create_io(database=nextcloud,topic='total',library='step2_lama', input_redirect=output_step1)"
      ],
      "metadata": {
        "id": "cgwqUu8IJQm_"
      },
      "execution_count": 4,
      "outputs": []
    },
    {
      "cell_type": "code",
      "source": [
        "print(input_step2, output_step2)"
      ],
      "metadata": {
        "colab": {
          "base_uri": "https://localhost:8080/"
        },
        "id": "iRUbNHttJb3l",
        "outputId": "4d6b6d8d-0728-40d1-e644-dc605d0ee92a"
      },
      "execution_count": 5,
      "outputs": [
        {
          "output_type": "stream",
          "name": "stdout",
          "text": [
            "/content/database/total/step1_sensor_dust /content/database/total/step2_<...>\n"
          ]
        }
      ]
    },
    {
      "cell_type": "code",
      "source": [
        ""
      ],
      "metadata": {
        "id": "iG3cZFNfL-NZ"
      },
      "execution_count": null,
      "outputs": []
    },
    {
      "cell_type": "markdown",
      "source": [
        "## Step 3: background removal\n",
        "\n",
        "Again, verify the outcome of step 2. \n",
        "\n",
        "Now we'll subtract the background using the ModNet model.\n",
        "\n",
        "<!-- Or use the other model if better -->\n",
        "\n"
      ],
      "metadata": {
        "id": "RVknZ2QiAzSE"
      }
    },
    {
      "cell_type": "code",
      "source": [
        "input_step3, output_step3 = create_io(database=nextcloud,topic='total',library='step3_bg_removal', input_redirect=output_step2)"
      ],
      "metadata": {
        "id": "tAAAIFzIBD_Z"
      },
      "execution_count": null,
      "outputs": []
    },
    {
      "cell_type": "code",
      "source": [
        ""
      ],
      "metadata": {
        "id": "H2dRnK6VBMlj"
      },
      "execution_count": null,
      "outputs": []
    },
    {
      "cell_type": "markdown",
      "source": [
        "## Step 4: Background recoloring"
      ],
      "metadata": {
        "id": "JpU9yCF0BLkF"
      }
    },
    {
      "cell_type": "code",
      "source": [
        "input_step4, output_step4 = create_io(database=nextcloud,topic='total',library='step4_bg_coloring', input_redirect=output_step3)"
      ],
      "metadata": {
        "id": "_6e2Sl08BZQs"
      },
      "execution_count": null,
      "outputs": []
    },
    {
      "cell_type": "code",
      "source": [
        ""
      ],
      "metadata": {
        "id": "IEm4TRT1BfEt"
      },
      "execution_count": null,
      "outputs": []
    },
    {
      "cell_type": "markdown",
      "source": [
        "## Step 5: "
      ],
      "metadata": {
        "id": "nHvEogQSBfUh"
      }
    }
  ]
}